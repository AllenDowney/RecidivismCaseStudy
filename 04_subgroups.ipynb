{
 "cells": [
  {
   "cell_type": "markdown",
   "metadata": {},
   "source": [
    "# Subgroups\n",
    "\n",
    "Part of a [Recidivism Case Study](https://github.com/AllenDowney/RecidivismCaseStudy)\n",
    "\n",
    "by [Allen Downey](https://allendowney.com)\n",
    "\n",
    "[MIT License](https://opensource.org/licenses/MIT)"
   ]
  },
  {
   "cell_type": "markdown",
   "metadata": {},
   "source": [
    "## Review"
   ]
  },
  {
   "cell_type": "code",
   "execution_count": 17,
   "metadata": {},
   "outputs": [],
   "source": [
    "import pandas as pd\n",
    "import numpy as np\n",
    "import matplotlib.pyplot as plt"
   ]
  },
  {
   "cell_type": "markdown",
   "metadata": {},
   "source": [
    "## Data\n",
    "\n",
    "Thank you to ProPublica and the authors of \"Machine Bias\" for making their data and analysis freely available.\n",
    "\n",
    "[Their repository](https://github.com/propublica/compas-analysis) contains the data and analysis pipeline described in [this supplementary article](https://www.propublica.org/article/how-we-analyzed-the-compas-recidivism-algorithm).\n",
    "\n",
    "The terms of use for the data [are here](https://www.propublica.org/datastore/terms).  In compliance with those terms, I am not redistributing the data.\n",
    "\n",
    "The following cell downloads the data file we'll use directly from their repository."
   ]
  },
  {
   "cell_type": "code",
   "execution_count": 18,
   "metadata": {},
   "outputs": [],
   "source": [
    "import os\n",
    "\n",
    "if not os.path.exists('compas-scores-two-years.csv'):\n",
    "    !wget https://github.com/propublica/compas-analysis/raw/master/compas-scores-two-years.csv"
   ]
  },
  {
   "cell_type": "markdown",
   "metadata": {},
   "source": [
    "The following cell read the data file:"
   ]
  },
  {
   "cell_type": "code",
   "execution_count": 19,
   "metadata": {},
   "outputs": [
    {
     "data": {
      "text/plain": [
       "(7214, 53)"
      ]
     },
     "execution_count": 19,
     "metadata": {},
     "output_type": "execute_result"
    }
   ],
   "source": [
    "cp = pd.read_csv(\"compas-scores-two-years.csv\")\n",
    "cp.shape"
   ]
  },
  {
   "cell_type": "markdown",
   "metadata": {},
   "source": [
    "## Code"
   ]
  },
  {
   "cell_type": "markdown",
   "metadata": {},
   "source": [
    "## The reference class problem\n",
    "\n",
    "In the first notebook we replicated the analysis in the ProPublica article and computed various metrics of accuracy for white and black defendants.  We found that the predictive values (PPV and NPV) were similar for the two groups, but the error rates (FPR and FNR) were substantially different.\n",
    "\n",
    "In the previous notebook, we ran the same analysis for male and female defendants and found the opposite pattern: the error rates are about the same, but the predictive values are different.\n",
    "\n",
    "Neither scenario seems completely fair.  Comparing black and white defendants:\n",
    "\n",
    "* Among non-recidivists, black defendants were more likely to be classified as high risk (false positive).\n",
    "\n",
    "* Among recidivists, white defendants were more likely to be classified as low risk (false negative)."
   ]
  },
  {
   "cell_type": "markdown",
   "metadata": {},
   "source": [
    "Comparing male and female defendants:\n",
    "\n",
    "* Among defendants classified as high risk, female defendants were less likely to recidivate; that is, the test has lower PPV for women.\n",
    "\n",
    "* Among defendants classified as low risk, male defendants were less likely to \"survive\"; that is, the test has lower NPV for men.\n",
    "\n",
    "So it seems like we can't win.  If predictive values are the same for all groups, error rates are not (in general).  And if error rates are the same, predictive values are not."
   ]
  },
  {
   "cell_type": "markdown",
   "metadata": {},
   "source": [
    "Nevertheless, the designers of a test like COMPAS can make trade-offs among these kinds of errors.  And that raises two questions I would like to explore:\n",
    "\n",
    "1. What kind of fairness is COMPAS designed to achieve?  Are they trying to make predictive value the same for all groups?  Or error rates?  Or some compromise?\n",
    "\n",
    "2. What kind of fairness *should* a test like COMPAS achieve?\n",
    "\n",
    "To explore the first question, I will compute accuracy metrics for defendants grouped by age, race, and sex, and for the intersections of these groups (explained below)."
   ]
  },
  {
   "cell_type": "markdown",
   "metadata": {},
   "source": [
    "## Groups\n",
    "\n",
    "The following function takes a DataFrame containing COMPAS data and a list of variables to group by.  It returns a table with one row for each group and one column for each accuracy metric."
   ]
  },
  {
   "cell_type": "code",
   "execution_count": 58,
   "metadata": {},
   "outputs": [],
   "source": [
    "def make_table(cp, group_vars):\n",
    "    \"\"\"Make a table of metrics for each subgroup.\n",
    "    \n",
    "    cp: DataFrame of COMPAS data\n",
    "    group_vars: string or list of variable names to group by\n",
    "    \n",
    "    returns: DataFrame\n",
    "    \"\"\"\n",
    "    # count the number of defendants in each group\n",
    "    grouped = cp.groupby(group_vars)\n",
    "    counts = grouped['id'].count()\n",
    "\n",
    "    # make the table\n",
    "    columns = ['FPR', 'FNR', 'PPV', 'NPV', 'Prevalence']\n",
    "    table = pd.DataFrame(index=counts.index, \n",
    "                         columns=columns, \n",
    "                         dtype=float)\n",
    "\n",
    "    # fill in the table\n",
    "    for name, group in grouped:\n",
    "        if len(group) < 50:\n",
    "            continue\n",
    "        m = make_matrix(group)\n",
    "        metrics = compute_metrics(m)\n",
    "        table.loc[name] = metrics['Percent']\n",
    "    \n",
    "    table['Count'] = counts\n",
    "    return table"
   ]
  },
  {
   "cell_type": "markdown",
   "metadata": {},
   "source": [
    "Here's the table for defendants grouped by race."
   ]
  },
  {
   "cell_type": "code",
   "execution_count": 59,
   "metadata": {},
   "outputs": [
    {
     "data": {
      "text/html": [
       "<div>\n",
       "<style scoped>\n",
       "    .dataframe tbody tr th:only-of-type {\n",
       "        vertical-align: middle;\n",
       "    }\n",
       "\n",
       "    .dataframe tbody tr th {\n",
       "        vertical-align: top;\n",
       "    }\n",
       "\n",
       "    .dataframe thead th {\n",
       "        text-align: right;\n",
       "    }\n",
       "</style>\n",
       "<table border=\"1\" class=\"dataframe\">\n",
       "  <thead>\n",
       "    <tr style=\"text-align: right;\">\n",
       "      <th></th>\n",
       "      <th>FPR</th>\n",
       "      <th>FNR</th>\n",
       "      <th>PPV</th>\n",
       "      <th>NPV</th>\n",
       "      <th>Prevalence</th>\n",
       "      <th>Count</th>\n",
       "    </tr>\n",
       "    <tr>\n",
       "      <th>race</th>\n",
       "      <th></th>\n",
       "      <th></th>\n",
       "      <th></th>\n",
       "      <th></th>\n",
       "      <th></th>\n",
       "      <th></th>\n",
       "    </tr>\n",
       "  </thead>\n",
       "  <tbody>\n",
       "    <tr>\n",
       "      <th>African-American</th>\n",
       "      <td>44.846797</td>\n",
       "      <td>27.985271</td>\n",
       "      <td>62.971481</td>\n",
       "      <td>65.045992</td>\n",
       "      <td>51.433983</td>\n",
       "      <td>3696</td>\n",
       "    </tr>\n",
       "    <tr>\n",
       "      <th>Asian</th>\n",
       "      <td>NaN</td>\n",
       "      <td>NaN</td>\n",
       "      <td>NaN</td>\n",
       "      <td>NaN</td>\n",
       "      <td>NaN</td>\n",
       "      <td>32</td>\n",
       "    </tr>\n",
       "    <tr>\n",
       "      <th>Caucasian</th>\n",
       "      <td>23.454301</td>\n",
       "      <td>47.722567</td>\n",
       "      <td>59.133489</td>\n",
       "      <td>71.187500</td>\n",
       "      <td>39.364303</td>\n",
       "      <td>2454</td>\n",
       "    </tr>\n",
       "    <tr>\n",
       "      <th>Hispanic</th>\n",
       "      <td>21.481481</td>\n",
       "      <td>55.603448</td>\n",
       "      <td>54.210526</td>\n",
       "      <td>71.140940</td>\n",
       "      <td>36.420722</td>\n",
       "      <td>637</td>\n",
       "    </tr>\n",
       "    <tr>\n",
       "      <th>Native American</th>\n",
       "      <td>NaN</td>\n",
       "      <td>NaN</td>\n",
       "      <td>NaN</td>\n",
       "      <td>NaN</td>\n",
       "      <td>NaN</td>\n",
       "      <td>18</td>\n",
       "    </tr>\n",
       "    <tr>\n",
       "      <th>Other</th>\n",
       "      <td>14.754098</td>\n",
       "      <td>67.669173</td>\n",
       "      <td>54.430380</td>\n",
       "      <td>69.798658</td>\n",
       "      <td>35.278515</td>\n",
       "      <td>377</td>\n",
       "    </tr>\n",
       "  </tbody>\n",
       "</table>\n",
       "</div>"
      ],
      "text/plain": [
       "                        FPR        FNR        PPV        NPV  Prevalence  \\\n",
       "race                                                                       \n",
       "African-American  44.846797  27.985271  62.971481  65.045992   51.433983   \n",
       "Asian                   NaN        NaN        NaN        NaN         NaN   \n",
       "Caucasian         23.454301  47.722567  59.133489  71.187500   39.364303   \n",
       "Hispanic          21.481481  55.603448  54.210526  71.140940   36.420722   \n",
       "Native American         NaN        NaN        NaN        NaN         NaN   \n",
       "Other             14.754098  67.669173  54.430380  69.798658   35.278515   \n",
       "\n",
       "                  Count  \n",
       "race                     \n",
       "African-American   3696  \n",
       "Asian                32  \n",
       "Caucasian          2454  \n",
       "Hispanic            637  \n",
       "Native American      18  \n",
       "Other               377  "
      ]
     },
     "execution_count": 59,
     "metadata": {},
     "output_type": "execute_result"
    }
   ],
   "source": [
    "table1 = make_table(cp, 'race')\n",
    "table1"
   ]
  },
  {
   "cell_type": "markdown",
   "metadata": {},
   "source": [
    "Some rows contain `NaN` values because I did not compute metrics for groups with fewer than 50 defendants.\n",
    "\n",
    "`table1` confirms results from previous analysis and extends them to other groups:\n",
    "\n",
    "* Predicive values are comparable for all racial groups, although PPV is highest for black defendants and NPV is lowest.\n",
    "\n",
    "* Error rates are substantially different in different groups.  FPR is highest for black defendants, lower for white and Hispanic defendants, and lowest for defendants in other racial groups.  FNR is highest for Other and lowest for African-American.\n",
    "\n",
    "The following table shows the breakdown by sex."
   ]
  },
  {
   "cell_type": "code",
   "execution_count": 60,
   "metadata": {},
   "outputs": [
    {
     "data": {
      "text/html": [
       "<div>\n",
       "<style scoped>\n",
       "    .dataframe tbody tr th:only-of-type {\n",
       "        vertical-align: middle;\n",
       "    }\n",
       "\n",
       "    .dataframe tbody tr th {\n",
       "        vertical-align: top;\n",
       "    }\n",
       "\n",
       "    .dataframe thead th {\n",
       "        text-align: right;\n",
       "    }\n",
       "</style>\n",
       "<table border=\"1\" class=\"dataframe\">\n",
       "  <thead>\n",
       "    <tr style=\"text-align: right;\">\n",
       "      <th></th>\n",
       "      <th>FPR</th>\n",
       "      <th>FNR</th>\n",
       "      <th>PPV</th>\n",
       "      <th>NPV</th>\n",
       "      <th>Prevalence</th>\n",
       "      <th>Count</th>\n",
       "    </tr>\n",
       "    <tr>\n",
       "      <th>sex</th>\n",
       "      <th></th>\n",
       "      <th></th>\n",
       "      <th></th>\n",
       "      <th></th>\n",
       "      <th></th>\n",
       "      <th></th>\n",
       "    </tr>\n",
       "  </thead>\n",
       "  <tbody>\n",
       "    <tr>\n",
       "      <th>Female</th>\n",
       "      <td>32.107023</td>\n",
       "      <td>39.156627</td>\n",
       "      <td>51.269036</td>\n",
       "      <td>75.746269</td>\n",
       "      <td>35.698925</td>\n",
       "      <td>1395</td>\n",
       "    </tr>\n",
       "    <tr>\n",
       "      <th>Male</th>\n",
       "      <td>32.420091</td>\n",
       "      <td>37.086814</td>\n",
       "      <td>63.536317</td>\n",
       "      <td>66.989977</td>\n",
       "      <td>47.310534</td>\n",
       "      <td>5819</td>\n",
       "    </tr>\n",
       "  </tbody>\n",
       "</table>\n",
       "</div>"
      ],
      "text/plain": [
       "              FPR        FNR        PPV        NPV  Prevalence  Count\n",
       "sex                                                                  \n",
       "Female  32.107023  39.156627  51.269036  75.746269   35.698925   1395\n",
       "Male    32.420091  37.086814  63.536317  66.989977   47.310534   5819"
      ]
     },
     "execution_count": 60,
     "metadata": {},
     "output_type": "execute_result"
    }
   ],
   "source": [
    "table2 = make_table(cp, 'sex')\n",
    "table2"
   ]
  },
  {
   "cell_type": "markdown",
   "metadata": {},
   "source": [
    "Again, these results are consistent with previous analysis.  Comparing male and female defendants, the error rates are comparable, but the predictive values are substantially different.\n",
    "\n",
    "Next we'll look at the breakdown by age, but first I'll recode the age categories so their ordering in the table is more logical:"
   ]
  },
  {
   "cell_type": "code",
   "execution_count": 61,
   "metadata": {},
   "outputs": [
    {
     "data": {
      "text/plain": [
       "Index(['25 - 45', 'Greater than 45', 'Less than 25'], dtype='object')"
      ]
     },
     "execution_count": 61,
     "metadata": {},
     "output_type": "execute_result"
    }
   ],
   "source": [
    "cp['age_cat'].value_counts().index"
   ]
  },
  {
   "cell_type": "code",
   "execution_count": 62,
   "metadata": {},
   "outputs": [],
   "source": [
    "d = {'Less than 25':   '1 Younger than 25',\n",
    "     '25 - 45':        '2 Between 25 - 45', \n",
    "     'Greater than 45':'3 Older than 45'}\n",
    "cp['age_cat_recode'] = cp['age_cat'].replace(d)"
   ]
  },
  {
   "cell_type": "markdown",
   "metadata": {},
   "source": [
    "Here's the breakdown by age group:"
   ]
  },
  {
   "cell_type": "code",
   "execution_count": 63,
   "metadata": {},
   "outputs": [
    {
     "data": {
      "text/html": [
       "<div>\n",
       "<style scoped>\n",
       "    .dataframe tbody tr th:only-of-type {\n",
       "        vertical-align: middle;\n",
       "    }\n",
       "\n",
       "    .dataframe tbody tr th {\n",
       "        vertical-align: top;\n",
       "    }\n",
       "\n",
       "    .dataframe thead th {\n",
       "        text-align: right;\n",
       "    }\n",
       "</style>\n",
       "<table border=\"1\" class=\"dataframe\">\n",
       "  <thead>\n",
       "    <tr style=\"text-align: right;\">\n",
       "      <th></th>\n",
       "      <th>FPR</th>\n",
       "      <th>FNR</th>\n",
       "      <th>PPV</th>\n",
       "      <th>NPV</th>\n",
       "      <th>Prevalence</th>\n",
       "      <th>Count</th>\n",
       "    </tr>\n",
       "    <tr>\n",
       "      <th>age_cat_recode</th>\n",
       "      <th></th>\n",
       "      <th></th>\n",
       "      <th></th>\n",
       "      <th></th>\n",
       "      <th></th>\n",
       "      <th></th>\n",
       "    </tr>\n",
       "  </thead>\n",
       "  <tbody>\n",
       "    <tr>\n",
       "      <th>1 Younger than 25</th>\n",
       "      <td>54.135338</td>\n",
       "      <td>26.041667</td>\n",
       "      <td>63.963964</td>\n",
       "      <td>57.547170</td>\n",
       "      <td>56.507521</td>\n",
       "      <td>1529</td>\n",
       "    </tr>\n",
       "    <tr>\n",
       "      <th>2 Between 25 - 45</th>\n",
       "      <td>33.378378</td>\n",
       "      <td>37.374272</td>\n",
       "      <td>61.486486</td>\n",
       "      <td>67.688787</td>\n",
       "      <td>45.972256</td>\n",
       "      <td>4109</td>\n",
       "    </tr>\n",
       "    <tr>\n",
       "      <th>3 Older than 45</th>\n",
       "      <td>16.790353</td>\n",
       "      <td>57.228916</td>\n",
       "      <td>54.060914</td>\n",
       "      <td>75.888325</td>\n",
       "      <td>31.598985</td>\n",
       "      <td>1576</td>\n",
       "    </tr>\n",
       "  </tbody>\n",
       "</table>\n",
       "</div>"
      ],
      "text/plain": [
       "                         FPR        FNR        PPV        NPV  Prevalence  \\\n",
       "age_cat_recode                                                              \n",
       "1 Younger than 25  54.135338  26.041667  63.963964  57.547170   56.507521   \n",
       "2 Between 25 - 45  33.378378  37.374272  61.486486  67.688787   45.972256   \n",
       "3 Older than 45    16.790353  57.228916  54.060914  75.888325   31.598985   \n",
       "\n",
       "                   Count  \n",
       "age_cat_recode            \n",
       "1 Younger than 25   1529  \n",
       "2 Between 25 - 45   4109  \n",
       "3 Older than 45     1576  "
      ]
     },
     "execution_count": 63,
     "metadata": {},
     "output_type": "execute_result"
    }
   ],
   "source": [
    "table3 = make_table(cp, 'age_cat_recode')\n",
    "table3"
   ]
  },
  {
   "cell_type": "markdown",
   "metadata": {},
   "source": [
    "This table shows some patterns we have seen before \n",
    "\n",
    "* In groups with high prevalence, FPR is relatively high and FNR relatively low.\n",
    "\n",
    "* In groups with high prevalence, PPV is relatively hight and NPV relatively low.\n",
    "\n",
    "But it is still not clear whether COMPAS is trying to achieve constant error rates, constant predictive values, or a compromise between the two.\n",
    "\n",
    "It is also not clear what we can say about defendants in the intersections of these groups.  What are the metrics for a white male, or an older Hispanic defendant?\n",
    "\n",
    "I'll compute these intersections in the next section."
   ]
  },
  {
   "cell_type": "markdown",
   "metadata": {},
   "source": [
    "## Intersections\n",
    "\n",
    "In this section I'll compute metrics for defendants grouped by\n",
    "\n",
    "* Race and sex\n",
    "\n",
    "* Race and age\n",
    "\n",
    "* Sex and age\n",
    "\n",
    "* Race, sex, and age\n",
    "\n",
    "Then we'll plot the results."
   ]
  },
  {
   "cell_type": "code",
   "execution_count": 64,
   "metadata": {},
   "outputs": [
    {
     "data": {
      "text/html": [
       "<div>\n",
       "<style scoped>\n",
       "    .dataframe tbody tr th:only-of-type {\n",
       "        vertical-align: middle;\n",
       "    }\n",
       "\n",
       "    .dataframe tbody tr th {\n",
       "        vertical-align: top;\n",
       "    }\n",
       "\n",
       "    .dataframe thead th {\n",
       "        text-align: right;\n",
       "    }\n",
       "</style>\n",
       "<table border=\"1\" class=\"dataframe\">\n",
       "  <thead>\n",
       "    <tr style=\"text-align: right;\">\n",
       "      <th></th>\n",
       "      <th></th>\n",
       "      <th>FPR</th>\n",
       "      <th>FNR</th>\n",
       "      <th>PPV</th>\n",
       "      <th>NPV</th>\n",
       "      <th>Prevalence</th>\n",
       "      <th>Count</th>\n",
       "    </tr>\n",
       "    <tr>\n",
       "      <th>race</th>\n",
       "      <th>sex</th>\n",
       "      <th></th>\n",
       "      <th></th>\n",
       "      <th></th>\n",
       "      <th></th>\n",
       "      <th></th>\n",
       "      <th></th>\n",
       "    </tr>\n",
       "  </thead>\n",
       "  <tbody>\n",
       "    <tr>\n",
       "      <th rowspan=\"2\" valign=\"top\">African-American</th>\n",
       "      <th>Female</th>\n",
       "      <td>40.493827</td>\n",
       "      <td>29.959514</td>\n",
       "      <td>51.335312</td>\n",
       "      <td>76.507937</td>\n",
       "      <td>37.883436</td>\n",
       "      <td>652</td>\n",
       "    </tr>\n",
       "    <tr>\n",
       "      <th>Male</th>\n",
       "      <td>46.115108</td>\n",
       "      <td>27.690447</td>\n",
       "      <td>65.106151</td>\n",
       "      <td>62.054681</td>\n",
       "      <td>54.336399</td>\n",
       "      <td>3044</td>\n",
       "    </tr>\n",
       "    <tr>\n",
       "      <th rowspan=\"2\" valign=\"top\">Asian</th>\n",
       "      <th>Female</th>\n",
       "      <td>NaN</td>\n",
       "      <td>NaN</td>\n",
       "      <td>NaN</td>\n",
       "      <td>NaN</td>\n",
       "      <td>NaN</td>\n",
       "      <td>2</td>\n",
       "    </tr>\n",
       "    <tr>\n",
       "      <th>Male</th>\n",
       "      <td>NaN</td>\n",
       "      <td>NaN</td>\n",
       "      <td>NaN</td>\n",
       "      <td>NaN</td>\n",
       "      <td>NaN</td>\n",
       "      <td>30</td>\n",
       "    </tr>\n",
       "    <tr>\n",
       "      <th rowspan=\"2\" valign=\"top\">Caucasian</th>\n",
       "      <th>Female</th>\n",
       "      <td>30.163043</td>\n",
       "      <td>43.216080</td>\n",
       "      <td>50.446429</td>\n",
       "      <td>74.927114</td>\n",
       "      <td>35.097002</td>\n",
       "      <td>567</td>\n",
       "    </tr>\n",
       "    <tr>\n",
       "      <th>Male</th>\n",
       "      <td>21.250000</td>\n",
       "      <td>48.891786</td>\n",
       "      <td>62.222222</td>\n",
       "      <td>70.167064</td>\n",
       "      <td>40.646529</td>\n",
       "      <td>1887</td>\n",
       "    </tr>\n",
       "    <tr>\n",
       "      <th rowspan=\"2\" valign=\"top\">Hispanic</th>\n",
       "      <th>Female</th>\n",
       "      <td>10.000000</td>\n",
       "      <td>72.727273</td>\n",
       "      <td>56.250000</td>\n",
       "      <td>72.413793</td>\n",
       "      <td>32.038835</td>\n",
       "      <td>103</td>\n",
       "    </tr>\n",
       "    <tr>\n",
       "      <th>Male</th>\n",
       "      <td>23.880597</td>\n",
       "      <td>52.763819</td>\n",
       "      <td>54.022989</td>\n",
       "      <td>70.833333</td>\n",
       "      <td>37.265918</td>\n",
       "      <td>534</td>\n",
       "    </tr>\n",
       "    <tr>\n",
       "      <th rowspan=\"2\" valign=\"top\">Native American</th>\n",
       "      <th>Female</th>\n",
       "      <td>NaN</td>\n",
       "      <td>NaN</td>\n",
       "      <td>NaN</td>\n",
       "      <td>NaN</td>\n",
       "      <td>NaN</td>\n",
       "      <td>4</td>\n",
       "    </tr>\n",
       "    <tr>\n",
       "      <th>Male</th>\n",
       "      <td>NaN</td>\n",
       "      <td>NaN</td>\n",
       "      <td>NaN</td>\n",
       "      <td>NaN</td>\n",
       "      <td>NaN</td>\n",
       "      <td>14</td>\n",
       "    </tr>\n",
       "    <tr>\n",
       "      <th rowspan=\"2\" valign=\"top\">Other</th>\n",
       "      <th>Female</th>\n",
       "      <td>11.538462</td>\n",
       "      <td>66.666667</td>\n",
       "      <td>45.454545</td>\n",
       "      <td>82.142857</td>\n",
       "      <td>22.388060</td>\n",
       "      <td>67</td>\n",
       "    </tr>\n",
       "    <tr>\n",
       "      <th>Male</th>\n",
       "      <td>15.625000</td>\n",
       "      <td>67.796610</td>\n",
       "      <td>55.882353</td>\n",
       "      <td>66.942149</td>\n",
       "      <td>38.064516</td>\n",
       "      <td>310</td>\n",
       "    </tr>\n",
       "  </tbody>\n",
       "</table>\n",
       "</div>"
      ],
      "text/plain": [
       "                               FPR        FNR        PPV        NPV  \\\n",
       "race             sex                                                  \n",
       "African-American Female  40.493827  29.959514  51.335312  76.507937   \n",
       "                 Male    46.115108  27.690447  65.106151  62.054681   \n",
       "Asian            Female        NaN        NaN        NaN        NaN   \n",
       "                 Male          NaN        NaN        NaN        NaN   \n",
       "Caucasian        Female  30.163043  43.216080  50.446429  74.927114   \n",
       "                 Male    21.250000  48.891786  62.222222  70.167064   \n",
       "Hispanic         Female  10.000000  72.727273  56.250000  72.413793   \n",
       "                 Male    23.880597  52.763819  54.022989  70.833333   \n",
       "Native American  Female        NaN        NaN        NaN        NaN   \n",
       "                 Male          NaN        NaN        NaN        NaN   \n",
       "Other            Female  11.538462  66.666667  45.454545  82.142857   \n",
       "                 Male    15.625000  67.796610  55.882353  66.942149   \n",
       "\n",
       "                         Prevalence  Count  \n",
       "race             sex                        \n",
       "African-American Female   37.883436    652  \n",
       "                 Male     54.336399   3044  \n",
       "Asian            Female         NaN      2  \n",
       "                 Male           NaN     30  \n",
       "Caucasian        Female   35.097002    567  \n",
       "                 Male     40.646529   1887  \n",
       "Hispanic         Female   32.038835    103  \n",
       "                 Male     37.265918    534  \n",
       "Native American  Female         NaN      4  \n",
       "                 Male           NaN     14  \n",
       "Other            Female   22.388060     67  \n",
       "                 Male     38.064516    310  "
      ]
     },
     "execution_count": 64,
     "metadata": {},
     "output_type": "execute_result"
    }
   ],
   "source": [
    "table4 = make_table(cp, ['race', 'sex'])\n",
    "table4"
   ]
  },
  {
   "cell_type": "code",
   "execution_count": 65,
   "metadata": {},
   "outputs": [
    {
     "data": {
      "text/html": [
       "<div>\n",
       "<style scoped>\n",
       "    .dataframe tbody tr th:only-of-type {\n",
       "        vertical-align: middle;\n",
       "    }\n",
       "\n",
       "    .dataframe tbody tr th {\n",
       "        vertical-align: top;\n",
       "    }\n",
       "\n",
       "    .dataframe thead th {\n",
       "        text-align: right;\n",
       "    }\n",
       "</style>\n",
       "<table border=\"1\" class=\"dataframe\">\n",
       "  <thead>\n",
       "    <tr style=\"text-align: right;\">\n",
       "      <th></th>\n",
       "      <th></th>\n",
       "      <th>FPR</th>\n",
       "      <th>FNR</th>\n",
       "      <th>PPV</th>\n",
       "      <th>NPV</th>\n",
       "      <th>Prevalence</th>\n",
       "      <th>Count</th>\n",
       "    </tr>\n",
       "    <tr>\n",
       "      <th>race</th>\n",
       "      <th>age_cat_recode</th>\n",
       "      <th></th>\n",
       "      <th></th>\n",
       "      <th></th>\n",
       "      <th></th>\n",
       "      <th></th>\n",
       "      <th></th>\n",
       "    </tr>\n",
       "  </thead>\n",
       "  <tbody>\n",
       "    <tr>\n",
       "      <th rowspan=\"3\" valign=\"top\">African-American</th>\n",
       "      <th>1 Younger than 25</th>\n",
       "      <td>59.888579</td>\n",
       "      <td>23.172906</td>\n",
       "      <td>66.718266</td>\n",
       "      <td>52.554745</td>\n",
       "      <td>60.978261</td>\n",
       "      <td>920</td>\n",
       "    </tr>\n",
       "    <tr>\n",
       "      <th>2 Between 25 - 45</th>\n",
       "      <td>44.095941</td>\n",
       "      <td>27.657658</td>\n",
       "      <td>62.685402</td>\n",
       "      <td>66.374589</td>\n",
       "      <td>50.592525</td>\n",
       "      <td>2194</td>\n",
       "    </tr>\n",
       "    <tr>\n",
       "      <th>3 Older than 45</th>\n",
       "      <td>31.818182</td>\n",
       "      <td>41.304348</td>\n",
       "      <td>54.655870</td>\n",
       "      <td>71.641791</td>\n",
       "      <td>39.518900</td>\n",
       "      <td>582</td>\n",
       "    </tr>\n",
       "    <tr>\n",
       "      <th rowspan=\"3\" valign=\"top\">Asian</th>\n",
       "      <th>1 Younger than 25</th>\n",
       "      <td>NaN</td>\n",
       "      <td>NaN</td>\n",
       "      <td>NaN</td>\n",
       "      <td>NaN</td>\n",
       "      <td>NaN</td>\n",
       "      <td>7</td>\n",
       "    </tr>\n",
       "    <tr>\n",
       "      <th>2 Between 25 - 45</th>\n",
       "      <td>NaN</td>\n",
       "      <td>NaN</td>\n",
       "      <td>NaN</td>\n",
       "      <td>NaN</td>\n",
       "      <td>NaN</td>\n",
       "      <td>14</td>\n",
       "    </tr>\n",
       "    <tr>\n",
       "      <th>3 Older than 45</th>\n",
       "      <td>NaN</td>\n",
       "      <td>NaN</td>\n",
       "      <td>NaN</td>\n",
       "      <td>NaN</td>\n",
       "      <td>NaN</td>\n",
       "      <td>11</td>\n",
       "    </tr>\n",
       "    <tr>\n",
       "      <th rowspan=\"3\" valign=\"top\">Caucasian</th>\n",
       "      <th>1 Younger than 25</th>\n",
       "      <td>48.743719</td>\n",
       "      <td>26.701571</td>\n",
       "      <td>59.071730</td>\n",
       "      <td>66.666667</td>\n",
       "      <td>48.974359</td>\n",
       "      <td>390</td>\n",
       "    </tr>\n",
       "    <tr>\n",
       "      <th>2 Between 25 - 45</th>\n",
       "      <td>26.809651</td>\n",
       "      <td>46.996466</td>\n",
       "      <td>60.000000</td>\n",
       "      <td>67.241379</td>\n",
       "      <td>43.140244</td>\n",
       "      <td>1312</td>\n",
       "    </tr>\n",
       "    <tr>\n",
       "      <th>3 Older than 45</th>\n",
       "      <td>9.576427</td>\n",
       "      <td>68.899522</td>\n",
       "      <td>55.555556</td>\n",
       "      <td>77.322835</td>\n",
       "      <td>27.792553</td>\n",
       "      <td>752</td>\n",
       "    </tr>\n",
       "    <tr>\n",
       "      <th rowspan=\"3\" valign=\"top\">Hispanic</th>\n",
       "      <th>1 Younger than 25</th>\n",
       "      <td>47.540984</td>\n",
       "      <td>36.363636</td>\n",
       "      <td>59.154930</td>\n",
       "      <td>57.142857</td>\n",
       "      <td>51.968504</td>\n",
       "      <td>127</td>\n",
       "    </tr>\n",
       "    <tr>\n",
       "      <th>2 Between 25 - 45</th>\n",
       "      <td>18.534483</td>\n",
       "      <td>59.259259</td>\n",
       "      <td>56.122449</td>\n",
       "      <td>70.260223</td>\n",
       "      <td>36.784741</td>\n",
       "      <td>367</td>\n",
       "    </tr>\n",
       "    <tr>\n",
       "      <th>3 Older than 45</th>\n",
       "      <td>13.392857</td>\n",
       "      <td>80.645161</td>\n",
       "      <td>28.571429</td>\n",
       "      <td>79.508197</td>\n",
       "      <td>21.678322</td>\n",
       "      <td>143</td>\n",
       "    </tr>\n",
       "    <tr>\n",
       "      <th rowspan=\"3\" valign=\"top\">Native American</th>\n",
       "      <th>1 Younger than 25</th>\n",
       "      <td>NaN</td>\n",
       "      <td>NaN</td>\n",
       "      <td>NaN</td>\n",
       "      <td>NaN</td>\n",
       "      <td>NaN</td>\n",
       "      <td>3</td>\n",
       "    </tr>\n",
       "    <tr>\n",
       "      <th>2 Between 25 - 45</th>\n",
       "      <td>NaN</td>\n",
       "      <td>NaN</td>\n",
       "      <td>NaN</td>\n",
       "      <td>NaN</td>\n",
       "      <td>NaN</td>\n",
       "      <td>12</td>\n",
       "    </tr>\n",
       "    <tr>\n",
       "      <th>3 Older than 45</th>\n",
       "      <td>NaN</td>\n",
       "      <td>NaN</td>\n",
       "      <td>NaN</td>\n",
       "      <td>NaN</td>\n",
       "      <td>NaN</td>\n",
       "      <td>3</td>\n",
       "    </tr>\n",
       "    <tr>\n",
       "      <th rowspan=\"3\" valign=\"top\">Other</th>\n",
       "      <th>1 Younger than 25</th>\n",
       "      <td>45.238095</td>\n",
       "      <td>47.500000</td>\n",
       "      <td>52.500000</td>\n",
       "      <td>54.761905</td>\n",
       "      <td>48.780488</td>\n",
       "      <td>82</td>\n",
       "    </tr>\n",
       "    <tr>\n",
       "      <th>2 Between 25 - 45</th>\n",
       "      <td>10.791367</td>\n",
       "      <td>73.239437</td>\n",
       "      <td>55.882353</td>\n",
       "      <td>70.454545</td>\n",
       "      <td>33.809524</td>\n",
       "      <td>210</td>\n",
       "    </tr>\n",
       "    <tr>\n",
       "      <th>3 Older than 45</th>\n",
       "      <td>3.174603</td>\n",
       "      <td>86.363636</td>\n",
       "      <td>60.000000</td>\n",
       "      <td>76.250000</td>\n",
       "      <td>25.882353</td>\n",
       "      <td>85</td>\n",
       "    </tr>\n",
       "  </tbody>\n",
       "</table>\n",
       "</div>"
      ],
      "text/plain": [
       "                                          FPR        FNR        PPV  \\\n",
       "race             age_cat_recode                                       \n",
       "African-American 1 Younger than 25  59.888579  23.172906  66.718266   \n",
       "                 2 Between 25 - 45  44.095941  27.657658  62.685402   \n",
       "                 3 Older than 45    31.818182  41.304348  54.655870   \n",
       "Asian            1 Younger than 25        NaN        NaN        NaN   \n",
       "                 2 Between 25 - 45        NaN        NaN        NaN   \n",
       "                 3 Older than 45          NaN        NaN        NaN   \n",
       "Caucasian        1 Younger than 25  48.743719  26.701571  59.071730   \n",
       "                 2 Between 25 - 45  26.809651  46.996466  60.000000   \n",
       "                 3 Older than 45     9.576427  68.899522  55.555556   \n",
       "Hispanic         1 Younger than 25  47.540984  36.363636  59.154930   \n",
       "                 2 Between 25 - 45  18.534483  59.259259  56.122449   \n",
       "                 3 Older than 45    13.392857  80.645161  28.571429   \n",
       "Native American  1 Younger than 25        NaN        NaN        NaN   \n",
       "                 2 Between 25 - 45        NaN        NaN        NaN   \n",
       "                 3 Older than 45          NaN        NaN        NaN   \n",
       "Other            1 Younger than 25  45.238095  47.500000  52.500000   \n",
       "                 2 Between 25 - 45  10.791367  73.239437  55.882353   \n",
       "                 3 Older than 45     3.174603  86.363636  60.000000   \n",
       "\n",
       "                                          NPV  Prevalence  Count  \n",
       "race             age_cat_recode                                   \n",
       "African-American 1 Younger than 25  52.554745   60.978261    920  \n",
       "                 2 Between 25 - 45  66.374589   50.592525   2194  \n",
       "                 3 Older than 45    71.641791   39.518900    582  \n",
       "Asian            1 Younger than 25        NaN         NaN      7  \n",
       "                 2 Between 25 - 45        NaN         NaN     14  \n",
       "                 3 Older than 45          NaN         NaN     11  \n",
       "Caucasian        1 Younger than 25  66.666667   48.974359    390  \n",
       "                 2 Between 25 - 45  67.241379   43.140244   1312  \n",
       "                 3 Older than 45    77.322835   27.792553    752  \n",
       "Hispanic         1 Younger than 25  57.142857   51.968504    127  \n",
       "                 2 Between 25 - 45  70.260223   36.784741    367  \n",
       "                 3 Older than 45    79.508197   21.678322    143  \n",
       "Native American  1 Younger than 25        NaN         NaN      3  \n",
       "                 2 Between 25 - 45        NaN         NaN     12  \n",
       "                 3 Older than 45          NaN         NaN      3  \n",
       "Other            1 Younger than 25  54.761905   48.780488     82  \n",
       "                 2 Between 25 - 45  70.454545   33.809524    210  \n",
       "                 3 Older than 45    76.250000   25.882353     85  "
      ]
     },
     "execution_count": 65,
     "metadata": {},
     "output_type": "execute_result"
    }
   ],
   "source": [
    "table5 = make_table(cp, ['race', 'age_cat_recode'])\n",
    "table5"
   ]
  },
  {
   "cell_type": "code",
   "execution_count": 66,
   "metadata": {},
   "outputs": [
    {
     "data": {
      "text/html": [
       "<div>\n",
       "<style scoped>\n",
       "    .dataframe tbody tr th:only-of-type {\n",
       "        vertical-align: middle;\n",
       "    }\n",
       "\n",
       "    .dataframe tbody tr th {\n",
       "        vertical-align: top;\n",
       "    }\n",
       "\n",
       "    .dataframe thead th {\n",
       "        text-align: right;\n",
       "    }\n",
       "</style>\n",
       "<table border=\"1\" class=\"dataframe\">\n",
       "  <thead>\n",
       "    <tr style=\"text-align: right;\">\n",
       "      <th></th>\n",
       "      <th></th>\n",
       "      <th>FPR</th>\n",
       "      <th>FNR</th>\n",
       "      <th>PPV</th>\n",
       "      <th>NPV</th>\n",
       "      <th>Prevalence</th>\n",
       "      <th>Count</th>\n",
       "    </tr>\n",
       "    <tr>\n",
       "      <th>sex</th>\n",
       "      <th>age_cat</th>\n",
       "      <th></th>\n",
       "      <th></th>\n",
       "      <th></th>\n",
       "      <th></th>\n",
       "      <th></th>\n",
       "      <th></th>\n",
       "    </tr>\n",
       "  </thead>\n",
       "  <tbody>\n",
       "    <tr>\n",
       "      <th rowspan=\"3\" valign=\"top\">Female</th>\n",
       "      <th>25 - 45</th>\n",
       "      <td>29.411765</td>\n",
       "      <td>40.764331</td>\n",
       "      <td>56.193353</td>\n",
       "      <td>73.109244</td>\n",
       "      <td>38.909542</td>\n",
       "      <td>807</td>\n",
       "    </tr>\n",
       "    <tr>\n",
       "      <th>Greater than 45</th>\n",
       "      <td>15.283843</td>\n",
       "      <td>66.197183</td>\n",
       "      <td>40.677966</td>\n",
       "      <td>80.497925</td>\n",
       "      <td>23.666667</td>\n",
       "      <td>300</td>\n",
       "    </tr>\n",
       "    <tr>\n",
       "      <th>Less than 25</th>\n",
       "      <td>61.714286</td>\n",
       "      <td>17.699115</td>\n",
       "      <td>46.268657</td>\n",
       "      <td>77.011494</td>\n",
       "      <td>39.236111</td>\n",
       "      <td>288</td>\n",
       "    </tr>\n",
       "    <tr>\n",
       "      <th rowspan=\"3\" valign=\"top\">Male</th>\n",
       "      <th>25 - 45</th>\n",
       "      <td>34.510712</td>\n",
       "      <td>36.698413</td>\n",
       "      <td>62.586315</td>\n",
       "      <td>66.179052</td>\n",
       "      <td>47.698365</td>\n",
       "      <td>3302</td>\n",
       "    </tr>\n",
       "    <tr>\n",
       "      <th>Greater than 45</th>\n",
       "      <td>17.196702</td>\n",
       "      <td>55.737705</td>\n",
       "      <td>56.417910</td>\n",
       "      <td>74.707758</td>\n",
       "      <td>33.463950</td>\n",
       "      <td>1276</td>\n",
       "    </tr>\n",
       "    <tr>\n",
       "      <th>Less than 25</th>\n",
       "      <td>51.428571</td>\n",
       "      <td>27.296937</td>\n",
       "      <td>68.421053</td>\n",
       "      <td>53.724605</td>\n",
       "      <td>60.515713</td>\n",
       "      <td>1241</td>\n",
       "    </tr>\n",
       "  </tbody>\n",
       "</table>\n",
       "</div>"
      ],
      "text/plain": [
       "                              FPR        FNR        PPV        NPV  \\\n",
       "sex    age_cat                                                       \n",
       "Female 25 - 45          29.411765  40.764331  56.193353  73.109244   \n",
       "       Greater than 45  15.283843  66.197183  40.677966  80.497925   \n",
       "       Less than 25     61.714286  17.699115  46.268657  77.011494   \n",
       "Male   25 - 45          34.510712  36.698413  62.586315  66.179052   \n",
       "       Greater than 45  17.196702  55.737705  56.417910  74.707758   \n",
       "       Less than 25     51.428571  27.296937  68.421053  53.724605   \n",
       "\n",
       "                        Prevalence  Count  \n",
       "sex    age_cat                             \n",
       "Female 25 - 45           38.909542    807  \n",
       "       Greater than 45   23.666667    300  \n",
       "       Less than 25      39.236111    288  \n",
       "Male   25 - 45           47.698365   3302  \n",
       "       Greater than 45   33.463950   1276  \n",
       "       Less than 25      60.515713   1241  "
      ]
     },
     "execution_count": 66,
     "metadata": {},
     "output_type": "execute_result"
    }
   ],
   "source": [
    "table6 = make_table(cp, ['sex', 'age_cat'])\n",
    "table6"
   ]
  },
  {
   "cell_type": "code",
   "execution_count": 67,
   "metadata": {},
   "outputs": [
    {
     "data": {
      "text/html": [
       "<div>\n",
       "<style scoped>\n",
       "    .dataframe tbody tr th:only-of-type {\n",
       "        vertical-align: middle;\n",
       "    }\n",
       "\n",
       "    .dataframe tbody tr th {\n",
       "        vertical-align: top;\n",
       "    }\n",
       "\n",
       "    .dataframe thead th {\n",
       "        text-align: right;\n",
       "    }\n",
       "</style>\n",
       "<table border=\"1\" class=\"dataframe\">\n",
       "  <thead>\n",
       "    <tr style=\"text-align: right;\">\n",
       "      <th></th>\n",
       "      <th></th>\n",
       "      <th></th>\n",
       "      <th>FPR</th>\n",
       "      <th>FNR</th>\n",
       "      <th>PPV</th>\n",
       "      <th>NPV</th>\n",
       "      <th>Prevalence</th>\n",
       "      <th>Count</th>\n",
       "    </tr>\n",
       "    <tr>\n",
       "      <th>race</th>\n",
       "      <th>sex</th>\n",
       "      <th>age_cat_recode</th>\n",
       "      <th></th>\n",
       "      <th></th>\n",
       "      <th></th>\n",
       "      <th></th>\n",
       "      <th></th>\n",
       "      <th></th>\n",
       "    </tr>\n",
       "  </thead>\n",
       "  <tbody>\n",
       "    <tr>\n",
       "      <th rowspan=\"6\" valign=\"top\">African-American</th>\n",
       "      <th rowspan=\"3\" valign=\"top\">Female</th>\n",
       "      <th>1 Younger than 25</th>\n",
       "      <td>63.440860</td>\n",
       "      <td>19.736842</td>\n",
       "      <td>50.833333</td>\n",
       "      <td>69.387755</td>\n",
       "      <td>44.970414</td>\n",
       "      <td>169</td>\n",
       "    </tr>\n",
       "    <tr>\n",
       "      <th>2 Between 25 - 45</th>\n",
       "      <td>36.475410</td>\n",
       "      <td>34.437086</td>\n",
       "      <td>52.659574</td>\n",
       "      <td>74.879227</td>\n",
       "      <td>38.227848</td>\n",
       "      <td>395</td>\n",
       "    </tr>\n",
       "    <tr>\n",
       "      <th>3 Older than 45</th>\n",
       "      <td>23.529412</td>\n",
       "      <td>35.000000</td>\n",
       "      <td>44.827586</td>\n",
       "      <td>88.135593</td>\n",
       "      <td>22.727273</td>\n",
       "      <td>88</td>\n",
       "    </tr>\n",
       "    <tr>\n",
       "      <th rowspan=\"3\" valign=\"top\">Male</th>\n",
       "      <th>1 Younger than 25</th>\n",
       "      <td>58.646617</td>\n",
       "      <td>23.711340</td>\n",
       "      <td>70.342205</td>\n",
       "      <td>48.888889</td>\n",
       "      <td>64.580559</td>\n",
       "      <td>751</td>\n",
       "    </tr>\n",
       "    <tr>\n",
       "      <th>2 Between 25 - 45</th>\n",
       "      <td>46.309524</td>\n",
       "      <td>26.590198</td>\n",
       "      <td>64.409881</td>\n",
       "      <td>63.881020</td>\n",
       "      <td>53.307393</td>\n",
       "      <td>1799</td>\n",
       "    </tr>\n",
       "    <tr>\n",
       "      <th>3 Older than 45</th>\n",
       "      <td>33.802817</td>\n",
       "      <td>41.904762</td>\n",
       "      <td>55.963303</td>\n",
       "      <td>68.115942</td>\n",
       "      <td>42.510121</td>\n",
       "      <td>494</td>\n",
       "    </tr>\n",
       "    <tr>\n",
       "      <th rowspan=\"5\" valign=\"top\">Asian</th>\n",
       "      <th rowspan=\"2\" valign=\"top\">Female</th>\n",
       "      <th>2 Between 25 - 45</th>\n",
       "      <td>NaN</td>\n",
       "      <td>NaN</td>\n",
       "      <td>NaN</td>\n",
       "      <td>NaN</td>\n",
       "      <td>NaN</td>\n",
       "      <td>1</td>\n",
       "    </tr>\n",
       "    <tr>\n",
       "      <th>3 Older than 45</th>\n",
       "      <td>NaN</td>\n",
       "      <td>NaN</td>\n",
       "      <td>NaN</td>\n",
       "      <td>NaN</td>\n",
       "      <td>NaN</td>\n",
       "      <td>1</td>\n",
       "    </tr>\n",
       "    <tr>\n",
       "      <th rowspan=\"3\" valign=\"top\">Male</th>\n",
       "      <th>1 Younger than 25</th>\n",
       "      <td>NaN</td>\n",
       "      <td>NaN</td>\n",
       "      <td>NaN</td>\n",
       "      <td>NaN</td>\n",
       "      <td>NaN</td>\n",
       "      <td>7</td>\n",
       "    </tr>\n",
       "    <tr>\n",
       "      <th>2 Between 25 - 45</th>\n",
       "      <td>NaN</td>\n",
       "      <td>NaN</td>\n",
       "      <td>NaN</td>\n",
       "      <td>NaN</td>\n",
       "      <td>NaN</td>\n",
       "      <td>13</td>\n",
       "    </tr>\n",
       "    <tr>\n",
       "      <th>3 Older than 45</th>\n",
       "      <td>NaN</td>\n",
       "      <td>NaN</td>\n",
       "      <td>NaN</td>\n",
       "      <td>NaN</td>\n",
       "      <td>NaN</td>\n",
       "      <td>10</td>\n",
       "    </tr>\n",
       "    <tr>\n",
       "      <th rowspan=\"6\" valign=\"top\">Caucasian</th>\n",
       "      <th rowspan=\"3\" valign=\"top\">Female</th>\n",
       "      <th>1 Younger than 25</th>\n",
       "      <td>70.000000</td>\n",
       "      <td>3.703704</td>\n",
       "      <td>38.235294</td>\n",
       "      <td>94.736842</td>\n",
       "      <td>31.034483</td>\n",
       "      <td>87</td>\n",
       "    </tr>\n",
       "    <tr>\n",
       "      <th>2 Between 25 - 45</th>\n",
       "      <td>29.213483</td>\n",
       "      <td>41.221374</td>\n",
       "      <td>59.689922</td>\n",
       "      <td>70.000000</td>\n",
       "      <td>42.394822</td>\n",
       "      <td>309</td>\n",
       "    </tr>\n",
       "    <tr>\n",
       "      <th>3 Older than 45</th>\n",
       "      <td>13.076923</td>\n",
       "      <td>75.609756</td>\n",
       "      <td>37.037037</td>\n",
       "      <td>78.472222</td>\n",
       "      <td>23.976608</td>\n",
       "      <td>171</td>\n",
       "    </tr>\n",
       "    <tr>\n",
       "      <th rowspan=\"3\" valign=\"top\">Male</th>\n",
       "      <th>1 Younger than 25</th>\n",
       "      <td>39.568345</td>\n",
       "      <td>30.487805</td>\n",
       "      <td>67.455621</td>\n",
       "      <td>62.686567</td>\n",
       "      <td>54.125413</td>\n",
       "      <td>303</td>\n",
       "    </tr>\n",
       "    <tr>\n",
       "      <th>2 Between 25 - 45</th>\n",
       "      <td>26.056338</td>\n",
       "      <td>48.735632</td>\n",
       "      <td>60.107817</td>\n",
       "      <td>66.455696</td>\n",
       "      <td>43.369890</td>\n",
       "      <td>1003</td>\n",
       "    </tr>\n",
       "    <tr>\n",
       "      <th>3 Older than 45</th>\n",
       "      <td>8.474576</td>\n",
       "      <td>67.261905</td>\n",
       "      <td>61.111111</td>\n",
       "      <td>76.985743</td>\n",
       "      <td>28.915663</td>\n",
       "      <td>581</td>\n",
       "    </tr>\n",
       "    <tr>\n",
       "      <th rowspan=\"6\" valign=\"top\">Hispanic</th>\n",
       "      <th rowspan=\"3\" valign=\"top\">Female</th>\n",
       "      <th>1 Younger than 25</th>\n",
       "      <td>NaN</td>\n",
       "      <td>NaN</td>\n",
       "      <td>NaN</td>\n",
       "      <td>NaN</td>\n",
       "      <td>NaN</td>\n",
       "      <td>17</td>\n",
       "    </tr>\n",
       "    <tr>\n",
       "      <th>2 Between 25 - 45</th>\n",
       "      <td>7.142857</td>\n",
       "      <td>80.952381</td>\n",
       "      <td>57.142857</td>\n",
       "      <td>69.642857</td>\n",
       "      <td>33.333333</td>\n",
       "      <td>63</td>\n",
       "    </tr>\n",
       "    <tr>\n",
       "      <th>3 Older than 45</th>\n",
       "      <td>NaN</td>\n",
       "      <td>NaN</td>\n",
       "      <td>NaN</td>\n",
       "      <td>NaN</td>\n",
       "      <td>NaN</td>\n",
       "      <td>23</td>\n",
       "    </tr>\n",
       "    <tr>\n",
       "      <th rowspan=\"3\" valign=\"top\">Male</th>\n",
       "      <th>1 Younger than 25</th>\n",
       "      <td>52.941176</td>\n",
       "      <td>37.288136</td>\n",
       "      <td>57.812500</td>\n",
       "      <td>52.173913</td>\n",
       "      <td>53.636364</td>\n",
       "      <td>110</td>\n",
       "    </tr>\n",
       "    <tr>\n",
       "      <th>2 Between 25 - 45</th>\n",
       "      <td>21.052632</td>\n",
       "      <td>55.263158</td>\n",
       "      <td>56.043956</td>\n",
       "      <td>70.422535</td>\n",
       "      <td>37.500000</td>\n",
       "      <td>304</td>\n",
       "    </tr>\n",
       "    <tr>\n",
       "      <th>3 Older than 45</th>\n",
       "      <td>13.829787</td>\n",
       "      <td>76.923077</td>\n",
       "      <td>31.578947</td>\n",
       "      <td>80.198020</td>\n",
       "      <td>21.666667</td>\n",
       "      <td>120</td>\n",
       "    </tr>\n",
       "    <tr>\n",
       "      <th rowspan=\"5\" valign=\"top\">Native American</th>\n",
       "      <th rowspan=\"2\" valign=\"top\">Female</th>\n",
       "      <th>2 Between 25 - 45</th>\n",
       "      <td>NaN</td>\n",
       "      <td>NaN</td>\n",
       "      <td>NaN</td>\n",
       "      <td>NaN</td>\n",
       "      <td>NaN</td>\n",
       "      <td>2</td>\n",
       "    </tr>\n",
       "    <tr>\n",
       "      <th>3 Older than 45</th>\n",
       "      <td>NaN</td>\n",
       "      <td>NaN</td>\n",
       "      <td>NaN</td>\n",
       "      <td>NaN</td>\n",
       "      <td>NaN</td>\n",
       "      <td>2</td>\n",
       "    </tr>\n",
       "    <tr>\n",
       "      <th rowspan=\"3\" valign=\"top\">Male</th>\n",
       "      <th>1 Younger than 25</th>\n",
       "      <td>NaN</td>\n",
       "      <td>NaN</td>\n",
       "      <td>NaN</td>\n",
       "      <td>NaN</td>\n",
       "      <td>NaN</td>\n",
       "      <td>3</td>\n",
       "    </tr>\n",
       "    <tr>\n",
       "      <th>2 Between 25 - 45</th>\n",
       "      <td>NaN</td>\n",
       "      <td>NaN</td>\n",
       "      <td>NaN</td>\n",
       "      <td>NaN</td>\n",
       "      <td>NaN</td>\n",
       "      <td>10</td>\n",
       "    </tr>\n",
       "    <tr>\n",
       "      <th>3 Older than 45</th>\n",
       "      <td>NaN</td>\n",
       "      <td>NaN</td>\n",
       "      <td>NaN</td>\n",
       "      <td>NaN</td>\n",
       "      <td>NaN</td>\n",
       "      <td>1</td>\n",
       "    </tr>\n",
       "    <tr>\n",
       "      <th rowspan=\"6\" valign=\"top\">Other</th>\n",
       "      <th rowspan=\"3\" valign=\"top\">Female</th>\n",
       "      <th>1 Younger than 25</th>\n",
       "      <td>NaN</td>\n",
       "      <td>NaN</td>\n",
       "      <td>NaN</td>\n",
       "      <td>NaN</td>\n",
       "      <td>NaN</td>\n",
       "      <td>15</td>\n",
       "    </tr>\n",
       "    <tr>\n",
       "      <th>2 Between 25 - 45</th>\n",
       "      <td>NaN</td>\n",
       "      <td>NaN</td>\n",
       "      <td>NaN</td>\n",
       "      <td>NaN</td>\n",
       "      <td>NaN</td>\n",
       "      <td>37</td>\n",
       "    </tr>\n",
       "    <tr>\n",
       "      <th>3 Older than 45</th>\n",
       "      <td>NaN</td>\n",
       "      <td>NaN</td>\n",
       "      <td>NaN</td>\n",
       "      <td>NaN</td>\n",
       "      <td>NaN</td>\n",
       "      <td>15</td>\n",
       "    </tr>\n",
       "    <tr>\n",
       "      <th rowspan=\"3\" valign=\"top\">Male</th>\n",
       "      <th>1 Younger than 25</th>\n",
       "      <td>46.666667</td>\n",
       "      <td>45.945946</td>\n",
       "      <td>58.823529</td>\n",
       "      <td>48.484848</td>\n",
       "      <td>55.223881</td>\n",
       "      <td>67</td>\n",
       "    </tr>\n",
       "    <tr>\n",
       "      <th>2 Between 25 - 45</th>\n",
       "      <td>12.612613</td>\n",
       "      <td>75.806452</td>\n",
       "      <td>51.724138</td>\n",
       "      <td>67.361111</td>\n",
       "      <td>35.838150</td>\n",
       "      <td>173</td>\n",
       "    </tr>\n",
       "    <tr>\n",
       "      <th>3 Older than 45</th>\n",
       "      <td>3.921569</td>\n",
       "      <td>84.210526</td>\n",
       "      <td>60.000000</td>\n",
       "      <td>75.384615</td>\n",
       "      <td>27.142857</td>\n",
       "      <td>70</td>\n",
       "    </tr>\n",
       "  </tbody>\n",
       "</table>\n",
       "</div>"
      ],
      "text/plain": [
       "                                                 FPR        FNR        PPV  \\\n",
       "race             sex    age_cat_recode                                       \n",
       "African-American Female 1 Younger than 25  63.440860  19.736842  50.833333   \n",
       "                        2 Between 25 - 45  36.475410  34.437086  52.659574   \n",
       "                        3 Older than 45    23.529412  35.000000  44.827586   \n",
       "                 Male   1 Younger than 25  58.646617  23.711340  70.342205   \n",
       "                        2 Between 25 - 45  46.309524  26.590198  64.409881   \n",
       "                        3 Older than 45    33.802817  41.904762  55.963303   \n",
       "Asian            Female 2 Between 25 - 45        NaN        NaN        NaN   \n",
       "                        3 Older than 45          NaN        NaN        NaN   \n",
       "                 Male   1 Younger than 25        NaN        NaN        NaN   \n",
       "                        2 Between 25 - 45        NaN        NaN        NaN   \n",
       "                        3 Older than 45          NaN        NaN        NaN   \n",
       "Caucasian        Female 1 Younger than 25  70.000000   3.703704  38.235294   \n",
       "                        2 Between 25 - 45  29.213483  41.221374  59.689922   \n",
       "                        3 Older than 45    13.076923  75.609756  37.037037   \n",
       "                 Male   1 Younger than 25  39.568345  30.487805  67.455621   \n",
       "                        2 Between 25 - 45  26.056338  48.735632  60.107817   \n",
       "                        3 Older than 45     8.474576  67.261905  61.111111   \n",
       "Hispanic         Female 1 Younger than 25        NaN        NaN        NaN   \n",
       "                        2 Between 25 - 45   7.142857  80.952381  57.142857   \n",
       "                        3 Older than 45          NaN        NaN        NaN   \n",
       "                 Male   1 Younger than 25  52.941176  37.288136  57.812500   \n",
       "                        2 Between 25 - 45  21.052632  55.263158  56.043956   \n",
       "                        3 Older than 45    13.829787  76.923077  31.578947   \n",
       "Native American  Female 2 Between 25 - 45        NaN        NaN        NaN   \n",
       "                        3 Older than 45          NaN        NaN        NaN   \n",
       "                 Male   1 Younger than 25        NaN        NaN        NaN   \n",
       "                        2 Between 25 - 45        NaN        NaN        NaN   \n",
       "                        3 Older than 45          NaN        NaN        NaN   \n",
       "Other            Female 1 Younger than 25        NaN        NaN        NaN   \n",
       "                        2 Between 25 - 45        NaN        NaN        NaN   \n",
       "                        3 Older than 45          NaN        NaN        NaN   \n",
       "                 Male   1 Younger than 25  46.666667  45.945946  58.823529   \n",
       "                        2 Between 25 - 45  12.612613  75.806452  51.724138   \n",
       "                        3 Older than 45     3.921569  84.210526  60.000000   \n",
       "\n",
       "                                                 NPV  Prevalence  Count  \n",
       "race             sex    age_cat_recode                                   \n",
       "African-American Female 1 Younger than 25  69.387755   44.970414    169  \n",
       "                        2 Between 25 - 45  74.879227   38.227848    395  \n",
       "                        3 Older than 45    88.135593   22.727273     88  \n",
       "                 Male   1 Younger than 25  48.888889   64.580559    751  \n",
       "                        2 Between 25 - 45  63.881020   53.307393   1799  \n",
       "                        3 Older than 45    68.115942   42.510121    494  \n",
       "Asian            Female 2 Between 25 - 45        NaN         NaN      1  \n",
       "                        3 Older than 45          NaN         NaN      1  \n",
       "                 Male   1 Younger than 25        NaN         NaN      7  \n",
       "                        2 Between 25 - 45        NaN         NaN     13  \n",
       "                        3 Older than 45          NaN         NaN     10  \n",
       "Caucasian        Female 1 Younger than 25  94.736842   31.034483     87  \n",
       "                        2 Between 25 - 45  70.000000   42.394822    309  \n",
       "                        3 Older than 45    78.472222   23.976608    171  \n",
       "                 Male   1 Younger than 25  62.686567   54.125413    303  \n",
       "                        2 Between 25 - 45  66.455696   43.369890   1003  \n",
       "                        3 Older than 45    76.985743   28.915663    581  \n",
       "Hispanic         Female 1 Younger than 25        NaN         NaN     17  \n",
       "                        2 Between 25 - 45  69.642857   33.333333     63  \n",
       "                        3 Older than 45          NaN         NaN     23  \n",
       "                 Male   1 Younger than 25  52.173913   53.636364    110  \n",
       "                        2 Between 25 - 45  70.422535   37.500000    304  \n",
       "                        3 Older than 45    80.198020   21.666667    120  \n",
       "Native American  Female 2 Between 25 - 45        NaN         NaN      2  \n",
       "                        3 Older than 45          NaN         NaN      2  \n",
       "                 Male   1 Younger than 25        NaN         NaN      3  \n",
       "                        2 Between 25 - 45        NaN         NaN     10  \n",
       "                        3 Older than 45          NaN         NaN      1  \n",
       "Other            Female 1 Younger than 25        NaN         NaN     15  \n",
       "                        2 Between 25 - 45        NaN         NaN     37  \n",
       "                        3 Older than 45          NaN         NaN     15  \n",
       "                 Male   1 Younger than 25  48.484848   55.223881     67  \n",
       "                        2 Between 25 - 45  67.361111   35.838150    173  \n",
       "                        3 Older than 45    75.384615   27.142857     70  "
      ]
     },
     "execution_count": 67,
     "metadata": {},
     "output_type": "execute_result"
    }
   ],
   "source": [
    "table7 = make_table(cp, ['race', 'sex', 'age_cat_recode'])\n",
    "table7"
   ]
  },
  {
   "cell_type": "markdown",
   "metadata": {},
   "source": [
    "These tables show how much these metrics vary between groups:\n",
    "\n",
    "* "
   ]
  },
  {
   "cell_type": "code",
   "execution_count": 68,
   "metadata": {},
   "outputs": [],
   "source": [
    "tables = [table1, table2, table3, table4, table5, table6, table7]\n",
    "\n",
    "all_groups = pd.concat(tables)"
   ]
  },
  {
   "cell_type": "code",
   "execution_count": 79,
   "metadata": {},
   "outputs": [],
   "source": [
    "def min_max_metric(all_groups, metric):\n",
    "    idx = all_groups[metric].idxmax()\n",
    "    print(idx, all_groups[metric][idx])\n",
    "    \n",
    "    idx = all_groups[metric].idxmin()\n",
    "    print(idx, all_groups[metric][idx])"
   ]
  },
  {
   "cell_type": "markdown",
   "metadata": {},
   "source": [
    "Here are the groups with maximumn and minimum FPR:"
   ]
  },
  {
   "cell_type": "code",
   "execution_count": 81,
   "metadata": {},
   "outputs": [
    {
     "name": "stdout",
     "output_type": "stream",
     "text": [
      "('Caucasian', 'Female', '1 Younger than 25') 70.0\n",
      "('Other', '3 Older than 45') 3.1746031746031744\n"
     ]
    }
   ],
   "source": [
    "min_max_metric(all_groups, 'FPR')"
   ]
  },
  {
   "cell_type": "markdown",
   "metadata": {},
   "source": [
    "And here are the results for the other metrics:"
   ]
  },
  {
   "cell_type": "code",
   "execution_count": 85,
   "metadata": {},
   "outputs": [
    {
     "name": "stdout",
     "output_type": "stream",
     "text": [
      "('Other', '3 Older than 45') 86.36363636363636\n",
      "('Caucasian', 'Female', '1 Younger than 25') 3.7037037037037033\n"
     ]
    }
   ],
   "source": [
    "min_max_metric(all_groups, 'FNR')"
   ]
  },
  {
   "cell_type": "code",
   "execution_count": 86,
   "metadata": {},
   "outputs": [
    {
     "name": "stdout",
     "output_type": "stream",
     "text": [
      "('African-American', 'Male', '1 Younger than 25') 70.34220532319392\n",
      "('Hispanic', '3 Older than 45') 28.57142857142857\n"
     ]
    }
   ],
   "source": [
    "min_max_metric(all_groups, 'PPV')"
   ]
  },
  {
   "cell_type": "code",
   "execution_count": 87,
   "metadata": {},
   "outputs": [
    {
     "name": "stdout",
     "output_type": "stream",
     "text": [
      "('Caucasian', 'Female', '1 Younger than 25') 94.73684210526315\n",
      "('Other', 'Male', '1 Younger than 25') 48.484848484848484\n"
     ]
    }
   ],
   "source": [
    "min_max_metric(all_groups, 'NPV')"
   ]
  },
  {
   "cell_type": "code",
   "execution_count": 88,
   "metadata": {},
   "outputs": [
    {
     "name": "stdout",
     "output_type": "stream",
     "text": [
      "('African-American', 'Male', '1 Younger than 25') 64.58055925432757\n",
      "('Hispanic', 'Male', '3 Older than 45') 21.666666666666668\n"
     ]
    }
   ],
   "source": [
    "min_max_metric(all_groups, 'Prevalence')"
   ]
  },
  {
   "cell_type": "markdown",
   "metadata": {},
   "source": [
    "Looking at these results, I have a few thoughts:\n",
    "\n",
    "1. The differences between groups are big.  FNR, which ranges from about 4% to 86%, is particularly striking.\n",
    "\n",
    "2. For some metrics the most extreme groups are relatively small groups, so that might not be meaningful.  Statistically it is easier for a small group to deviate from the overall averages.\n",
    "\n",
    "3. It is not clear from these results how much of the variation between groups is due to differences in prevalance.  I'll explore this relationship in the next section.\n",
    "\n",
    "\n"
   ]
  },
  {
   "cell_type": "markdown",
   "metadata": {},
   "source": [
    "## Reverse engineering\n",
    "\n"
   ]
  },
  {
   "cell_type": "code",
   "execution_count": 50,
   "metadata": {},
   "outputs": [],
   "source": [
    "matrix_all = make_matrix(cp)\n",
    "ppv, npv = predictive_value(matrix_all)\n",
    "fpr, fnr = error_rates(matrix_all)"
   ]
  },
  {
   "cell_type": "code",
   "execution_count": 51,
   "metadata": {},
   "outputs": [
    {
     "data": {
      "text/html": [
       "<div>\n",
       "<style scoped>\n",
       "    .dataframe tbody tr th:only-of-type {\n",
       "        vertical-align: middle;\n",
       "    }\n",
       "\n",
       "    .dataframe tbody tr th {\n",
       "        vertical-align: top;\n",
       "    }\n",
       "\n",
       "    .dataframe thead th {\n",
       "        text-align: right;\n",
       "    }\n",
       "</style>\n",
       "<table border=\"1\" class=\"dataframe\">\n",
       "  <thead>\n",
       "    <tr style=\"text-align: right;\">\n",
       "      <th></th>\n",
       "      <th>ppv</th>\n",
       "      <th>npv</th>\n",
       "    </tr>\n",
       "  </thead>\n",
       "  <tbody>\n",
       "    <tr>\n",
       "      <th>20.0</th>\n",
       "      <td>32.603329</td>\n",
       "      <td>87.856159</td>\n",
       "    </tr>\n",
       "    <tr>\n",
       "      <th>24.5</th>\n",
       "      <td>38.571828</td>\n",
       "      <td>84.787671</td>\n",
       "    </tr>\n",
       "    <tr>\n",
       "      <th>29.0</th>\n",
       "      <td>44.145209</td>\n",
       "      <td>81.577315</td>\n",
       "    </tr>\n",
       "    <tr>\n",
       "      <th>33.5</th>\n",
       "      <td>49.361450</td>\n",
       "      <td>78.215019</td>\n",
       "    </tr>\n",
       "    <tr>\n",
       "      <th>38.0</th>\n",
       "      <td>54.253815</td>\n",
       "      <td>74.689735</td>\n",
       "    </tr>\n",
       "    <tr>\n",
       "      <th>42.5</th>\n",
       "      <td>58.851558</td>\n",
       "      <td>70.989317</td>\n",
       "    </tr>\n",
       "    <tr>\n",
       "      <th>47.0</th>\n",
       "      <td>63.180516</td>\n",
       "      <td>67.100383</td>\n",
       "    </tr>\n",
       "    <tr>\n",
       "      <th>51.5</th>\n",
       "      <td>67.263589</td>\n",
       "      <td>63.008148</td>\n",
       "    </tr>\n",
       "    <tr>\n",
       "      <th>56.0</th>\n",
       "      <td>71.121148</td>\n",
       "      <td>58.696245</td>\n",
       "    </tr>\n",
       "    <tr>\n",
       "      <th>60.5</th>\n",
       "      <td>74.771374</td>\n",
       "      <td>54.146498</td>\n",
       "    </tr>\n",
       "    <tr>\n",
       "      <th>65.0</th>\n",
       "      <td>78.230545</td>\n",
       "      <td>49.338668</td>\n",
       "    </tr>\n",
       "  </tbody>\n",
       "</table>\n",
       "</div>"
      ],
      "text/plain": [
       "            ppv        npv\n",
       "20.0  32.603329  87.856159\n",
       "24.5  38.571828  84.787671\n",
       "29.0  44.145209  81.577315\n",
       "33.5  49.361450  78.215019\n",
       "38.0  54.253815  74.689735\n",
       "42.5  58.851558  70.989317\n",
       "47.0  63.180516  67.100383\n",
       "51.5  67.263589  63.008148\n",
       "56.0  71.121148  58.696245\n",
       "60.5  74.771374  54.146498\n",
       "65.0  78.230545  49.338668"
      ]
     },
     "execution_count": 51,
     "metadata": {},
     "output_type": "execute_result"
    }
   ],
   "source": [
    "prevalences = np.linspace(20, 65, 11)\n",
    "\n",
    "pred_pv = pd.DataFrame(columns=['ppv', 'npv'])\n",
    "\n",
    "for prev in prevalences:\n",
    "    m = constant_error_rates(fpr, fnr, prev)\n",
    "    pred_pv.loc[prev] = predictive_value(m)\n",
    "    \n",
    "pred_pv"
   ]
  },
  {
   "cell_type": "code",
   "execution_count": null,
   "metadata": {},
   "outputs": [],
   "source": [
    "prevalences = np.linspace(35, 55, 11)\n",
    "\n",
    "pred_er = pd.DataFrame(columns=['FPR', 'FNR'])\n",
    "\n",
    "for prev in prevalences:\n",
    "    m = constant_predictive_value(ppv, npv, prev)\n",
    "    pred_er.loc[prev] = error_rates(m)\n",
    "    \n",
    "pred_er"
   ]
  },
  {
   "cell_type": "code",
   "execution_count": null,
   "metadata": {},
   "outputs": [],
   "source": [
    "def plot_cpv_model(pred_er):\n",
    "    \"\"\"Plot error rates with constant predictive values.\n",
    "    \n",
    "    pred_er: DataFrame of predicted error rates\n",
    "    \"\"\"\n",
    "    pred_er['fpr'].plot(label='Predicted FPR', color='C2')\n",
    "    pred_er['fnr'].plot(label='Predicted FNR', color='C4')\n",
    "    decorate(xlabel='Prevalence', ylabel='Percent',\n",
    "             title='Error rates, constant predictive value')"
   ]
  },
  {
   "cell_type": "code",
   "execution_count": null,
   "metadata": {},
   "outputs": [],
   "source": [
    "def plot_cer_model(pred_pv):\n",
    "    \"\"\"Plot error rates with constant predictive values.\n",
    "    \n",
    "    pred_er: DataFrame of predicted error rates\n",
    "    \"\"\"\n",
    "    pred_pv['ppv'].plot(label='Predicted PPV', color='C3')\n",
    "    pred_pv['npv'].plot(label='Predicted NPV', color='C9')\n",
    "    decorate(xlabel='Prevalence', ylabel='Percent',\n",
    "             title='Predictive value, constant error rates')"
   ]
  },
  {
   "cell_type": "markdown",
   "metadata": {},
   "source": [
    "Those are all the possible subgroups for these three variables.\n",
    "\n",
    "Now we can see what the results look like."
   ]
  },
  {
   "cell_type": "markdown",
   "metadata": {},
   "source": [
    "The following function plots one data point per subgroup showing the given metric versus prevalence.\n",
    "\n",
    "Groups with a small number of people are shown with lighter colors.\n"
   ]
  },
  {
   "cell_type": "code",
   "execution_count": null,
   "metadata": {},
   "outputs": [],
   "source": [
    "def plot_table_var(table, var, color):\n",
    "    \"\"\"Plot one data point per row.\n",
    "    \n",
    "    table: DataFrame\n",
    "    var: which metric to plot\n",
    "    color: string\n",
    "    \"\"\"\n",
    "    for _, row in table.iterrows():\n",
    "        alpha = 0.8 if row['Count'] > 200 else 0.3\n",
    "\n",
    "        plt.plot(row['Prevalence'], row[var],\n",
    "                 'o', color=color, alpha=alpha)"
   ]
  },
  {
   "cell_type": "code",
   "execution_count": null,
   "metadata": {},
   "outputs": [],
   "source": [
    "def plot_table_var(table, var, color):\n",
    "    \"\"\"Plot one data point per row.\n",
    "    \n",
    "    table: DataFrame\n",
    "    var: which metric to plot\n",
    "    color: string\n",
    "    \"\"\"\n",
    "    plt.plot(table['Prevalence'], table[var],\n",
    "                 'o', color=color, alpha=0.6)"
   ]
  },
  {
   "cell_type": "markdown",
   "metadata": {},
   "source": [
    "Here's what the results look like for FPR."
   ]
  },
  {
   "cell_type": "code",
   "execution_count": null,
   "metadata": {},
   "outputs": [],
   "source": [
    "pred_er['FPR'].plot(label='Expected FPR, constant PV', color='C2')\n",
    "plt.axhline(fpr, linestyle='dotted', color='gray',\n",
    "            label='Expected FPR, constant ER')\n",
    "\n",
    "for table in tables:\n",
    "    plot_table_var(table, 'FPR', 'C2')\n",
    "    \n",
    "decorate(xlabel='Prevalence',\n",
    "         ylabel='False positive rate',\n",
    "         title='False positive rates by subgroup')\n",
    "plt.legend();"
   ]
  },
  {
   "cell_type": "code",
   "execution_count": null,
   "metadata": {},
   "outputs": [],
   "source": [
    "pred_er['FNR'].plot(label='Expected FNR, constant PV', color='C4')\n",
    "plt.axhline(fnr, linestyle='dotted', color='gray',\n",
    "            label='Expected FNR, constant ER')\n",
    "\n",
    "for table in tables:\n",
    "    plot_table_var(table, 'FNR', 'C4')\n",
    "    \n",
    "decorate(xlabel='Prevalence',\n",
    "         ylabel='False negative rate',\n",
    "         title='False negative rates by subgroup')\n",
    "plt.legend();"
   ]
  },
  {
   "cell_type": "markdown",
   "metadata": {},
   "source": [
    "In general, groups with higher prevalence have higher false positive rates, but the effect is less extreme than what we would expect from the CPV model.\n",
    "\n",
    "Here are the results for positive predictive value."
   ]
  },
  {
   "cell_type": "code",
   "execution_count": null,
   "metadata": {},
   "outputs": [],
   "source": [
    "pred_pv['ppv'].plot(label='Expected PPV, constant FPR', color='C0')\n",
    "plt.axhline(ppv, linestyle='dotted', color='gray',\n",
    "            label='Expected PPV, constant PPV')\n",
    "\n",
    "for table in tables:\n",
    "    plot_table_var(table, 'PPV', 'C0')\n",
    "    \n",
    "decorate(xlabel='Prevalence',\n",
    "         ylabel='Positive predictive value',\n",
    "         title='Positive predictive value by subgroup')\n",
    "\n",
    "plt.legend();"
   ]
  },
  {
   "cell_type": "markdown",
   "metadata": {},
   "source": [
    "Groups with higher prevalence have higher PPV, but the effect is less extreme than we would expect from the CPV model.\n",
    "\n",
    "Here are the results for false negative rate."
   ]
  },
  {
   "cell_type": "markdown",
   "metadata": {},
   "source": [
    "Groups with higher prevalence have lower FNR, but the effect is less extreme than we would expect from the CPV model.\n",
    "\n",
    "Here are the results for negative predictive value."
   ]
  },
  {
   "cell_type": "code",
   "execution_count": null,
   "metadata": {},
   "outputs": [],
   "source": [
    "pred_pv['npv'].plot(label='Expected NPV, constant FPR', color='C1')\n",
    "plt.axhline(npv, linestyle='dotted', color='gray',\n",
    "            label='Expected NPV, constant NPV')\n",
    "\n",
    "for table in tables:\n",
    "    plot_table_var(table, 'NPV', 'C1')\n",
    "    \n",
    "decorate(xlabel='Prevalence',\n",
    "         ylabel='Negative predictive value',\n",
    "         title='Negative predictive value by subgroup')\n",
    "\n",
    "plt.legend();"
   ]
  },
  {
   "cell_type": "markdown",
   "metadata": {},
   "source": [
    "Groups with higher prevalence have lower NPV.  In this case, the effect is almost exactly what we would expect from the CPV model."
   ]
  },
  {
   "cell_type": "markdown",
   "metadata": {},
   "source": [
    "## IFPR given probability of recidivism\n",
    "\n",
    "Imagine, temporarily, that we know the actual probability of recidivism for a given defendant, and we would like to know the probability that the defendant will turn out to be a false positive.\n",
    "\n",
    "In order for that to happen, they would need to be classified as high risk, and then \"survive\" two years without being charged with another crime.\n",
    "\n",
    "Given their probability of recidivism, $p$, we can figure out their correct risk score using the calibration curve.\n",
    "\n",
    "But we should not assume that COMPAS always gives people the right risk score.  Instead, I'll assume it has a normal distribution of errors with mean 0 and an unknown standard deviation.\n",
    "\n",
    "With these assumptions, we can compute the probability of being a false positive:\n",
    "\n",
    "$P(FP ~|~ p) = \\sum_{error} ~P(error) ~P(positive ~|~ error) ~P(survive)$\n",
    "\n",
    "And that's what the following function computes."
   ]
  },
  {
   "cell_type": "code",
   "execution_count": null,
   "metadata": {},
   "outputs": [],
   "source": [
    "def individual_fpr(actual_prob_recid, cal, thresh, std_dev):\n",
    "    \"\"\"Compute an individual FPR given actual prob of recid.\n",
    "    \n",
    "    actual_prob_recid: actual probability of recidivism\n",
    "    cal: calibration curve, map from score to prob_recid\n",
    "    thresh: threshold between low and not low risk\n",
    "    std_dev: standard deviation of the error function\n",
    "    \n",
    "    returns: individual FPR\n",
    "    \"\"\"\n",
    "    # look up actual_prob_recid to get correct score\n",
    "    correct_score = crossing(cal, actual_prob_recid)\n",
    "\n",
    "    # make the error distribution\n",
    "    error_dist = make_error_dist(std_dev)\n",
    "\n",
    "    # loop through possible errors\n",
    "    total_prob = 0\n",
    "    for error, prob_error in error_dist.iteritems():\n",
    "        # hypothetical score\n",
    "        score = correct_score+error\n",
    "        score = max(score, 1)\n",
    "        score = min(score, 10)\n",
    "        \n",
    "        # probability of being classified 'not low' | error\n",
    "        prob_positive = 1 if score > thresh else 0\n",
    "\n",
    "        # probability of being a false positive | error\n",
    "        prob_fp = prob_positive * (1-actual_prob_recid)\n",
    "        \n",
    "        total_prob += prob_error * prob_fp\n",
    "    return total_prob"
   ]
  },
  {
   "cell_type": "markdown",
   "metadata": {},
   "source": []
  },
  {
   "cell_type": "code",
   "execution_count": null,
   "metadata": {},
   "outputs": [],
   "source": [
    "def compute_error_rates(actual_prob_recid, cp, thresh):\n",
    "    \"\"\"Compute an individual FPR given actual prob of recid.\n",
    "    \n",
    "    actual_prob_recid: actual probability of recidivism\n",
    "    cp: DataFrame of COMPAS data\n",
    "    thresh: threshold between low and not low risk\n",
    "    \n",
    "    returns: individual FPR\n",
    "    \"\"\"\n",
    "    recid = (cp['two_year_recid'] == 1)\n",
    "    scores_recid = cp.loc[recid, 'decile_score']\n",
    "    scores_norecid = cp.loc[~recid, 'decile_score']\n",
    "\n",
    "    pmf_scores_recid = make_pmf(scores_recid)\n",
    "    pmf_scores_norecid = make_pmf(scores_norecid)\n",
    "    \n",
    "    score_dist = (actual_prob_recid * pmf_scores_recid +\n",
    "                 (1-actual_prob_recid) * pmf_scores_norecid)\n",
    "    normalize(score_dist)\n",
    "    \n",
    "    positive = (score_dist.index > thresh)\n",
    "    prob_positive = score_dist[positive].sum()\n",
    "    \n",
    "    prob_fp = prob_positive * (1-actual_prob_recid)\n",
    "    prob_fn = (1-prob_positive) * actual_prob_recid\n",
    "    \n",
    "    return prob_fp, prob_fn"
   ]
  },
  {
   "cell_type": "markdown",
   "metadata": {},
   "source": []
  },
  {
   "cell_type": "code",
   "execution_count": null,
   "metadata": {},
   "outputs": [],
   "source": [
    "compute_error_rates(0.3, cp, 4.5)"
   ]
  },
  {
   "cell_type": "code",
   "execution_count": null,
   "metadata": {},
   "outputs": [],
   "source": [
    "compute_error_rates(0.5, cp, 4.5)"
   ]
  },
  {
   "cell_type": "code",
   "execution_count": null,
   "metadata": {},
   "outputs": [],
   "source": [
    "compute_error_rates(0.7, cp, 4.5)"
   ]
  },
  {
   "cell_type": "markdown",
   "metadata": {},
   "source": []
  },
  {
   "cell_type": "code",
   "execution_count": null,
   "metadata": {},
   "outputs": [],
   "source": [
    "def error_rates_vs_prob_recid(cp, thresh):\n",
    "    \"\"\"Computes FPR for a range of prob_recid.\n",
    "    \n",
    "    cp:\n",
    "    thresh: threshold between low and not low risk\n",
    "    \n",
    "    returns: Series\n",
    "    \"\"\"\n",
    "    index = np.linspace(0, 1, 11)\n",
    "    columns = ['FPR', 'FNR']\n",
    "    er = pd.DataFrame(index=index, columns=columns, dtype=float)\n",
    "    \n",
    "    for prob_recid in index:\n",
    "        fpr, fnr = compute_error_rates(prob_recid, cp, thresh)\n",
    "        er.loc[prob_recid] = fpr, fnr\n",
    "        \n",
    "    return er"
   ]
  },
  {
   "cell_type": "code",
   "execution_count": null,
   "metadata": {},
   "outputs": [],
   "source": [
    "er_all = error_rates_vs_prob_recid(cp, thresh=4.5)\n",
    "er_all"
   ]
  },
  {
   "cell_type": "code",
   "execution_count": null,
   "metadata": {
    "scrolled": true
   },
   "outputs": [],
   "source": [
    "er_all.plot(color=['C2', 'C4'])\n",
    "\n",
    "decorate(xlabel='Actual probability of recidivism',\n",
    "         ylabel='Probability',\n",
    "         title='FPR and FNR vs probability of recidivism')\n",
    "plt.legend();"
   ]
  },
  {
   "cell_type": "code",
   "execution_count": null,
   "metadata": {},
   "outputs": [],
   "source": [
    "white = (cp.race=='Caucasian')\n",
    "er_white = error_rates_vs_prob_recid(cp[white], thresh=4.5)\n",
    "er_white"
   ]
  },
  {
   "cell_type": "code",
   "execution_count": null,
   "metadata": {},
   "outputs": [],
   "source": [
    "black = (cp.race=='African-American')\n",
    "er_black = error_rates_vs_prob_recid(cp[black], thresh=4.5)\n",
    "er_black"
   ]
  },
  {
   "cell_type": "code",
   "execution_count": null,
   "metadata": {},
   "outputs": [],
   "source": [
    "er_all['FPR'].plot(color='gray', label='all')\n",
    "er_black['FPR'].plot(label='Black defendants')\n",
    "er_white['FPR'].plot(label='White defendants')\n",
    "\n",
    "plt.legend();"
   ]
  },
  {
   "cell_type": "code",
   "execution_count": null,
   "metadata": {},
   "outputs": [],
   "source": [
    "er_all['FNR'].plot(color='gray', label='all')\n",
    "er_black['FNR'].plot(label='Black defendants')\n",
    "er_white['FNR'].plot(label='White defendants')\n",
    "\n",
    "plt.legend();"
   ]
  },
  {
   "cell_type": "code",
   "execution_count": null,
   "metadata": {},
   "outputs": [],
   "source": []
  },
  {
   "cell_type": "markdown",
   "metadata": {},
   "source": [
    "### What would it take?\n",
    "\n",
    "In this section I explore what it would take to make a test with the same false positive rate for all groups."
   ]
  },
  {
   "cell_type": "code",
   "execution_count": null,
   "metadata": {},
   "outputs": [],
   "source": [
    "def fpr_thresh(df, thresh):\n",
    "    df = df.copy()\n",
    "    df['high'] = df['decile_score'] >= thresh\n",
    "    matrix_all = crosstab(df, 'two_year_recid', 'high')\n",
    "    fpr, fnr = error_rates(matrix_all)\n",
    "    return fpr"
   ]
  },
  {
   "cell_type": "markdown",
   "metadata": {},
   "source": []
  },
  {
   "cell_type": "code",
   "execution_count": null,
   "metadata": {},
   "outputs": [],
   "source": [
    "fpr_thresh(cp, 5)"
   ]
  },
  {
   "cell_type": "markdown",
   "metadata": {},
   "source": []
  },
  {
   "cell_type": "code",
   "execution_count": null,
   "metadata": {},
   "outputs": [],
   "source": [
    "fpr_thresh(black, 5)"
   ]
  },
  {
   "cell_type": "markdown",
   "metadata": {},
   "source": []
  },
  {
   "cell_type": "code",
   "execution_count": null,
   "metadata": {},
   "outputs": [],
   "source": [
    "fpr_thresh(white, 5)"
   ]
  },
  {
   "cell_type": "markdown",
   "metadata": {},
   "source": []
  },
  {
   "cell_type": "code",
   "execution_count": null,
   "metadata": {},
   "outputs": [],
   "source": [
    "def sweep_thresh(df):\n",
    "    threshes = range(2,10)\n",
    "    sweep = pd.Series(index=threshes, dtype=float)\n",
    "    for thresh in threshes:\n",
    "        sweep[thresh] = fpr_thresh(df, thresh)\n",
    "        \n",
    "    return sweep"
   ]
  },
  {
   "cell_type": "markdown",
   "metadata": {},
   "source": []
  },
  {
   "cell_type": "code",
   "execution_count": null,
   "metadata": {},
   "outputs": [],
   "source": [
    "plt.axhline(32.25, color='gray')\n",
    "sweep_thresh(cp).plot(label='All')\n",
    "sweep_thresh(black).plot(label='Black')\n",
    "sweep_thresh(white).plot(label='White')\n",
    "decorate(xlabel='Threshold',\n",
    "         ylabel='False positive rate')"
   ]
  },
  {
   "cell_type": "markdown",
   "metadata": {},
   "source": []
  },
  {
   "cell_type": "code",
   "execution_count": null,
   "metadata": {},
   "outputs": [],
   "source": []
  },
  {
   "cell_type": "markdown",
   "metadata": {},
   "source": []
  },
  {
   "cell_type": "code",
   "execution_count": null,
   "metadata": {},
   "outputs": [],
   "source": [
    "def find_threshold(group, fpr):\n",
    "    series = sweep_thresh(group)\n",
    "    xs = crossing(series.dropna(), fpr)\n",
    "    return xs"
   ]
  },
  {
   "cell_type": "markdown",
   "metadata": {},
   "source": []
  },
  {
   "cell_type": "code",
   "execution_count": null,
   "metadata": {},
   "outputs": [],
   "source": [
    "all_thresh = find_threshold(cp, 32.35)\n",
    "all_thresh"
   ]
  },
  {
   "cell_type": "markdown",
   "metadata": {},
   "source": []
  },
  {
   "cell_type": "code",
   "execution_count": null,
   "metadata": {},
   "outputs": [],
   "source": [
    "black_thresh = find_threshold(black, 32.35)\n",
    "black_thresh"
   ]
  },
  {
   "cell_type": "markdown",
   "metadata": {},
   "source": []
  },
  {
   "cell_type": "code",
   "execution_count": null,
   "metadata": {},
   "outputs": [],
   "source": [
    "white_thresh = find_threshold(white, 32.35)\n",
    "white_thresh"
   ]
  },
  {
   "cell_type": "markdown",
   "metadata": {},
   "source": []
  },
  {
   "cell_type": "code",
   "execution_count": null,
   "metadata": {},
   "outputs": [],
   "source": []
  },
  {
   "cell_type": "markdown",
   "metadata": {},
   "source": []
  },
  {
   "cell_type": "code",
   "execution_count": null,
   "metadata": {},
   "outputs": [],
   "source": [
    "interpolate(calibration_curve(cp), all_thresh)"
   ]
  },
  {
   "cell_type": "markdown",
   "metadata": {},
   "source": []
  },
  {
   "cell_type": "code",
   "execution_count": null,
   "metadata": {},
   "outputs": [],
   "source": [
    "interpolate(calibration_curve(cp), black_thresh)"
   ]
  },
  {
   "cell_type": "markdown",
   "metadata": {},
   "source": []
  },
  {
   "cell_type": "code",
   "execution_count": null,
   "metadata": {},
   "outputs": [],
   "source": [
    "interpolate(calibration_curve(black), black_thresh)"
   ]
  },
  {
   "cell_type": "markdown",
   "metadata": {},
   "source": []
  },
  {
   "cell_type": "code",
   "execution_count": null,
   "metadata": {},
   "outputs": [],
   "source": [
    "interpolate(calibration_curve(cp), white_thresh)"
   ]
  },
  {
   "cell_type": "markdown",
   "metadata": {},
   "source": []
  },
  {
   "cell_type": "code",
   "execution_count": null,
   "metadata": {},
   "outputs": [],
   "source": [
    "interpolate(calibration_curve(white), white_thresh)"
   ]
  },
  {
   "cell_type": "markdown",
   "metadata": {},
   "source": []
  },
  {
   "cell_type": "code",
   "execution_count": null,
   "metadata": {},
   "outputs": [],
   "source": []
  },
  {
   "cell_type": "markdown",
   "metadata": {},
   "source": []
  },
  {
   "cell_type": "code",
   "execution_count": null,
   "metadata": {},
   "outputs": [],
   "source": []
  },
  {
   "cell_type": "markdown",
   "metadata": {},
   "source": []
  },
  {
   "cell_type": "code",
   "execution_count": null,
   "metadata": {},
   "outputs": [],
   "source": []
  },
  {
   "cell_type": "markdown",
   "metadata": {},
   "source": []
  },
  {
   "cell_type": "code",
   "execution_count": null,
   "metadata": {},
   "outputs": [],
   "source": []
  },
  {
   "cell_type": "markdown",
   "metadata": {},
   "source": []
  },
  {
   "cell_type": "code",
   "execution_count": null,
   "metadata": {},
   "outputs": [],
   "source": []
  },
  {
   "cell_type": "markdown",
   "metadata": {},
   "source": []
  },
  {
   "cell_type": "code",
   "execution_count": null,
   "metadata": {},
   "outputs": [],
   "source": []
  },
  {
   "cell_type": "markdown",
   "metadata": {},
   "source": []
  },
  {
   "cell_type": "code",
   "execution_count": null,
   "metadata": {},
   "outputs": [],
   "source": [
    "black_male = black[black.sex=='Male']\n",
    "black_male.shape"
   ]
  },
  {
   "cell_type": "markdown",
   "metadata": {},
   "source": []
  },
  {
   "cell_type": "code",
   "execution_count": null,
   "metadata": {},
   "outputs": [],
   "source": [
    "black_female = black[black.sex=='Female']\n",
    "black_female.shape"
   ]
  },
  {
   "cell_type": "markdown",
   "metadata": {},
   "source": []
  },
  {
   "cell_type": "code",
   "execution_count": null,
   "metadata": {},
   "outputs": [],
   "source": [
    "old_black_female = black_female[black_female.age_cat=='Greater than 45']\n",
    "old_black_female.shape"
   ]
  },
  {
   "cell_type": "markdown",
   "metadata": {},
   "source": []
  },
  {
   "cell_type": "code",
   "execution_count": null,
   "metadata": {},
   "outputs": [],
   "source": [
    "old_white_female = cp[(cp.age_cat=='Greater than 45') &\n",
    "                      (cp.sex=='Female') &\n",
    "                      (cp.race=='Caucasian')]\n",
    "old_white_female.shape"
   ]
  },
  {
   "cell_type": "markdown",
   "metadata": {},
   "source": []
  },
  {
   "cell_type": "code",
   "execution_count": null,
   "metadata": {},
   "outputs": [],
   "source": [
    "young_black_male = cp[(cp.age_cat=='Less than 25') &\n",
    "                      (cp.sex=='Male') &\n",
    "                      (cp.race=='African-American')]\n",
    "young_black_male.shape"
   ]
  },
  {
   "cell_type": "markdown",
   "metadata": {},
   "source": []
  },
  {
   "cell_type": "code",
   "execution_count": null,
   "metadata": {},
   "outputs": [],
   "source": [
    "fpr_thresh(cp, 5)"
   ]
  },
  {
   "cell_type": "markdown",
   "metadata": {},
   "source": []
  },
  {
   "cell_type": "code",
   "execution_count": null,
   "metadata": {},
   "outputs": [],
   "source": [
    "fpr_thresh(black, 5)"
   ]
  },
  {
   "cell_type": "markdown",
   "metadata": {},
   "source": []
  },
  {
   "cell_type": "code",
   "execution_count": null,
   "metadata": {},
   "outputs": [],
   "source": [
    "fpr_thresh(black_female, 5)"
   ]
  },
  {
   "cell_type": "markdown",
   "metadata": {},
   "source": []
  },
  {
   "cell_type": "code",
   "execution_count": null,
   "metadata": {},
   "outputs": [],
   "source": [
    "fpr_thresh(old_black_female, 5)"
   ]
  },
  {
   "cell_type": "markdown",
   "metadata": {},
   "source": []
  },
  {
   "cell_type": "code",
   "execution_count": null,
   "metadata": {},
   "outputs": [],
   "source": [
    "fpr_thresh(black_male, 5)"
   ]
  },
  {
   "cell_type": "markdown",
   "metadata": {},
   "source": []
  },
  {
   "cell_type": "code",
   "execution_count": null,
   "metadata": {},
   "outputs": [],
   "source": [
    "fpr_thresh(young_black_male, 5)"
   ]
  },
  {
   "cell_type": "markdown",
   "metadata": {},
   "source": []
  },
  {
   "cell_type": "code",
   "execution_count": null,
   "metadata": {},
   "outputs": [],
   "source": [
    "plt.axhline(32.25, color='gray')\n",
    "sweep_thresh(black).plot(label='Black', color='gray')\n",
    "sweep_thresh(black_male).plot(label='Black male')\n",
    "sweep_thresh(young_black_male).plot(label='Young black male')\n",
    "\n",
    "decorate(xlabel='Threshold',\n",
    "         ylabel='False positive rate')"
   ]
  },
  {
   "cell_type": "markdown",
   "metadata": {},
   "source": []
  },
  {
   "cell_type": "code",
   "execution_count": null,
   "metadata": {},
   "outputs": [],
   "source": [
    "plt.axhline(32.25, color='gray')\n",
    "sweep_thresh(black).plot(label='Black', color='gray')\n",
    "sweep_thresh(black_female).plot(label='Black female')\n",
    "sweep_thresh(old_black_female).plot(label='Old black female')\n",
    "\n",
    "decorate(xlabel='Threshold',\n",
    "         ylabel='False positive rate')"
   ]
  },
  {
   "cell_type": "markdown",
   "metadata": {},
   "source": []
  },
  {
   "cell_type": "code",
   "execution_count": null,
   "metadata": {},
   "outputs": [],
   "source": [
    "ybm_thresh = find_threshold(young_black_male, 32.35)"
   ]
  },
  {
   "cell_type": "markdown",
   "metadata": {},
   "source": []
  },
  {
   "cell_type": "code",
   "execution_count": null,
   "metadata": {},
   "outputs": [],
   "source": [
    "obf_thresh = find_threshold(old_black_female, 32.35)"
   ]
  },
  {
   "cell_type": "markdown",
   "metadata": {},
   "source": []
  },
  {
   "cell_type": "code",
   "execution_count": null,
   "metadata": {},
   "outputs": [],
   "source": [
    "interpolate(calibration_curve(cp), ybm_thresh)"
   ]
  },
  {
   "cell_type": "markdown",
   "metadata": {},
   "source": []
  },
  {
   "cell_type": "code",
   "execution_count": null,
   "metadata": {},
   "outputs": [],
   "source": [
    "interpolate(calibration_curve(cp), obf_thresh)"
   ]
  },
  {
   "cell_type": "markdown",
   "metadata": {},
   "source": []
  },
  {
   "cell_type": "code",
   "execution_count": null,
   "metadata": {},
   "outputs": [],
   "source": []
  },
  {
   "cell_type": "markdown",
   "metadata": {},
   "source": [
    "## Dead Ends"
   ]
  },
  {
   "cell_type": "code",
   "execution_count": null,
   "metadata": {},
   "outputs": [],
   "source": [
    "cp['recid'] = (cp['two_year_recid'] == 1)"
   ]
  },
  {
   "cell_type": "code",
   "execution_count": null,
   "metadata": {},
   "outputs": [],
   "source": [
    "index = 'decile_score'\n",
    "columns = 'race', 'recid'\n",
    "table = cp.pivot_table(index=index, columns=columns, \n",
    "                       values='id', aggfunc='count', fill_value=0)\n",
    "table"
   ]
  },
  {
   "cell_type": "code",
   "execution_count": null,
   "metadata": {},
   "outputs": [],
   "source": [
    "for column in table.columns:\n",
    "    normalize(table[column])\n",
    "    \n",
    "table"
   ]
  },
  {
   "cell_type": "code",
   "execution_count": null,
   "metadata": {},
   "outputs": [],
   "source": [
    "table['Caucasian', True].cumsum().plot()\n",
    "table['African-American', True].cumsum().plot()"
   ]
  },
  {
   "cell_type": "code",
   "execution_count": null,
   "metadata": {},
   "outputs": [],
   "source": [
    "table['Caucasian', False].cumsum().plot()\n",
    "table['African-American', False].cumsum().plot()"
   ]
  },
  {
   "cell_type": "code",
   "execution_count": null,
   "metadata": {},
   "outputs": [],
   "source": []
  },
  {
   "cell_type": "code",
   "execution_count": null,
   "metadata": {},
   "outputs": [],
   "source": []
  },
  {
   "cell_type": "code",
   "execution_count": null,
   "metadata": {},
   "outputs": [],
   "source": []
  },
  {
   "cell_type": "code",
   "execution_count": null,
   "metadata": {},
   "outputs": [],
   "source": [
    "cal_all = calibration_curve(cp)\n",
    "cal_all.plot()\n",
    "decorate(ylabel='Probability of recidivism')"
   ]
  },
  {
   "cell_type": "code",
   "execution_count": null,
   "metadata": {},
   "outputs": [],
   "source": [
    "from scipy.interpolate import interp1d"
   ]
  },
  {
   "cell_type": "code",
   "execution_count": null,
   "metadata": {},
   "outputs": [],
   "source": [
    "def interpolate(series, value, **options):\n",
    "    \"\"\"Evaluate a function at a value.\n",
    "    \n",
    "    series: Series\n",
    "    value: number\n",
    "    options: passed to interp1d (default is linear interp)\n",
    "    \n",
    "    returns: number\n",
    "    \"\"\"\n",
    "    interp = interp1d(series.index, series.values, **options)\n",
    "    return interp(value)"
   ]
  },
  {
   "cell_type": "code",
   "execution_count": null,
   "metadata": {},
   "outputs": [],
   "source": [
    "interpolate(cal_all, 3.5)"
   ]
  },
  {
   "cell_type": "code",
   "execution_count": null,
   "metadata": {},
   "outputs": [],
   "source": [
    "interpolate(cal_all, 6.5)"
   ]
  },
  {
   "cell_type": "code",
   "execution_count": null,
   "metadata": {},
   "outputs": [],
   "source": [
    "cp['est_prob_recid'] = interpolate(cal_all, cp['decile_score'])"
   ]
  },
  {
   "cell_type": "code",
   "execution_count": null,
   "metadata": {},
   "outputs": [],
   "source": [
    "def make_pmf(series):\n",
    "    \"\"\"Make a PMF.\"\"\"\n",
    "    counts = series.value_counts(sort=False).sort_index()\n",
    "    normalize(counts)\n",
    "    return counts\n",
    "\n",
    "def normalize(series):\n",
    "    series /= series.sum()\n",
    "\n",
    "def plot_pmf(pmf, **options):\n",
    "    \"\"\"Plot a PMF.\"\"\"\n",
    "    plt.plot(pmf.index, pmf.values, **options)"
   ]
  },
  {
   "cell_type": "code",
   "execution_count": null,
   "metadata": {},
   "outputs": [],
   "source": [
    "def make_cdf(series):\n",
    "    \"\"\"Make a CDF.\"\"\"\n",
    "    return make_pmf(series).cumsum()\n",
    "\n",
    "def plot_cdf(cdf, **options):\n",
    "    \"\"\"Plot a CDF as a step function.\"\"\"\n",
    "    plt.step(cdf.index, cdf.values, where='post', **options)"
   ]
  },
  {
   "cell_type": "code",
   "execution_count": null,
   "metadata": {},
   "outputs": [],
   "source": [
    "# scores for recidivists and non\n",
    "scores_recid = cp.loc[recid, 'decile_score']\n",
    "scores_norecid = cp.loc[~recid, 'decile_score']"
   ]
  },
  {
   "cell_type": "code",
   "execution_count": null,
   "metadata": {},
   "outputs": [],
   "source": [
    "pmf_scores_recid = make_pmf(scores_recid)\n",
    "pmf_scores_norecid = make_pmf(scores_norecid)"
   ]
  },
  {
   "cell_type": "code",
   "execution_count": null,
   "metadata": {},
   "outputs": [],
   "source": [
    "plot_pmf(pmf_scores_recid)\n",
    "plot_pmf(pmf_scores_norecid)"
   ]
  },
  {
   "cell_type": "code",
   "execution_count": null,
   "metadata": {},
   "outputs": [],
   "source": [
    "# implied probabilities for recidivists and non\n",
    "probs_recid = cp.loc[recid, 'prob_recid']\n",
    "probs_norecid = cp.loc[~recid, 'prob_recid']"
   ]
  },
  {
   "cell_type": "code",
   "execution_count": null,
   "metadata": {},
   "outputs": [],
   "source": [
    "# distributions of implied probabilities for recivists and non\n",
    "pmf_probs_recid = make_pmf(probs_recid)\n",
    "pmf_probs_norecid = make_pmf(probs_norecid)"
   ]
  },
  {
   "cell_type": "code",
   "execution_count": null,
   "metadata": {},
   "outputs": [],
   "source": [
    "plot_pmf(pmf_probs_recid)\n",
    "plot_pmf(pmf_probs_norecid)"
   ]
  },
  {
   "cell_type": "code",
   "execution_count": null,
   "metadata": {},
   "outputs": [],
   "source": [
    "# distributions of implied probabilities for recivists and non\n",
    "cdf_probs_recid = make_cdf(probs_recid)\n",
    "cdf_probs_norecid = make_cdf(probs_norecid)"
   ]
  },
  {
   "cell_type": "code",
   "execution_count": null,
   "metadata": {},
   "outputs": [],
   "source": [
    "plot_cdf(cdf_probs_recid)\n",
    "plot_cdf(cdf_probs_norecid)"
   ]
  },
  {
   "cell_type": "code",
   "execution_count": null,
   "metadata": {},
   "outputs": [],
   "source": [
    "import scipy.stats\n",
    "\n",
    "def estimate_beta(seq):\n",
    "    \"\"\"Estimate the parameters of a beta distribution.\n",
    "    \n",
    "    See https://en.wikipedia.org/wiki/Beta_distribution#Two_unknown_parameters\n",
    "    \n",
    "    seq: sequence of probabilities\n",
    "    \n",
    "    returns: scipy.stats.beta object\n",
    "    \"\"\"\n",
    "    xbar = seq.mean()\n",
    "    vbar = seq.var()\n",
    "    assert vbar < xbar * (1-xbar)\n",
    "    \n",
    "    product = xbar * (1-xbar) / vbar - 1\n",
    "    a = xbar * product\n",
    "    b = (1-xbar) * product\n",
    "\n",
    "    return scipy.stats.beta(a, b)"
   ]
  },
  {
   "cell_type": "code",
   "execution_count": null,
   "metadata": {},
   "outputs": [],
   "source": [
    "dist_probs_recid = estimate_beta(probs_recid)\n",
    "dist_probs_recid.args"
   ]
  },
  {
   "cell_type": "code",
   "execution_count": null,
   "metadata": {},
   "outputs": [],
   "source": [
    "dist_probs_norecid = estimate_beta(probs_norecid)\n",
    "dist_probs_norecid.args"
   ]
  },
  {
   "cell_type": "code",
   "execution_count": null,
   "metadata": {},
   "outputs": [],
   "source": [
    "qs = np.linspace(0, 1, 21)\n",
    "ps = dist_probs_recid.cdf(qs)\n",
    "cdf_probs_recid_model = pd.Series(ps, index=qs)\n",
    "\n",
    "ps = dist_probs_norecid.cdf(qs)\n",
    "cdf_probs_norecid_model = pd.Series(ps, index=qs)"
   ]
  },
  {
   "cell_type": "code",
   "execution_count": null,
   "metadata": {},
   "outputs": [],
   "source": [
    "cdf_probs_recid_model.plot(color='C0', alpha=0.4, label='recid model')\n",
    "plot_cdf(cdf_probs_recid, label='recid data')\n",
    "\n",
    "cdf_probs_norecid_model.plot(color='C1', alpha=0.4, label='norecid model')\n",
    "plot_cdf(cdf_probs_norecid, label='norecid data')\n",
    "\n",
    "decorate(xlabel='Probability of recidivism',\n",
    "         ylabel='CDF',\n",
    "         title='Distribution of probability')\n",
    "plt.legend();"
   ]
  },
  {
   "cell_type": "code",
   "execution_count": null,
   "metadata": {},
   "outputs": [],
   "source": [
    "n = len(cp)\n",
    "prob_recid_sample = dist_probs_recid.rvs(n)\n",
    "prob_norecid_sample = dist_probs_norecid.rvs(n)\n",
    "flip = (np.random.random(n) < cp['prob_recid'])"
   ]
  },
  {
   "cell_type": "code",
   "execution_count": null,
   "metadata": {},
   "outputs": [],
   "source": [
    "qs = np.linspace(0, 1, 21)\n",
    "ps = dist_probs_recid.pdf(qs)\n",
    "pdf_probs_recid_model = pd.Series(ps, index=qs)\n",
    "pdf_probs_recid_model /= pdf_probs_recid_model.sum()\n",
    "\n",
    "ps = dist_probs_norecid.pdf(qs)\n",
    "pdf_probs_norecid_model = pd.Series(ps, index=qs)\n",
    "pdf_probs_norecid_model /= pdf_probs_norecid_model.sum()"
   ]
  },
  {
   "cell_type": "code",
   "execution_count": null,
   "metadata": {},
   "outputs": [],
   "source": [
    "plot_pmf(pmf_probs_recid)\n",
    "plot_pmf(pmf_probs_norecid)\n",
    "\n",
    "pdf_probs_recid_model.plot(color='C0', alpha=0.4, label='recid model')\n",
    "\n",
    "pdf_probs_norecid_model.plot(color='C1', alpha=0.4, label='norecid model')\n",
    "\n",
    "decorate(xlabel='Probability of recidivism',\n",
    "         ylabel='PDF',\n",
    "         title='Distribution of probability')\n",
    "plt.legend();"
   ]
  },
  {
   "cell_type": "code",
   "execution_count": null,
   "metadata": {},
   "outputs": [],
   "source": []
  },
  {
   "cell_type": "code",
   "execution_count": null,
   "metadata": {},
   "outputs": [],
   "source": [
    "def crossing(series, value, **options):\n",
    "    \"\"\"Find where a function crosses a value.\n",
    "    \n",
    "    series: Series\n",
    "    value: number\n",
    "    options: passed to interp1d (default is linear interp)\n",
    "    \n",
    "    returns: number\n",
    "    \"\"\"\n",
    "    interp = interp1d(series.values, series.index, **options)\n",
    "    return interp(value)"
   ]
  },
  {
   "cell_type": "code",
   "execution_count": null,
   "metadata": {},
   "outputs": [],
   "source": [
    "crossing(cal_all, 0.4)"
   ]
  },
  {
   "cell_type": "code",
   "execution_count": null,
   "metadata": {},
   "outputs": [],
   "source": [
    "crossing(cal_all, 0.6)"
   ]
  },
  {
   "cell_type": "code",
   "execution_count": null,
   "metadata": {},
   "outputs": [],
   "source": [
    "def convert_probs_to_scores(pmf):\n",
    "\n",
    "    options = dict(bounds_error=False, fill_value=(1, 10))\n",
    "\n",
    "    ps = pmf.to_numpy()\n",
    "    index = pmf.index\n",
    "\n",
    "    qs = crossing(cal_all, index, **options)\n",
    "\n",
    "    return pd.Series(ps, index=qs)"
   ]
  },
  {
   "cell_type": "code",
   "execution_count": null,
   "metadata": {},
   "outputs": [],
   "source": [
    "pdf_scores_recid_model = convert_probs_to_scores(pdf_recid_model)\n",
    "pdf_scores_norecid_model = convert_probs_to_scores(pdf_norecid_model)"
   ]
  },
  {
   "cell_type": "code",
   "execution_count": null,
   "metadata": {},
   "outputs": [],
   "source": [
    "pmf_scores_recid.plot(label='scores recid')\n",
    "pmf_scores_norecid.plot(label='scores norecid')\n",
    "\n",
    "pdf_scores_recid_model.plot(color='C0', alpha=0.4, label='recid model')\n",
    "\n",
    "pdf_scores_norecid_model.plot(color='C1', alpha=0.4, label='norecid model')\n",
    "\n",
    "decorate(xlabel='Risk score',\n",
    "         ylabel='PDF',\n",
    "         title='Distribution of risk scores')\n",
    "plt.legend();"
   ]
  },
  {
   "cell_type": "code",
   "execution_count": null,
   "metadata": {},
   "outputs": [],
   "source": [
    "actual_prob_recid = 0.5\n",
    "prob_dist = (actual_prob_recid * pdf_probs_recid_model +\n",
    "            (1-actual_prob_recid) * pdf_probs_norecid_model)\n",
    "normalize(prob_dist)"
   ]
  },
  {
   "cell_type": "code",
   "execution_count": null,
   "metadata": {},
   "outputs": [],
   "source": [
    "prob_dist.plot()\n",
    "\n",
    "pdf_probs_recid_model.plot(color='C0', alpha=0.4, label='recid model')\n",
    "\n",
    "pdf_probs_norecid_model.plot(color='C1', alpha=0.4, label='norecid model')\n",
    "\n",
    "decorate(xlabel='Probability of recidivism',\n",
    "         ylabel='PDF',\n",
    "         title='Distribution of probability')\n",
    "plt.legend();"
   ]
  },
  {
   "cell_type": "code",
   "execution_count": null,
   "metadata": {},
   "outputs": [],
   "source": [
    "actual_prob_recid = 0.5\n",
    "score_dist = (actual_prob_recid * pdf_scores_recid_model +\n",
    "            (1-actual_prob_recid) * pdf_scores_norecid_model)\n",
    "normalize(score_dist)"
   ]
  },
  {
   "cell_type": "code",
   "execution_count": null,
   "metadata": {},
   "outputs": [],
   "source": [
    "score_dist.plot()\n",
    "\n",
    "pdf_scores_recid_model.plot(color='C0', alpha=0.4, label='recid model')\n",
    "\n",
    "pdf_scores_norecid_model.plot(color='C1', alpha=0.4, label='norecid model')\n",
    "\n",
    "decorate(xlabel='Risk score',\n",
    "         ylabel='PDF',\n",
    "         title='Distribution of risk scores')\n",
    "plt.legend();"
   ]
  },
  {
   "cell_type": "code",
   "execution_count": null,
   "metadata": {},
   "outputs": [],
   "source": [
    "def make_error_dist(std_dev):\n",
    "    \"\"\"Make a discrete Gaussian distribution.\n",
    "    \n",
    "    std_dev: standard deviation\n",
    "    \n",
    "    returns: Series that maps errors to probabilities\n",
    "    \"\"\"\n",
    "    errors = np.linspace(-4, 4, 21)\n",
    "    prob_error = np.exp(-(errors/std_dev)**2)\n",
    "    prob_error /= np.sum(prob_error)\n",
    "    error_dist = pd.Series(prob_error, index=errors)\n",
    "    return error_dist"
   ]
  },
  {
   "cell_type": "code",
   "execution_count": null,
   "metadata": {},
   "outputs": [],
   "source": [
    "error_dist = make_error_dist(std_dev=2)\n",
    "error_dist.plot(label='')\n",
    "decorate(xlabel='Error (score)',\n",
    "         ylabel='Probability')"
   ]
  }
 ],
 "metadata": {
  "kernelspec": {
   "display_name": "Python 3",
   "language": "python",
   "name": "python3"
  },
  "language_info": {
   "codemirror_mode": {
    "name": "ipython",
    "version": 3
   },
   "file_extension": ".py",
   "mimetype": "text/x-python",
   "name": "python",
   "nbconvert_exporter": "python",
   "pygments_lexer": "ipython3",
   "version": "3.7.6"
  }
 },
 "nbformat": 4,
 "nbformat_minor": 4
}
