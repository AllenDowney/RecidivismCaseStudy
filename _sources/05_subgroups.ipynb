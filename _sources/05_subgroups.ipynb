{
 "cells": [
  {
   "cell_type": "markdown",
   "metadata": {},
   "source": [
    "# Subgroups"
   ]
  },
  {
   "cell_type": "markdown",
   "metadata": {},
   "source": [
    "This is the fifth in a series of notebooks that make up a [case study on classification and algorithmic fairness](https://allendowney.github.io/RecidivismCaseStudy/).\n",
    "This case study is part of the [*Elements of Data Science*](https://allendowney.github.io/ElementsOfDataScience/) curriculum.\n",
    "[Click here to run this notebook on Colab](https://colab.research.google.com/github/AllenDowney/RecidivismCaseStudy/blob/v1/05_subgroups.ipynb)."
   ]
  },
  {
   "cell_type": "code",
   "execution_count": 1,
   "metadata": {
    "tags": [
     "remove-cell"
    ]
   },
   "outputs": [
    {
     "data": {
      "application/javascript": [
       "\n",
       "            setTimeout(function() {\n",
       "                var nbb_cell_id = 1;\n",
       "                var nbb_unformatted_code = \"from os.path import basename, exists\\n\\n\\ndef download(url):\\n    filename = basename(url)\\n    if not exists(filename):\\n        from urllib.request import urlretrieve\\n\\n        local, _ = urlretrieve(url, filename)\\n        print(\\\"Downloaded \\\" + local)\\n\\n\\ndownload(\\n    \\\"https://raw.githubusercontent.com/AllenDowney/RecidivismCaseStudy/v1/utils.py\\\"\\n)\\n\\n%load_ext nb_black\";\n",
       "                var nbb_formatted_code = \"from os.path import basename, exists\\n\\n\\ndef download(url):\\n    filename = basename(url)\\n    if not exists(filename):\\n        from urllib.request import urlretrieve\\n\\n        local, _ = urlretrieve(url, filename)\\n        print(\\\"Downloaded \\\" + local)\\n\\n\\ndownload(\\n    \\\"https://raw.githubusercontent.com/AllenDowney/RecidivismCaseStudy/v1/utils.py\\\"\\n)\\n\\n%load_ext nb_black\";\n",
       "                var nbb_cells = Jupyter.notebook.get_cells();\n",
       "                for (var i = 0; i < nbb_cells.length; ++i) {\n",
       "                    if (nbb_cells[i].input_prompt_number == nbb_cell_id) {\n",
       "                        if (nbb_cells[i].get_text() == nbb_unformatted_code) {\n",
       "                             nbb_cells[i].set_text(nbb_formatted_code);\n",
       "                        }\n",
       "                        break;\n",
       "                    }\n",
       "                }\n",
       "            }, 500);\n",
       "            "
      ],
      "text/plain": [
       "<IPython.core.display.Javascript object>"
      ]
     },
     "metadata": {},
     "output_type": "display_data"
    }
   ],
   "source": [
    "from os.path import basename, exists\n",
    "\n",
    "\n",
    "def download(url):\n",
    "    filename = basename(url)\n",
    "    if not exists(filename):\n",
    "        from urllib.request import urlretrieve\n",
    "\n",
    "        local, _ = urlretrieve(url, filename)\n",
    "        print(\"Downloaded \" + local)\n",
    "\n",
    "\n",
    "download(\n",
    "    \"https://raw.githubusercontent.com/AllenDowney/RecidivismCaseStudy/v1/utils.py\"\n",
    ")"
   ]
  },
  {
   "cell_type": "markdown",
   "metadata": {},
   "source": [
    "## Data\n",
    "\n",
    "The authors of \"Machine Bias\" published their data and analysis in [this repository](https://github.com/propublica/compas-analysis).\n",
    "\n",
    "The terms of use for the data [are here](https://www.propublica.org/datastore/terms).  In compliance with those terms, I am not redistributing the data.  The following cell downloads the data file we'll use directly from their repository."
   ]
  },
  {
   "cell_type": "code",
   "execution_count": 2,
   "metadata": {},
   "outputs": [
    {
     "data": {
      "application/javascript": [
       "\n",
       "            setTimeout(function() {\n",
       "                var nbb_cell_id = 2;\n",
       "                var nbb_unformatted_code = \"download(\\n    \\\"https://github.com/propublica/compas-analysis/raw/master/compas-scores-two-years.csv\\\"\\n)\";\n",
       "                var nbb_formatted_code = \"download(\\n    \\\"https://github.com/propublica/compas-analysis/raw/master/compas-scores-two-years.csv\\\"\\n)\";\n",
       "                var nbb_cells = Jupyter.notebook.get_cells();\n",
       "                for (var i = 0; i < nbb_cells.length; ++i) {\n",
       "                    if (nbb_cells[i].input_prompt_number == nbb_cell_id) {\n",
       "                        if (nbb_cells[i].get_text() == nbb_unformatted_code) {\n",
       "                             nbb_cells[i].set_text(nbb_formatted_code);\n",
       "                        }\n",
       "                        break;\n",
       "                    }\n",
       "                }\n",
       "            }, 500);\n",
       "            "
      ],
      "text/plain": [
       "<IPython.core.display.Javascript object>"
      ]
     },
     "metadata": {},
     "output_type": "display_data"
    }
   ],
   "source": [
    "download(\n",
    "    \"https://github.com/propublica/compas-analysis/raw/master/compas-scores-two-years.csv\"\n",
    ")"
   ]
  },
  {
   "cell_type": "markdown",
   "metadata": {},
   "source": [
    "The following cell read the data file:"
   ]
  },
  {
   "cell_type": "code",
   "execution_count": 3,
   "metadata": {},
   "outputs": [
    {
     "data": {
      "text/plain": [
       "(7214, 53)"
      ]
     },
     "execution_count": 3,
     "metadata": {},
     "output_type": "execute_result"
    },
    {
     "data": {
      "application/javascript": [
       "\n",
       "            setTimeout(function() {\n",
       "                var nbb_cell_id = 3;\n",
       "                var nbb_unformatted_code = \"import pandas as pd\\n\\ncp = pd.read_csv(\\\"compas-scores-two-years.csv\\\")\\ncp.shape\";\n",
       "                var nbb_formatted_code = \"import pandas as pd\\n\\ncp = pd.read_csv(\\\"compas-scores-two-years.csv\\\")\\ncp.shape\";\n",
       "                var nbb_cells = Jupyter.notebook.get_cells();\n",
       "                for (var i = 0; i < nbb_cells.length; ++i) {\n",
       "                    if (nbb_cells[i].input_prompt_number == nbb_cell_id) {\n",
       "                        if (nbb_cells[i].get_text() == nbb_unformatted_code) {\n",
       "                             nbb_cells[i].set_text(nbb_formatted_code);\n",
       "                        }\n",
       "                        break;\n",
       "                    }\n",
       "                }\n",
       "            }, 500);\n",
       "            "
      ],
      "text/plain": [
       "<IPython.core.display.Javascript object>"
      ]
     },
     "metadata": {},
     "output_type": "display_data"
    }
   ],
   "source": [
    "import pandas as pd\n",
    "\n",
    "cp = pd.read_csv(\"compas-scores-two-years.csv\")\n",
    "cp.shape"
   ]
  },
  {
   "cell_type": "markdown",
   "metadata": {},
   "source": [
    "## The reference class problem\n",
    "\n",
    "In the first notebook we replicated the analysis in the ProPublica article and computed various metrics of accuracy for white and black defendants.  We found that the predictive values (PPV and NPV) were similar for the two groups, but the error rates (FPR and FNR) were substantially different.\n",
    "\n",
    "In the previous notebook, we ran the same analysis for male and female defendants and found the opposite pattern: the error rates are about the same, but the predictive values are different.\n",
    "\n",
    "Neither scenario seems completely fair.  Comparing black and white defendants:\n",
    "\n",
    "* Among non-recidivists, black defendants were more likely to be classified as high risk (false positive).\n",
    "\n",
    "* Among recidivists, white defendants were more likely to be classified as low risk (false negative)."
   ]
  },
  {
   "cell_type": "markdown",
   "metadata": {},
   "source": [
    "Comparing male and female defendants:\n",
    "\n",
    "* Among defendants classified as high risk, female defendants were less likely to recidivate; that is, the test has lower PPV for women.\n",
    "\n",
    "* Among defendants classified as low risk, male defendants were less likely to \"survive\"; that is, the test has lower NPV for men.\n",
    "\n",
    "So it seems like we can't win.  If predictive values are the same for all groups, error rates are not (in general).  And if error rates are the same, predictive values are not."
   ]
  },
  {
   "cell_type": "markdown",
   "metadata": {},
   "source": [
    "Nevertheless, the designers of a test like COMPAS can make trade-offs among these kinds of errors.  And that raises two questions I would like to explore:\n",
    "\n",
    "1. What kind of fairness is COMPAS designed to achieve?  Are they trying to make predictive value the same for all groups?  Or error rates?  Or some compromise?\n",
    "\n",
    "2. What kind of fairness *should* a test like COMPAS achieve?\n",
    "\n",
    "To explore the first question, I will compute accuracy metrics for defendants grouped by age, race, and sex, and for the intersections of these groups (explained below)."
   ]
  },
  {
   "cell_type": "markdown",
   "metadata": {},
   "source": [
    "## Groups\n",
    "\n",
    "The following function takes a DataFrame containing COMPAS data and a list of variables to group by.  It returns a table with one row for each group and one column for each accuracy metric."
   ]
  },
  {
   "cell_type": "code",
   "execution_count": 4,
   "metadata": {},
   "outputs": [
    {
     "data": {
      "application/javascript": [
       "\n",
       "            setTimeout(function() {\n",
       "                var nbb_cell_id = 4;\n",
       "                var nbb_unformatted_code = \"from utils import make_matrix\\nfrom utils import compute_metrics\\n\\n\\ndef make_table(cp, group_vars):\\n    \\\"\\\"\\\"Make a table of metrics for each subgroup.\\n\\n    cp: DataFrame of COMPAS data\\n    group_vars: string or list of variable names to group by\\n\\n    returns: DataFrame\\n    \\\"\\\"\\\"\\n    # count the number of defendants in each group\\n    grouped = cp.groupby(group_vars)\\n    counts = grouped[\\\"id\\\"].count()\\n\\n    # make the table\\n    columns = [\\\"FPR\\\", \\\"FNR\\\", \\\"PPV\\\", \\\"NPV\\\", \\\"Prevalence\\\"]\\n    table = pd.DataFrame(index=counts.index, columns=columns, dtype=float)\\n\\n    # fill in the table\\n    for name, group in grouped:\\n        if len(group) < 50:\\n            continue\\n        m = make_matrix(group)\\n        metrics = compute_metrics(m)\\n        table.loc[name] = metrics[\\\"Percent\\\"]\\n\\n    table[\\\"Count\\\"] = counts\\n    return table\";\n",
       "                var nbb_formatted_code = \"from utils import make_matrix\\nfrom utils import compute_metrics\\n\\n\\ndef make_table(cp, group_vars):\\n    \\\"\\\"\\\"Make a table of metrics for each subgroup.\\n\\n    cp: DataFrame of COMPAS data\\n    group_vars: string or list of variable names to group by\\n\\n    returns: DataFrame\\n    \\\"\\\"\\\"\\n    # count the number of defendants in each group\\n    grouped = cp.groupby(group_vars)\\n    counts = grouped[\\\"id\\\"].count()\\n\\n    # make the table\\n    columns = [\\\"FPR\\\", \\\"FNR\\\", \\\"PPV\\\", \\\"NPV\\\", \\\"Prevalence\\\"]\\n    table = pd.DataFrame(index=counts.index, columns=columns, dtype=float)\\n\\n    # fill in the table\\n    for name, group in grouped:\\n        if len(group) < 50:\\n            continue\\n        m = make_matrix(group)\\n        metrics = compute_metrics(m)\\n        table.loc[name] = metrics[\\\"Percent\\\"]\\n\\n    table[\\\"Count\\\"] = counts\\n    return table\";\n",
       "                var nbb_cells = Jupyter.notebook.get_cells();\n",
       "                for (var i = 0; i < nbb_cells.length; ++i) {\n",
       "                    if (nbb_cells[i].input_prompt_number == nbb_cell_id) {\n",
       "                        if (nbb_cells[i].get_text() == nbb_unformatted_code) {\n",
       "                             nbb_cells[i].set_text(nbb_formatted_code);\n",
       "                        }\n",
       "                        break;\n",
       "                    }\n",
       "                }\n",
       "            }, 500);\n",
       "            "
      ],
      "text/plain": [
       "<IPython.core.display.Javascript object>"
      ]
     },
     "metadata": {},
     "output_type": "display_data"
    }
   ],
   "source": [
    "from utils import make_matrix\n",
    "from utils import compute_metrics\n",
    "\n",
    "\n",
    "def make_table(cp, group_vars):\n",
    "    \"\"\"Make a table of metrics for each subgroup.\n",
    "\n",
    "    cp: DataFrame of COMPAS data\n",
    "    group_vars: string or list of variable names to group by\n",
    "\n",
    "    returns: DataFrame\n",
    "    \"\"\"\n",
    "    # count the number of defendants in each group\n",
    "    grouped = cp.groupby(group_vars)\n",
    "    counts = grouped[\"id\"].count()\n",
    "\n",
    "    # make the table\n",
    "    columns = [\"FPR\", \"FNR\", \"PPV\", \"NPV\", \"Prevalence\"]\n",
    "    table = pd.DataFrame(index=counts.index, columns=columns, dtype=float)\n",
    "\n",
    "    # fill in the table\n",
    "    for name, group in grouped:\n",
    "        if len(group) < 50:\n",
    "            continue\n",
    "        m = make_matrix(group)\n",
    "        metrics = compute_metrics(m)\n",
    "        table.loc[name] = metrics[\"Percent\"]\n",
    "\n",
    "    table[\"Count\"] = counts\n",
    "    return table"
   ]
  },
  {
   "cell_type": "markdown",
   "metadata": {},
   "source": [
    "Here's the table for defendants grouped by race."
   ]
  },
  {
   "cell_type": "code",
   "execution_count": 5,
   "metadata": {},
   "outputs": [
    {
     "data": {
      "text/html": [
       "<div>\n",
       "<style scoped>\n",
       "    .dataframe tbody tr th:only-of-type {\n",
       "        vertical-align: middle;\n",
       "    }\n",
       "\n",
       "    .dataframe tbody tr th {\n",
       "        vertical-align: top;\n",
       "    }\n",
       "\n",
       "    .dataframe thead th {\n",
       "        text-align: right;\n",
       "    }\n",
       "</style>\n",
       "<table border=\"1\" class=\"dataframe\">\n",
       "  <thead>\n",
       "    <tr style=\"text-align: right;\">\n",
       "      <th></th>\n",
       "      <th>FPR</th>\n",
       "      <th>FNR</th>\n",
       "      <th>PPV</th>\n",
       "      <th>NPV</th>\n",
       "      <th>Prevalence</th>\n",
       "      <th>Count</th>\n",
       "    </tr>\n",
       "    <tr>\n",
       "      <th>race</th>\n",
       "      <th></th>\n",
       "      <th></th>\n",
       "      <th></th>\n",
       "      <th></th>\n",
       "      <th></th>\n",
       "      <th></th>\n",
       "    </tr>\n",
       "  </thead>\n",
       "  <tbody>\n",
       "    <tr>\n",
       "      <th>African-American</th>\n",
       "      <td>44.8</td>\n",
       "      <td>28.0</td>\n",
       "      <td>63.0</td>\n",
       "      <td>65.0</td>\n",
       "      <td>51.4</td>\n",
       "      <td>3696</td>\n",
       "    </tr>\n",
       "    <tr>\n",
       "      <th>Asian</th>\n",
       "      <td>NaN</td>\n",
       "      <td>NaN</td>\n",
       "      <td>NaN</td>\n",
       "      <td>NaN</td>\n",
       "      <td>NaN</td>\n",
       "      <td>32</td>\n",
       "    </tr>\n",
       "    <tr>\n",
       "      <th>Caucasian</th>\n",
       "      <td>23.5</td>\n",
       "      <td>47.7</td>\n",
       "      <td>59.1</td>\n",
       "      <td>71.2</td>\n",
       "      <td>39.4</td>\n",
       "      <td>2454</td>\n",
       "    </tr>\n",
       "    <tr>\n",
       "      <th>Hispanic</th>\n",
       "      <td>21.5</td>\n",
       "      <td>55.6</td>\n",
       "      <td>54.2</td>\n",
       "      <td>71.1</td>\n",
       "      <td>36.4</td>\n",
       "      <td>637</td>\n",
       "    </tr>\n",
       "    <tr>\n",
       "      <th>Native American</th>\n",
       "      <td>NaN</td>\n",
       "      <td>NaN</td>\n",
       "      <td>NaN</td>\n",
       "      <td>NaN</td>\n",
       "      <td>NaN</td>\n",
       "      <td>18</td>\n",
       "    </tr>\n",
       "    <tr>\n",
       "      <th>Other</th>\n",
       "      <td>14.8</td>\n",
       "      <td>67.7</td>\n",
       "      <td>54.4</td>\n",
       "      <td>69.8</td>\n",
       "      <td>35.3</td>\n",
       "      <td>377</td>\n",
       "    </tr>\n",
       "  </tbody>\n",
       "</table>\n",
       "</div>"
      ],
      "text/plain": [
       "                   FPR   FNR   PPV   NPV  Prevalence  Count\n",
       "race                                                       \n",
       "African-American  44.8  28.0  63.0  65.0        51.4   3696\n",
       "Asian              NaN   NaN   NaN   NaN         NaN     32\n",
       "Caucasian         23.5  47.7  59.1  71.2        39.4   2454\n",
       "Hispanic          21.5  55.6  54.2  71.1        36.4    637\n",
       "Native American    NaN   NaN   NaN   NaN         NaN     18\n",
       "Other             14.8  67.7  54.4  69.8        35.3    377"
      ]
     },
     "execution_count": 5,
     "metadata": {},
     "output_type": "execute_result"
    },
    {
     "data": {
      "application/javascript": [
       "\n",
       "            setTimeout(function() {\n",
       "                var nbb_cell_id = 5;\n",
       "                var nbb_unformatted_code = \"table1 = make_table(cp, \\\"race\\\")\\ntable1\";\n",
       "                var nbb_formatted_code = \"table1 = make_table(cp, \\\"race\\\")\\ntable1\";\n",
       "                var nbb_cells = Jupyter.notebook.get_cells();\n",
       "                for (var i = 0; i < nbb_cells.length; ++i) {\n",
       "                    if (nbb_cells[i].input_prompt_number == nbb_cell_id) {\n",
       "                        if (nbb_cells[i].get_text() == nbb_unformatted_code) {\n",
       "                             nbb_cells[i].set_text(nbb_formatted_code);\n",
       "                        }\n",
       "                        break;\n",
       "                    }\n",
       "                }\n",
       "            }, 500);\n",
       "            "
      ],
      "text/plain": [
       "<IPython.core.display.Javascript object>"
      ]
     },
     "metadata": {},
     "output_type": "display_data"
    }
   ],
   "source": [
    "table1 = make_table(cp, \"race\")\n",
    "table1"
   ]
  },
  {
   "cell_type": "markdown",
   "metadata": {},
   "source": [
    "Some rows contain `NaN` values because I did not compute metrics for groups with fewer than 50 defendants.\n",
    "\n",
    "`table1` confirms results from previous analysis and extends them to other groups:\n",
    "\n",
    "* Predicive values are comparable for all racial groups, although PPV is highest for black defendants and NPV is lowest.\n",
    "\n",
    "* Error rates are substantially different in different groups.  FPR is highest for black defendants, lower for white and Hispanic defendants, and lowest for defendants in other racial groups.  FNR is highest for Other and lowest for African-American.\n",
    "\n",
    "The following table shows the breakdown by sex."
   ]
  },
  {
   "cell_type": "code",
   "execution_count": 6,
   "metadata": {},
   "outputs": [
    {
     "data": {
      "text/html": [
       "<div>\n",
       "<style scoped>\n",
       "    .dataframe tbody tr th:only-of-type {\n",
       "        vertical-align: middle;\n",
       "    }\n",
       "\n",
       "    .dataframe tbody tr th {\n",
       "        vertical-align: top;\n",
       "    }\n",
       "\n",
       "    .dataframe thead th {\n",
       "        text-align: right;\n",
       "    }\n",
       "</style>\n",
       "<table border=\"1\" class=\"dataframe\">\n",
       "  <thead>\n",
       "    <tr style=\"text-align: right;\">\n",
       "      <th></th>\n",
       "      <th>FPR</th>\n",
       "      <th>FNR</th>\n",
       "      <th>PPV</th>\n",
       "      <th>NPV</th>\n",
       "      <th>Prevalence</th>\n",
       "      <th>Count</th>\n",
       "    </tr>\n",
       "    <tr>\n",
       "      <th>sex</th>\n",
       "      <th></th>\n",
       "      <th></th>\n",
       "      <th></th>\n",
       "      <th></th>\n",
       "      <th></th>\n",
       "      <th></th>\n",
       "    </tr>\n",
       "  </thead>\n",
       "  <tbody>\n",
       "    <tr>\n",
       "      <th>Female</th>\n",
       "      <td>32.1</td>\n",
       "      <td>39.2</td>\n",
       "      <td>51.3</td>\n",
       "      <td>75.7</td>\n",
       "      <td>35.7</td>\n",
       "      <td>1395</td>\n",
       "    </tr>\n",
       "    <tr>\n",
       "      <th>Male</th>\n",
       "      <td>32.4</td>\n",
       "      <td>37.1</td>\n",
       "      <td>63.5</td>\n",
       "      <td>67.0</td>\n",
       "      <td>47.3</td>\n",
       "      <td>5819</td>\n",
       "    </tr>\n",
       "  </tbody>\n",
       "</table>\n",
       "</div>"
      ],
      "text/plain": [
       "         FPR   FNR   PPV   NPV  Prevalence  Count\n",
       "sex                                              \n",
       "Female  32.1  39.2  51.3  75.7        35.7   1395\n",
       "Male    32.4  37.1  63.5  67.0        47.3   5819"
      ]
     },
     "execution_count": 6,
     "metadata": {},
     "output_type": "execute_result"
    },
    {
     "data": {
      "application/javascript": [
       "\n",
       "            setTimeout(function() {\n",
       "                var nbb_cell_id = 6;\n",
       "                var nbb_unformatted_code = \"table2 = make_table(cp, \\\"sex\\\")\\ntable2\";\n",
       "                var nbb_formatted_code = \"table2 = make_table(cp, \\\"sex\\\")\\ntable2\";\n",
       "                var nbb_cells = Jupyter.notebook.get_cells();\n",
       "                for (var i = 0; i < nbb_cells.length; ++i) {\n",
       "                    if (nbb_cells[i].input_prompt_number == nbb_cell_id) {\n",
       "                        if (nbb_cells[i].get_text() == nbb_unformatted_code) {\n",
       "                             nbb_cells[i].set_text(nbb_formatted_code);\n",
       "                        }\n",
       "                        break;\n",
       "                    }\n",
       "                }\n",
       "            }, 500);\n",
       "            "
      ],
      "text/plain": [
       "<IPython.core.display.Javascript object>"
      ]
     },
     "metadata": {},
     "output_type": "display_data"
    }
   ],
   "source": [
    "table2 = make_table(cp, \"sex\")\n",
    "table2"
   ]
  },
  {
   "cell_type": "markdown",
   "metadata": {},
   "source": [
    "Again, these results are consistent with previous analysis.  Comparing male and female defendants, the error rates are comparable, but the predictive values are substantially different.\n",
    "\n",
    "Next we'll look at the breakdown by age, but first I'll recode the age categories so their ordering in the table is more logical:"
   ]
  },
  {
   "cell_type": "code",
   "execution_count": 7,
   "metadata": {},
   "outputs": [
    {
     "data": {
      "text/plain": [
       "Index(['25 - 45', 'Greater than 45', 'Less than 25'], dtype='object', name='age_cat')"
      ]
     },
     "execution_count": 7,
     "metadata": {},
     "output_type": "execute_result"
    },
    {
     "data": {
      "application/javascript": [
       "\n",
       "            setTimeout(function() {\n",
       "                var nbb_cell_id = 7;\n",
       "                var nbb_unformatted_code = \"cp[\\\"age_cat\\\"].value_counts().index\";\n",
       "                var nbb_formatted_code = \"cp[\\\"age_cat\\\"].value_counts().index\";\n",
       "                var nbb_cells = Jupyter.notebook.get_cells();\n",
       "                for (var i = 0; i < nbb_cells.length; ++i) {\n",
       "                    if (nbb_cells[i].input_prompt_number == nbb_cell_id) {\n",
       "                        if (nbb_cells[i].get_text() == nbb_unformatted_code) {\n",
       "                             nbb_cells[i].set_text(nbb_formatted_code);\n",
       "                        }\n",
       "                        break;\n",
       "                    }\n",
       "                }\n",
       "            }, 500);\n",
       "            "
      ],
      "text/plain": [
       "<IPython.core.display.Javascript object>"
      ]
     },
     "metadata": {},
     "output_type": "display_data"
    }
   ],
   "source": [
    "cp[\"age_cat\"].value_counts().index"
   ]
  },
  {
   "cell_type": "code",
   "execution_count": 8,
   "metadata": {},
   "outputs": [
    {
     "data": {
      "application/javascript": [
       "\n",
       "            setTimeout(function() {\n",
       "                var nbb_cell_id = 8;\n",
       "                var nbb_unformatted_code = \"d = {\\n    \\\"Less than 25\\\": \\\"1 Younger than 25\\\",\\n    \\\"25 - 45\\\": \\\"2 Between 25 - 45\\\",\\n    \\\"Greater than 45\\\": \\\"3 Older than 45\\\",\\n}\\ncp[\\\"age_cat_recode\\\"] = cp[\\\"age_cat\\\"].replace(d)\";\n",
       "                var nbb_formatted_code = \"d = {\\n    \\\"Less than 25\\\": \\\"1 Younger than 25\\\",\\n    \\\"25 - 45\\\": \\\"2 Between 25 - 45\\\",\\n    \\\"Greater than 45\\\": \\\"3 Older than 45\\\",\\n}\\ncp[\\\"age_cat_recode\\\"] = cp[\\\"age_cat\\\"].replace(d)\";\n",
       "                var nbb_cells = Jupyter.notebook.get_cells();\n",
       "                for (var i = 0; i < nbb_cells.length; ++i) {\n",
       "                    if (nbb_cells[i].input_prompt_number == nbb_cell_id) {\n",
       "                        if (nbb_cells[i].get_text() == nbb_unformatted_code) {\n",
       "                             nbb_cells[i].set_text(nbb_formatted_code);\n",
       "                        }\n",
       "                        break;\n",
       "                    }\n",
       "                }\n",
       "            }, 500);\n",
       "            "
      ],
      "text/plain": [
       "<IPython.core.display.Javascript object>"
      ]
     },
     "metadata": {},
     "output_type": "display_data"
    }
   ],
   "source": [
    "d = {\n",
    "    \"Less than 25\": \"1 Younger than 25\",\n",
    "    \"25 - 45\": \"2 Between 25 - 45\",\n",
    "    \"Greater than 45\": \"3 Older than 45\",\n",
    "}\n",
    "cp[\"age_cat_recode\"] = cp[\"age_cat\"].replace(d)"
   ]
  },
  {
   "cell_type": "markdown",
   "metadata": {},
   "source": [
    "Here's the breakdown by age group:"
   ]
  },
  {
   "cell_type": "code",
   "execution_count": 9,
   "metadata": {},
   "outputs": [
    {
     "data": {
      "text/html": [
       "<div>\n",
       "<style scoped>\n",
       "    .dataframe tbody tr th:only-of-type {\n",
       "        vertical-align: middle;\n",
       "    }\n",
       "\n",
       "    .dataframe tbody tr th {\n",
       "        vertical-align: top;\n",
       "    }\n",
       "\n",
       "    .dataframe thead th {\n",
       "        text-align: right;\n",
       "    }\n",
       "</style>\n",
       "<table border=\"1\" class=\"dataframe\">\n",
       "  <thead>\n",
       "    <tr style=\"text-align: right;\">\n",
       "      <th></th>\n",
       "      <th>FPR</th>\n",
       "      <th>FNR</th>\n",
       "      <th>PPV</th>\n",
       "      <th>NPV</th>\n",
       "      <th>Prevalence</th>\n",
       "      <th>Count</th>\n",
       "    </tr>\n",
       "    <tr>\n",
       "      <th>age_cat_recode</th>\n",
       "      <th></th>\n",
       "      <th></th>\n",
       "      <th></th>\n",
       "      <th></th>\n",
       "      <th></th>\n",
       "      <th></th>\n",
       "    </tr>\n",
       "  </thead>\n",
       "  <tbody>\n",
       "    <tr>\n",
       "      <th>1 Younger than 25</th>\n",
       "      <td>54.1</td>\n",
       "      <td>26.0</td>\n",
       "      <td>64.0</td>\n",
       "      <td>57.5</td>\n",
       "      <td>56.5</td>\n",
       "      <td>1529</td>\n",
       "    </tr>\n",
       "    <tr>\n",
       "      <th>2 Between 25 - 45</th>\n",
       "      <td>33.4</td>\n",
       "      <td>37.4</td>\n",
       "      <td>61.5</td>\n",
       "      <td>67.7</td>\n",
       "      <td>46.0</td>\n",
       "      <td>4109</td>\n",
       "    </tr>\n",
       "    <tr>\n",
       "      <th>3 Older than 45</th>\n",
       "      <td>16.8</td>\n",
       "      <td>57.2</td>\n",
       "      <td>54.1</td>\n",
       "      <td>75.9</td>\n",
       "      <td>31.6</td>\n",
       "      <td>1576</td>\n",
       "    </tr>\n",
       "  </tbody>\n",
       "</table>\n",
       "</div>"
      ],
      "text/plain": [
       "                    FPR   FNR   PPV   NPV  Prevalence  Count\n",
       "age_cat_recode                                              \n",
       "1 Younger than 25  54.1  26.0  64.0  57.5        56.5   1529\n",
       "2 Between 25 - 45  33.4  37.4  61.5  67.7        46.0   4109\n",
       "3 Older than 45    16.8  57.2  54.1  75.9        31.6   1576"
      ]
     },
     "execution_count": 9,
     "metadata": {},
     "output_type": "execute_result"
    },
    {
     "data": {
      "application/javascript": [
       "\n",
       "            setTimeout(function() {\n",
       "                var nbb_cell_id = 9;\n",
       "                var nbb_unformatted_code = \"table3 = make_table(cp, \\\"age_cat_recode\\\")\\ntable3\";\n",
       "                var nbb_formatted_code = \"table3 = make_table(cp, \\\"age_cat_recode\\\")\\ntable3\";\n",
       "                var nbb_cells = Jupyter.notebook.get_cells();\n",
       "                for (var i = 0; i < nbb_cells.length; ++i) {\n",
       "                    if (nbb_cells[i].input_prompt_number == nbb_cell_id) {\n",
       "                        if (nbb_cells[i].get_text() == nbb_unformatted_code) {\n",
       "                             nbb_cells[i].set_text(nbb_formatted_code);\n",
       "                        }\n",
       "                        break;\n",
       "                    }\n",
       "                }\n",
       "            }, 500);\n",
       "            "
      ],
      "text/plain": [
       "<IPython.core.display.Javascript object>"
      ]
     },
     "metadata": {},
     "output_type": "display_data"
    }
   ],
   "source": [
    "table3 = make_table(cp, \"age_cat_recode\")\n",
    "table3"
   ]
  },
  {
   "cell_type": "markdown",
   "metadata": {},
   "source": [
    "This table shows some patterns we have seen before \n",
    "\n",
    "* In groups with high prevalence, FPR is relatively high and FNR relatively low.\n",
    "\n",
    "* In groups with high prevalence, PPV is relatively hight and NPV relatively low.\n",
    "\n",
    "But it is still not clear whether COMPAS is trying to achieve constant error rates, constant predictive values, or a compromise between the two.\n",
    "\n",
    "It is also not clear what we can say about defendants in the intersections of these groups.  What are the metrics for a white male, or an older Hispanic defendant?\n",
    "\n",
    "I'll compute these intersections in the next section."
   ]
  },
  {
   "cell_type": "markdown",
   "metadata": {},
   "source": [
    "## Intersections\n",
    "\n",
    "In this section I'll compute metrics for defendants grouped by\n",
    "\n",
    "* Race and sex\n",
    "\n",
    "* Race and age\n",
    "\n",
    "* Sex and age\n",
    "\n",
    "* Race, sex, and age\n",
    "\n",
    "Then we'll plot the results."
   ]
  },
  {
   "cell_type": "code",
   "execution_count": 10,
   "metadata": {},
   "outputs": [
    {
     "data": {
      "text/html": [
       "<div>\n",
       "<style scoped>\n",
       "    .dataframe tbody tr th:only-of-type {\n",
       "        vertical-align: middle;\n",
       "    }\n",
       "\n",
       "    .dataframe tbody tr th {\n",
       "        vertical-align: top;\n",
       "    }\n",
       "\n",
       "    .dataframe thead th {\n",
       "        text-align: right;\n",
       "    }\n",
       "</style>\n",
       "<table border=\"1\" class=\"dataframe\">\n",
       "  <thead>\n",
       "    <tr style=\"text-align: right;\">\n",
       "      <th></th>\n",
       "      <th></th>\n",
       "      <th>FPR</th>\n",
       "      <th>FNR</th>\n",
       "      <th>PPV</th>\n",
       "      <th>NPV</th>\n",
       "      <th>Prevalence</th>\n",
       "      <th>Count</th>\n",
       "    </tr>\n",
       "    <tr>\n",
       "      <th>race</th>\n",
       "      <th>sex</th>\n",
       "      <th></th>\n",
       "      <th></th>\n",
       "      <th></th>\n",
       "      <th></th>\n",
       "      <th></th>\n",
       "      <th></th>\n",
       "    </tr>\n",
       "  </thead>\n",
       "  <tbody>\n",
       "    <tr>\n",
       "      <th rowspan=\"2\" valign=\"top\">African-American</th>\n",
       "      <th>Female</th>\n",
       "      <td>40.5</td>\n",
       "      <td>30.0</td>\n",
       "      <td>51.3</td>\n",
       "      <td>76.5</td>\n",
       "      <td>37.9</td>\n",
       "      <td>652</td>\n",
       "    </tr>\n",
       "    <tr>\n",
       "      <th>Male</th>\n",
       "      <td>46.1</td>\n",
       "      <td>27.7</td>\n",
       "      <td>65.1</td>\n",
       "      <td>62.1</td>\n",
       "      <td>54.3</td>\n",
       "      <td>3044</td>\n",
       "    </tr>\n",
       "    <tr>\n",
       "      <th rowspan=\"2\" valign=\"top\">Asian</th>\n",
       "      <th>Female</th>\n",
       "      <td>NaN</td>\n",
       "      <td>NaN</td>\n",
       "      <td>NaN</td>\n",
       "      <td>NaN</td>\n",
       "      <td>NaN</td>\n",
       "      <td>2</td>\n",
       "    </tr>\n",
       "    <tr>\n",
       "      <th>Male</th>\n",
       "      <td>NaN</td>\n",
       "      <td>NaN</td>\n",
       "      <td>NaN</td>\n",
       "      <td>NaN</td>\n",
       "      <td>NaN</td>\n",
       "      <td>30</td>\n",
       "    </tr>\n",
       "    <tr>\n",
       "      <th rowspan=\"2\" valign=\"top\">Caucasian</th>\n",
       "      <th>Female</th>\n",
       "      <td>30.2</td>\n",
       "      <td>43.2</td>\n",
       "      <td>50.4</td>\n",
       "      <td>74.9</td>\n",
       "      <td>35.1</td>\n",
       "      <td>567</td>\n",
       "    </tr>\n",
       "    <tr>\n",
       "      <th>Male</th>\n",
       "      <td>21.2</td>\n",
       "      <td>48.9</td>\n",
       "      <td>62.2</td>\n",
       "      <td>70.2</td>\n",
       "      <td>40.6</td>\n",
       "      <td>1887</td>\n",
       "    </tr>\n",
       "    <tr>\n",
       "      <th rowspan=\"2\" valign=\"top\">Hispanic</th>\n",
       "      <th>Female</th>\n",
       "      <td>10.0</td>\n",
       "      <td>72.7</td>\n",
       "      <td>56.2</td>\n",
       "      <td>72.4</td>\n",
       "      <td>32.0</td>\n",
       "      <td>103</td>\n",
       "    </tr>\n",
       "    <tr>\n",
       "      <th>Male</th>\n",
       "      <td>23.9</td>\n",
       "      <td>52.8</td>\n",
       "      <td>54.0</td>\n",
       "      <td>70.8</td>\n",
       "      <td>37.3</td>\n",
       "      <td>534</td>\n",
       "    </tr>\n",
       "    <tr>\n",
       "      <th rowspan=\"2\" valign=\"top\">Native American</th>\n",
       "      <th>Female</th>\n",
       "      <td>NaN</td>\n",
       "      <td>NaN</td>\n",
       "      <td>NaN</td>\n",
       "      <td>NaN</td>\n",
       "      <td>NaN</td>\n",
       "      <td>4</td>\n",
       "    </tr>\n",
       "    <tr>\n",
       "      <th>Male</th>\n",
       "      <td>NaN</td>\n",
       "      <td>NaN</td>\n",
       "      <td>NaN</td>\n",
       "      <td>NaN</td>\n",
       "      <td>NaN</td>\n",
       "      <td>14</td>\n",
       "    </tr>\n",
       "    <tr>\n",
       "      <th rowspan=\"2\" valign=\"top\">Other</th>\n",
       "      <th>Female</th>\n",
       "      <td>11.5</td>\n",
       "      <td>66.7</td>\n",
       "      <td>45.5</td>\n",
       "      <td>82.1</td>\n",
       "      <td>22.4</td>\n",
       "      <td>67</td>\n",
       "    </tr>\n",
       "    <tr>\n",
       "      <th>Male</th>\n",
       "      <td>15.6</td>\n",
       "      <td>67.8</td>\n",
       "      <td>55.9</td>\n",
       "      <td>66.9</td>\n",
       "      <td>38.1</td>\n",
       "      <td>310</td>\n",
       "    </tr>\n",
       "  </tbody>\n",
       "</table>\n",
       "</div>"
      ],
      "text/plain": [
       "                          FPR   FNR   PPV   NPV  Prevalence  Count\n",
       "race             sex                                              \n",
       "African-American Female  40.5  30.0  51.3  76.5        37.9    652\n",
       "                 Male    46.1  27.7  65.1  62.1        54.3   3044\n",
       "Asian            Female   NaN   NaN   NaN   NaN         NaN      2\n",
       "                 Male     NaN   NaN   NaN   NaN         NaN     30\n",
       "Caucasian        Female  30.2  43.2  50.4  74.9        35.1    567\n",
       "                 Male    21.2  48.9  62.2  70.2        40.6   1887\n",
       "Hispanic         Female  10.0  72.7  56.2  72.4        32.0    103\n",
       "                 Male    23.9  52.8  54.0  70.8        37.3    534\n",
       "Native American  Female   NaN   NaN   NaN   NaN         NaN      4\n",
       "                 Male     NaN   NaN   NaN   NaN         NaN     14\n",
       "Other            Female  11.5  66.7  45.5  82.1        22.4     67\n",
       "                 Male    15.6  67.8  55.9  66.9        38.1    310"
      ]
     },
     "execution_count": 10,
     "metadata": {},
     "output_type": "execute_result"
    },
    {
     "data": {
      "application/javascript": [
       "\n",
       "            setTimeout(function() {\n",
       "                var nbb_cell_id = 10;\n",
       "                var nbb_unformatted_code = \"table4 = make_table(cp, [\\\"race\\\", \\\"sex\\\"])\\ntable4\";\n",
       "                var nbb_formatted_code = \"table4 = make_table(cp, [\\\"race\\\", \\\"sex\\\"])\\ntable4\";\n",
       "                var nbb_cells = Jupyter.notebook.get_cells();\n",
       "                for (var i = 0; i < nbb_cells.length; ++i) {\n",
       "                    if (nbb_cells[i].input_prompt_number == nbb_cell_id) {\n",
       "                        if (nbb_cells[i].get_text() == nbb_unformatted_code) {\n",
       "                             nbb_cells[i].set_text(nbb_formatted_code);\n",
       "                        }\n",
       "                        break;\n",
       "                    }\n",
       "                }\n",
       "            }, 500);\n",
       "            "
      ],
      "text/plain": [
       "<IPython.core.display.Javascript object>"
      ]
     },
     "metadata": {},
     "output_type": "display_data"
    }
   ],
   "source": [
    "table4 = make_table(cp, [\"race\", \"sex\"])\n",
    "table4"
   ]
  },
  {
   "cell_type": "code",
   "execution_count": 11,
   "metadata": {},
   "outputs": [
    {
     "data": {
      "text/html": [
       "<div>\n",
       "<style scoped>\n",
       "    .dataframe tbody tr th:only-of-type {\n",
       "        vertical-align: middle;\n",
       "    }\n",
       "\n",
       "    .dataframe tbody tr th {\n",
       "        vertical-align: top;\n",
       "    }\n",
       "\n",
       "    .dataframe thead th {\n",
       "        text-align: right;\n",
       "    }\n",
       "</style>\n",
       "<table border=\"1\" class=\"dataframe\">\n",
       "  <thead>\n",
       "    <tr style=\"text-align: right;\">\n",
       "      <th></th>\n",
       "      <th></th>\n",
       "      <th>FPR</th>\n",
       "      <th>FNR</th>\n",
       "      <th>PPV</th>\n",
       "      <th>NPV</th>\n",
       "      <th>Prevalence</th>\n",
       "      <th>Count</th>\n",
       "    </tr>\n",
       "    <tr>\n",
       "      <th>race</th>\n",
       "      <th>age_cat_recode</th>\n",
       "      <th></th>\n",
       "      <th></th>\n",
       "      <th></th>\n",
       "      <th></th>\n",
       "      <th></th>\n",
       "      <th></th>\n",
       "    </tr>\n",
       "  </thead>\n",
       "  <tbody>\n",
       "    <tr>\n",
       "      <th rowspan=\"3\" valign=\"top\">African-American</th>\n",
       "      <th>1 Younger than 25</th>\n",
       "      <td>59.9</td>\n",
       "      <td>23.2</td>\n",
       "      <td>66.7</td>\n",
       "      <td>52.6</td>\n",
       "      <td>61.0</td>\n",
       "      <td>920</td>\n",
       "    </tr>\n",
       "    <tr>\n",
       "      <th>2 Between 25 - 45</th>\n",
       "      <td>44.1</td>\n",
       "      <td>27.7</td>\n",
       "      <td>62.7</td>\n",
       "      <td>66.4</td>\n",
       "      <td>50.6</td>\n",
       "      <td>2194</td>\n",
       "    </tr>\n",
       "    <tr>\n",
       "      <th>3 Older than 45</th>\n",
       "      <td>31.8</td>\n",
       "      <td>41.3</td>\n",
       "      <td>54.7</td>\n",
       "      <td>71.6</td>\n",
       "      <td>39.5</td>\n",
       "      <td>582</td>\n",
       "    </tr>\n",
       "    <tr>\n",
       "      <th rowspan=\"3\" valign=\"top\">Asian</th>\n",
       "      <th>1 Younger than 25</th>\n",
       "      <td>NaN</td>\n",
       "      <td>NaN</td>\n",
       "      <td>NaN</td>\n",
       "      <td>NaN</td>\n",
       "      <td>NaN</td>\n",
       "      <td>7</td>\n",
       "    </tr>\n",
       "    <tr>\n",
       "      <th>2 Between 25 - 45</th>\n",
       "      <td>NaN</td>\n",
       "      <td>NaN</td>\n",
       "      <td>NaN</td>\n",
       "      <td>NaN</td>\n",
       "      <td>NaN</td>\n",
       "      <td>14</td>\n",
       "    </tr>\n",
       "    <tr>\n",
       "      <th>3 Older than 45</th>\n",
       "      <td>NaN</td>\n",
       "      <td>NaN</td>\n",
       "      <td>NaN</td>\n",
       "      <td>NaN</td>\n",
       "      <td>NaN</td>\n",
       "      <td>11</td>\n",
       "    </tr>\n",
       "    <tr>\n",
       "      <th rowspan=\"3\" valign=\"top\">Caucasian</th>\n",
       "      <th>1 Younger than 25</th>\n",
       "      <td>48.7</td>\n",
       "      <td>26.7</td>\n",
       "      <td>59.1</td>\n",
       "      <td>66.7</td>\n",
       "      <td>49.0</td>\n",
       "      <td>390</td>\n",
       "    </tr>\n",
       "    <tr>\n",
       "      <th>2 Between 25 - 45</th>\n",
       "      <td>26.8</td>\n",
       "      <td>47.0</td>\n",
       "      <td>60.0</td>\n",
       "      <td>67.2</td>\n",
       "      <td>43.1</td>\n",
       "      <td>1312</td>\n",
       "    </tr>\n",
       "    <tr>\n",
       "      <th>3 Older than 45</th>\n",
       "      <td>9.6</td>\n",
       "      <td>68.9</td>\n",
       "      <td>55.6</td>\n",
       "      <td>77.3</td>\n",
       "      <td>27.8</td>\n",
       "      <td>752</td>\n",
       "    </tr>\n",
       "    <tr>\n",
       "      <th rowspan=\"3\" valign=\"top\">Hispanic</th>\n",
       "      <th>1 Younger than 25</th>\n",
       "      <td>47.5</td>\n",
       "      <td>36.4</td>\n",
       "      <td>59.2</td>\n",
       "      <td>57.1</td>\n",
       "      <td>52.0</td>\n",
       "      <td>127</td>\n",
       "    </tr>\n",
       "    <tr>\n",
       "      <th>2 Between 25 - 45</th>\n",
       "      <td>18.5</td>\n",
       "      <td>59.3</td>\n",
       "      <td>56.1</td>\n",
       "      <td>70.3</td>\n",
       "      <td>36.8</td>\n",
       "      <td>367</td>\n",
       "    </tr>\n",
       "    <tr>\n",
       "      <th>3 Older than 45</th>\n",
       "      <td>13.4</td>\n",
       "      <td>80.6</td>\n",
       "      <td>28.6</td>\n",
       "      <td>79.5</td>\n",
       "      <td>21.7</td>\n",
       "      <td>143</td>\n",
       "    </tr>\n",
       "    <tr>\n",
       "      <th rowspan=\"3\" valign=\"top\">Native American</th>\n",
       "      <th>1 Younger than 25</th>\n",
       "      <td>NaN</td>\n",
       "      <td>NaN</td>\n",
       "      <td>NaN</td>\n",
       "      <td>NaN</td>\n",
       "      <td>NaN</td>\n",
       "      <td>3</td>\n",
       "    </tr>\n",
       "    <tr>\n",
       "      <th>2 Between 25 - 45</th>\n",
       "      <td>NaN</td>\n",
       "      <td>NaN</td>\n",
       "      <td>NaN</td>\n",
       "      <td>NaN</td>\n",
       "      <td>NaN</td>\n",
       "      <td>12</td>\n",
       "    </tr>\n",
       "    <tr>\n",
       "      <th>3 Older than 45</th>\n",
       "      <td>NaN</td>\n",
       "      <td>NaN</td>\n",
       "      <td>NaN</td>\n",
       "      <td>NaN</td>\n",
       "      <td>NaN</td>\n",
       "      <td>3</td>\n",
       "    </tr>\n",
       "    <tr>\n",
       "      <th rowspan=\"3\" valign=\"top\">Other</th>\n",
       "      <th>1 Younger than 25</th>\n",
       "      <td>45.2</td>\n",
       "      <td>47.5</td>\n",
       "      <td>52.5</td>\n",
       "      <td>54.8</td>\n",
       "      <td>48.8</td>\n",
       "      <td>82</td>\n",
       "    </tr>\n",
       "    <tr>\n",
       "      <th>2 Between 25 - 45</th>\n",
       "      <td>10.8</td>\n",
       "      <td>73.2</td>\n",
       "      <td>55.9</td>\n",
       "      <td>70.5</td>\n",
       "      <td>33.8</td>\n",
       "      <td>210</td>\n",
       "    </tr>\n",
       "    <tr>\n",
       "      <th>3 Older than 45</th>\n",
       "      <td>3.2</td>\n",
       "      <td>86.4</td>\n",
       "      <td>60.0</td>\n",
       "      <td>76.2</td>\n",
       "      <td>25.9</td>\n",
       "      <td>85</td>\n",
       "    </tr>\n",
       "  </tbody>\n",
       "</table>\n",
       "</div>"
      ],
      "text/plain": [
       "                                     FPR   FNR   PPV   NPV  Prevalence  Count\n",
       "race             age_cat_recode                                              \n",
       "African-American 1 Younger than 25  59.9  23.2  66.7  52.6        61.0    920\n",
       "                 2 Between 25 - 45  44.1  27.7  62.7  66.4        50.6   2194\n",
       "                 3 Older than 45    31.8  41.3  54.7  71.6        39.5    582\n",
       "Asian            1 Younger than 25   NaN   NaN   NaN   NaN         NaN      7\n",
       "                 2 Between 25 - 45   NaN   NaN   NaN   NaN         NaN     14\n",
       "                 3 Older than 45     NaN   NaN   NaN   NaN         NaN     11\n",
       "Caucasian        1 Younger than 25  48.7  26.7  59.1  66.7        49.0    390\n",
       "                 2 Between 25 - 45  26.8  47.0  60.0  67.2        43.1   1312\n",
       "                 3 Older than 45     9.6  68.9  55.6  77.3        27.8    752\n",
       "Hispanic         1 Younger than 25  47.5  36.4  59.2  57.1        52.0    127\n",
       "                 2 Between 25 - 45  18.5  59.3  56.1  70.3        36.8    367\n",
       "                 3 Older than 45    13.4  80.6  28.6  79.5        21.7    143\n",
       "Native American  1 Younger than 25   NaN   NaN   NaN   NaN         NaN      3\n",
       "                 2 Between 25 - 45   NaN   NaN   NaN   NaN         NaN     12\n",
       "                 3 Older than 45     NaN   NaN   NaN   NaN         NaN      3\n",
       "Other            1 Younger than 25  45.2  47.5  52.5  54.8        48.8     82\n",
       "                 2 Between 25 - 45  10.8  73.2  55.9  70.5        33.8    210\n",
       "                 3 Older than 45     3.2  86.4  60.0  76.2        25.9     85"
      ]
     },
     "execution_count": 11,
     "metadata": {},
     "output_type": "execute_result"
    },
    {
     "data": {
      "application/javascript": [
       "\n",
       "            setTimeout(function() {\n",
       "                var nbb_cell_id = 11;\n",
       "                var nbb_unformatted_code = \"table5 = make_table(cp, [\\\"race\\\", \\\"age_cat_recode\\\"])\\ntable5\";\n",
       "                var nbb_formatted_code = \"table5 = make_table(cp, [\\\"race\\\", \\\"age_cat_recode\\\"])\\ntable5\";\n",
       "                var nbb_cells = Jupyter.notebook.get_cells();\n",
       "                for (var i = 0; i < nbb_cells.length; ++i) {\n",
       "                    if (nbb_cells[i].input_prompt_number == nbb_cell_id) {\n",
       "                        if (nbb_cells[i].get_text() == nbb_unformatted_code) {\n",
       "                             nbb_cells[i].set_text(nbb_formatted_code);\n",
       "                        }\n",
       "                        break;\n",
       "                    }\n",
       "                }\n",
       "            }, 500);\n",
       "            "
      ],
      "text/plain": [
       "<IPython.core.display.Javascript object>"
      ]
     },
     "metadata": {},
     "output_type": "display_data"
    }
   ],
   "source": [
    "table5 = make_table(cp, [\"race\", \"age_cat_recode\"])\n",
    "table5"
   ]
  },
  {
   "cell_type": "code",
   "execution_count": 12,
   "metadata": {},
   "outputs": [
    {
     "data": {
      "text/html": [
       "<div>\n",
       "<style scoped>\n",
       "    .dataframe tbody tr th:only-of-type {\n",
       "        vertical-align: middle;\n",
       "    }\n",
       "\n",
       "    .dataframe tbody tr th {\n",
       "        vertical-align: top;\n",
       "    }\n",
       "\n",
       "    .dataframe thead th {\n",
       "        text-align: right;\n",
       "    }\n",
       "</style>\n",
       "<table border=\"1\" class=\"dataframe\">\n",
       "  <thead>\n",
       "    <tr style=\"text-align: right;\">\n",
       "      <th></th>\n",
       "      <th></th>\n",
       "      <th>FPR</th>\n",
       "      <th>FNR</th>\n",
       "      <th>PPV</th>\n",
       "      <th>NPV</th>\n",
       "      <th>Prevalence</th>\n",
       "      <th>Count</th>\n",
       "    </tr>\n",
       "    <tr>\n",
       "      <th>sex</th>\n",
       "      <th>age_cat</th>\n",
       "      <th></th>\n",
       "      <th></th>\n",
       "      <th></th>\n",
       "      <th></th>\n",
       "      <th></th>\n",
       "      <th></th>\n",
       "    </tr>\n",
       "  </thead>\n",
       "  <tbody>\n",
       "    <tr>\n",
       "      <th rowspan=\"3\" valign=\"top\">Female</th>\n",
       "      <th>25 - 45</th>\n",
       "      <td>29.4</td>\n",
       "      <td>40.8</td>\n",
       "      <td>56.2</td>\n",
       "      <td>73.1</td>\n",
       "      <td>38.9</td>\n",
       "      <td>807</td>\n",
       "    </tr>\n",
       "    <tr>\n",
       "      <th>Greater than 45</th>\n",
       "      <td>15.3</td>\n",
       "      <td>66.2</td>\n",
       "      <td>40.7</td>\n",
       "      <td>80.5</td>\n",
       "      <td>23.7</td>\n",
       "      <td>300</td>\n",
       "    </tr>\n",
       "    <tr>\n",
       "      <th>Less than 25</th>\n",
       "      <td>61.7</td>\n",
       "      <td>17.7</td>\n",
       "      <td>46.3</td>\n",
       "      <td>77.0</td>\n",
       "      <td>39.2</td>\n",
       "      <td>288</td>\n",
       "    </tr>\n",
       "    <tr>\n",
       "      <th rowspan=\"3\" valign=\"top\">Male</th>\n",
       "      <th>25 - 45</th>\n",
       "      <td>34.5</td>\n",
       "      <td>36.7</td>\n",
       "      <td>62.6</td>\n",
       "      <td>66.2</td>\n",
       "      <td>47.7</td>\n",
       "      <td>3302</td>\n",
       "    </tr>\n",
       "    <tr>\n",
       "      <th>Greater than 45</th>\n",
       "      <td>17.2</td>\n",
       "      <td>55.7</td>\n",
       "      <td>56.4</td>\n",
       "      <td>74.7</td>\n",
       "      <td>33.5</td>\n",
       "      <td>1276</td>\n",
       "    </tr>\n",
       "    <tr>\n",
       "      <th>Less than 25</th>\n",
       "      <td>51.4</td>\n",
       "      <td>27.3</td>\n",
       "      <td>68.4</td>\n",
       "      <td>53.7</td>\n",
       "      <td>60.5</td>\n",
       "      <td>1241</td>\n",
       "    </tr>\n",
       "  </tbody>\n",
       "</table>\n",
       "</div>"
      ],
      "text/plain": [
       "                         FPR   FNR   PPV   NPV  Prevalence  Count\n",
       "sex    age_cat                                                   \n",
       "Female 25 - 45          29.4  40.8  56.2  73.1        38.9    807\n",
       "       Greater than 45  15.3  66.2  40.7  80.5        23.7    300\n",
       "       Less than 25     61.7  17.7  46.3  77.0        39.2    288\n",
       "Male   25 - 45          34.5  36.7  62.6  66.2        47.7   3302\n",
       "       Greater than 45  17.2  55.7  56.4  74.7        33.5   1276\n",
       "       Less than 25     51.4  27.3  68.4  53.7        60.5   1241"
      ]
     },
     "execution_count": 12,
     "metadata": {},
     "output_type": "execute_result"
    },
    {
     "data": {
      "application/javascript": [
       "\n",
       "            setTimeout(function() {\n",
       "                var nbb_cell_id = 12;\n",
       "                var nbb_unformatted_code = \"table6 = make_table(cp, [\\\"sex\\\", \\\"age_cat\\\"])\\ntable6\";\n",
       "                var nbb_formatted_code = \"table6 = make_table(cp, [\\\"sex\\\", \\\"age_cat\\\"])\\ntable6\";\n",
       "                var nbb_cells = Jupyter.notebook.get_cells();\n",
       "                for (var i = 0; i < nbb_cells.length; ++i) {\n",
       "                    if (nbb_cells[i].input_prompt_number == nbb_cell_id) {\n",
       "                        if (nbb_cells[i].get_text() == nbb_unformatted_code) {\n",
       "                             nbb_cells[i].set_text(nbb_formatted_code);\n",
       "                        }\n",
       "                        break;\n",
       "                    }\n",
       "                }\n",
       "            }, 500);\n",
       "            "
      ],
      "text/plain": [
       "<IPython.core.display.Javascript object>"
      ]
     },
     "metadata": {},
     "output_type": "display_data"
    }
   ],
   "source": [
    "table6 = make_table(cp, [\"sex\", \"age_cat\"])\n",
    "table6"
   ]
  },
  {
   "cell_type": "code",
   "execution_count": 13,
   "metadata": {},
   "outputs": [
    {
     "data": {
      "text/html": [
       "<div>\n",
       "<style scoped>\n",
       "    .dataframe tbody tr th:only-of-type {\n",
       "        vertical-align: middle;\n",
       "    }\n",
       "\n",
       "    .dataframe tbody tr th {\n",
       "        vertical-align: top;\n",
       "    }\n",
       "\n",
       "    .dataframe thead th {\n",
       "        text-align: right;\n",
       "    }\n",
       "</style>\n",
       "<table border=\"1\" class=\"dataframe\">\n",
       "  <thead>\n",
       "    <tr style=\"text-align: right;\">\n",
       "      <th></th>\n",
       "      <th></th>\n",
       "      <th></th>\n",
       "      <th>FPR</th>\n",
       "      <th>FNR</th>\n",
       "      <th>PPV</th>\n",
       "      <th>NPV</th>\n",
       "      <th>Prevalence</th>\n",
       "      <th>Count</th>\n",
       "    </tr>\n",
       "    <tr>\n",
       "      <th>race</th>\n",
       "      <th>sex</th>\n",
       "      <th>age_cat_recode</th>\n",
       "      <th></th>\n",
       "      <th></th>\n",
       "      <th></th>\n",
       "      <th></th>\n",
       "      <th></th>\n",
       "      <th></th>\n",
       "    </tr>\n",
       "  </thead>\n",
       "  <tbody>\n",
       "    <tr>\n",
       "      <th rowspan=\"6\" valign=\"top\">African-American</th>\n",
       "      <th rowspan=\"3\" valign=\"top\">Female</th>\n",
       "      <th>1 Younger than 25</th>\n",
       "      <td>63.4</td>\n",
       "      <td>19.7</td>\n",
       "      <td>50.8</td>\n",
       "      <td>69.4</td>\n",
       "      <td>45.0</td>\n",
       "      <td>169</td>\n",
       "    </tr>\n",
       "    <tr>\n",
       "      <th>2 Between 25 - 45</th>\n",
       "      <td>36.5</td>\n",
       "      <td>34.4</td>\n",
       "      <td>52.7</td>\n",
       "      <td>74.9</td>\n",
       "      <td>38.2</td>\n",
       "      <td>395</td>\n",
       "    </tr>\n",
       "    <tr>\n",
       "      <th>3 Older than 45</th>\n",
       "      <td>23.5</td>\n",
       "      <td>35.0</td>\n",
       "      <td>44.8</td>\n",
       "      <td>88.1</td>\n",
       "      <td>22.7</td>\n",
       "      <td>88</td>\n",
       "    </tr>\n",
       "    <tr>\n",
       "      <th rowspan=\"3\" valign=\"top\">Male</th>\n",
       "      <th>1 Younger than 25</th>\n",
       "      <td>58.6</td>\n",
       "      <td>23.7</td>\n",
       "      <td>70.3</td>\n",
       "      <td>48.9</td>\n",
       "      <td>64.6</td>\n",
       "      <td>751</td>\n",
       "    </tr>\n",
       "    <tr>\n",
       "      <th>2 Between 25 - 45</th>\n",
       "      <td>46.3</td>\n",
       "      <td>26.6</td>\n",
       "      <td>64.4</td>\n",
       "      <td>63.9</td>\n",
       "      <td>53.3</td>\n",
       "      <td>1799</td>\n",
       "    </tr>\n",
       "    <tr>\n",
       "      <th>3 Older than 45</th>\n",
       "      <td>33.8</td>\n",
       "      <td>41.9</td>\n",
       "      <td>56.0</td>\n",
       "      <td>68.1</td>\n",
       "      <td>42.5</td>\n",
       "      <td>494</td>\n",
       "    </tr>\n",
       "    <tr>\n",
       "      <th rowspan=\"5\" valign=\"top\">Asian</th>\n",
       "      <th rowspan=\"2\" valign=\"top\">Female</th>\n",
       "      <th>2 Between 25 - 45</th>\n",
       "      <td>NaN</td>\n",
       "      <td>NaN</td>\n",
       "      <td>NaN</td>\n",
       "      <td>NaN</td>\n",
       "      <td>NaN</td>\n",
       "      <td>1</td>\n",
       "    </tr>\n",
       "    <tr>\n",
       "      <th>3 Older than 45</th>\n",
       "      <td>NaN</td>\n",
       "      <td>NaN</td>\n",
       "      <td>NaN</td>\n",
       "      <td>NaN</td>\n",
       "      <td>NaN</td>\n",
       "      <td>1</td>\n",
       "    </tr>\n",
       "    <tr>\n",
       "      <th rowspan=\"3\" valign=\"top\">Male</th>\n",
       "      <th>1 Younger than 25</th>\n",
       "      <td>NaN</td>\n",
       "      <td>NaN</td>\n",
       "      <td>NaN</td>\n",
       "      <td>NaN</td>\n",
       "      <td>NaN</td>\n",
       "      <td>7</td>\n",
       "    </tr>\n",
       "    <tr>\n",
       "      <th>2 Between 25 - 45</th>\n",
       "      <td>NaN</td>\n",
       "      <td>NaN</td>\n",
       "      <td>NaN</td>\n",
       "      <td>NaN</td>\n",
       "      <td>NaN</td>\n",
       "      <td>13</td>\n",
       "    </tr>\n",
       "    <tr>\n",
       "      <th>3 Older than 45</th>\n",
       "      <td>NaN</td>\n",
       "      <td>NaN</td>\n",
       "      <td>NaN</td>\n",
       "      <td>NaN</td>\n",
       "      <td>NaN</td>\n",
       "      <td>10</td>\n",
       "    </tr>\n",
       "    <tr>\n",
       "      <th rowspan=\"6\" valign=\"top\">Caucasian</th>\n",
       "      <th rowspan=\"3\" valign=\"top\">Female</th>\n",
       "      <th>1 Younger than 25</th>\n",
       "      <td>70.0</td>\n",
       "      <td>3.7</td>\n",
       "      <td>38.2</td>\n",
       "      <td>94.7</td>\n",
       "      <td>31.0</td>\n",
       "      <td>87</td>\n",
       "    </tr>\n",
       "    <tr>\n",
       "      <th>2 Between 25 - 45</th>\n",
       "      <td>29.2</td>\n",
       "      <td>41.2</td>\n",
       "      <td>59.7</td>\n",
       "      <td>70.0</td>\n",
       "      <td>42.4</td>\n",
       "      <td>309</td>\n",
       "    </tr>\n",
       "    <tr>\n",
       "      <th>3 Older than 45</th>\n",
       "      <td>13.1</td>\n",
       "      <td>75.6</td>\n",
       "      <td>37.0</td>\n",
       "      <td>78.5</td>\n",
       "      <td>24.0</td>\n",
       "      <td>171</td>\n",
       "    </tr>\n",
       "    <tr>\n",
       "      <th rowspan=\"3\" valign=\"top\">Male</th>\n",
       "      <th>1 Younger than 25</th>\n",
       "      <td>39.6</td>\n",
       "      <td>30.5</td>\n",
       "      <td>67.5</td>\n",
       "      <td>62.7</td>\n",
       "      <td>54.1</td>\n",
       "      <td>303</td>\n",
       "    </tr>\n",
       "    <tr>\n",
       "      <th>2 Between 25 - 45</th>\n",
       "      <td>26.1</td>\n",
       "      <td>48.7</td>\n",
       "      <td>60.1</td>\n",
       "      <td>66.5</td>\n",
       "      <td>43.4</td>\n",
       "      <td>1003</td>\n",
       "    </tr>\n",
       "    <tr>\n",
       "      <th>3 Older than 45</th>\n",
       "      <td>8.5</td>\n",
       "      <td>67.3</td>\n",
       "      <td>61.1</td>\n",
       "      <td>77.0</td>\n",
       "      <td>28.9</td>\n",
       "      <td>581</td>\n",
       "    </tr>\n",
       "    <tr>\n",
       "      <th rowspan=\"6\" valign=\"top\">Hispanic</th>\n",
       "      <th rowspan=\"3\" valign=\"top\">Female</th>\n",
       "      <th>1 Younger than 25</th>\n",
       "      <td>NaN</td>\n",
       "      <td>NaN</td>\n",
       "      <td>NaN</td>\n",
       "      <td>NaN</td>\n",
       "      <td>NaN</td>\n",
       "      <td>17</td>\n",
       "    </tr>\n",
       "    <tr>\n",
       "      <th>2 Between 25 - 45</th>\n",
       "      <td>7.1</td>\n",
       "      <td>81.0</td>\n",
       "      <td>57.1</td>\n",
       "      <td>69.6</td>\n",
       "      <td>33.3</td>\n",
       "      <td>63</td>\n",
       "    </tr>\n",
       "    <tr>\n",
       "      <th>3 Older than 45</th>\n",
       "      <td>NaN</td>\n",
       "      <td>NaN</td>\n",
       "      <td>NaN</td>\n",
       "      <td>NaN</td>\n",
       "      <td>NaN</td>\n",
       "      <td>23</td>\n",
       "    </tr>\n",
       "    <tr>\n",
       "      <th rowspan=\"3\" valign=\"top\">Male</th>\n",
       "      <th>1 Younger than 25</th>\n",
       "      <td>52.9</td>\n",
       "      <td>37.3</td>\n",
       "      <td>57.8</td>\n",
       "      <td>52.2</td>\n",
       "      <td>53.6</td>\n",
       "      <td>110</td>\n",
       "    </tr>\n",
       "    <tr>\n",
       "      <th>2 Between 25 - 45</th>\n",
       "      <td>21.1</td>\n",
       "      <td>55.3</td>\n",
       "      <td>56.0</td>\n",
       "      <td>70.4</td>\n",
       "      <td>37.5</td>\n",
       "      <td>304</td>\n",
       "    </tr>\n",
       "    <tr>\n",
       "      <th>3 Older than 45</th>\n",
       "      <td>13.8</td>\n",
       "      <td>76.9</td>\n",
       "      <td>31.6</td>\n",
       "      <td>80.2</td>\n",
       "      <td>21.7</td>\n",
       "      <td>120</td>\n",
       "    </tr>\n",
       "    <tr>\n",
       "      <th rowspan=\"5\" valign=\"top\">Native American</th>\n",
       "      <th rowspan=\"2\" valign=\"top\">Female</th>\n",
       "      <th>2 Between 25 - 45</th>\n",
       "      <td>NaN</td>\n",
       "      <td>NaN</td>\n",
       "      <td>NaN</td>\n",
       "      <td>NaN</td>\n",
       "      <td>NaN</td>\n",
       "      <td>2</td>\n",
       "    </tr>\n",
       "    <tr>\n",
       "      <th>3 Older than 45</th>\n",
       "      <td>NaN</td>\n",
       "      <td>NaN</td>\n",
       "      <td>NaN</td>\n",
       "      <td>NaN</td>\n",
       "      <td>NaN</td>\n",
       "      <td>2</td>\n",
       "    </tr>\n",
       "    <tr>\n",
       "      <th rowspan=\"3\" valign=\"top\">Male</th>\n",
       "      <th>1 Younger than 25</th>\n",
       "      <td>NaN</td>\n",
       "      <td>NaN</td>\n",
       "      <td>NaN</td>\n",
       "      <td>NaN</td>\n",
       "      <td>NaN</td>\n",
       "      <td>3</td>\n",
       "    </tr>\n",
       "    <tr>\n",
       "      <th>2 Between 25 - 45</th>\n",
       "      <td>NaN</td>\n",
       "      <td>NaN</td>\n",
       "      <td>NaN</td>\n",
       "      <td>NaN</td>\n",
       "      <td>NaN</td>\n",
       "      <td>10</td>\n",
       "    </tr>\n",
       "    <tr>\n",
       "      <th>3 Older than 45</th>\n",
       "      <td>NaN</td>\n",
       "      <td>NaN</td>\n",
       "      <td>NaN</td>\n",
       "      <td>NaN</td>\n",
       "      <td>NaN</td>\n",
       "      <td>1</td>\n",
       "    </tr>\n",
       "    <tr>\n",
       "      <th rowspan=\"6\" valign=\"top\">Other</th>\n",
       "      <th rowspan=\"3\" valign=\"top\">Female</th>\n",
       "      <th>1 Younger than 25</th>\n",
       "      <td>NaN</td>\n",
       "      <td>NaN</td>\n",
       "      <td>NaN</td>\n",
       "      <td>NaN</td>\n",
       "      <td>NaN</td>\n",
       "      <td>15</td>\n",
       "    </tr>\n",
       "    <tr>\n",
       "      <th>2 Between 25 - 45</th>\n",
       "      <td>NaN</td>\n",
       "      <td>NaN</td>\n",
       "      <td>NaN</td>\n",
       "      <td>NaN</td>\n",
       "      <td>NaN</td>\n",
       "      <td>37</td>\n",
       "    </tr>\n",
       "    <tr>\n",
       "      <th>3 Older than 45</th>\n",
       "      <td>NaN</td>\n",
       "      <td>NaN</td>\n",
       "      <td>NaN</td>\n",
       "      <td>NaN</td>\n",
       "      <td>NaN</td>\n",
       "      <td>15</td>\n",
       "    </tr>\n",
       "    <tr>\n",
       "      <th rowspan=\"3\" valign=\"top\">Male</th>\n",
       "      <th>1 Younger than 25</th>\n",
       "      <td>46.7</td>\n",
       "      <td>45.9</td>\n",
       "      <td>58.8</td>\n",
       "      <td>48.5</td>\n",
       "      <td>55.2</td>\n",
       "      <td>67</td>\n",
       "    </tr>\n",
       "    <tr>\n",
       "      <th>2 Between 25 - 45</th>\n",
       "      <td>12.6</td>\n",
       "      <td>75.8</td>\n",
       "      <td>51.7</td>\n",
       "      <td>67.4</td>\n",
       "      <td>35.8</td>\n",
       "      <td>173</td>\n",
       "    </tr>\n",
       "    <tr>\n",
       "      <th>3 Older than 45</th>\n",
       "      <td>3.9</td>\n",
       "      <td>84.2</td>\n",
       "      <td>60.0</td>\n",
       "      <td>75.4</td>\n",
       "      <td>27.1</td>\n",
       "      <td>70</td>\n",
       "    </tr>\n",
       "  </tbody>\n",
       "</table>\n",
       "</div>"
      ],
      "text/plain": [
       "                                            FPR   FNR   PPV   NPV  Prevalence  \\\n",
       "race             sex    age_cat_recode                                          \n",
       "African-American Female 1 Younger than 25  63.4  19.7  50.8  69.4        45.0   \n",
       "                        2 Between 25 - 45  36.5  34.4  52.7  74.9        38.2   \n",
       "                        3 Older than 45    23.5  35.0  44.8  88.1        22.7   \n",
       "                 Male   1 Younger than 25  58.6  23.7  70.3  48.9        64.6   \n",
       "                        2 Between 25 - 45  46.3  26.6  64.4  63.9        53.3   \n",
       "                        3 Older than 45    33.8  41.9  56.0  68.1        42.5   \n",
       "Asian            Female 2 Between 25 - 45   NaN   NaN   NaN   NaN         NaN   \n",
       "                        3 Older than 45     NaN   NaN   NaN   NaN         NaN   \n",
       "                 Male   1 Younger than 25   NaN   NaN   NaN   NaN         NaN   \n",
       "                        2 Between 25 - 45   NaN   NaN   NaN   NaN         NaN   \n",
       "                        3 Older than 45     NaN   NaN   NaN   NaN         NaN   \n",
       "Caucasian        Female 1 Younger than 25  70.0   3.7  38.2  94.7        31.0   \n",
       "                        2 Between 25 - 45  29.2  41.2  59.7  70.0        42.4   \n",
       "                        3 Older than 45    13.1  75.6  37.0  78.5        24.0   \n",
       "                 Male   1 Younger than 25  39.6  30.5  67.5  62.7        54.1   \n",
       "                        2 Between 25 - 45  26.1  48.7  60.1  66.5        43.4   \n",
       "                        3 Older than 45     8.5  67.3  61.1  77.0        28.9   \n",
       "Hispanic         Female 1 Younger than 25   NaN   NaN   NaN   NaN         NaN   \n",
       "                        2 Between 25 - 45   7.1  81.0  57.1  69.6        33.3   \n",
       "                        3 Older than 45     NaN   NaN   NaN   NaN         NaN   \n",
       "                 Male   1 Younger than 25  52.9  37.3  57.8  52.2        53.6   \n",
       "                        2 Between 25 - 45  21.1  55.3  56.0  70.4        37.5   \n",
       "                        3 Older than 45    13.8  76.9  31.6  80.2        21.7   \n",
       "Native American  Female 2 Between 25 - 45   NaN   NaN   NaN   NaN         NaN   \n",
       "                        3 Older than 45     NaN   NaN   NaN   NaN         NaN   \n",
       "                 Male   1 Younger than 25   NaN   NaN   NaN   NaN         NaN   \n",
       "                        2 Between 25 - 45   NaN   NaN   NaN   NaN         NaN   \n",
       "                        3 Older than 45     NaN   NaN   NaN   NaN         NaN   \n",
       "Other            Female 1 Younger than 25   NaN   NaN   NaN   NaN         NaN   \n",
       "                        2 Between 25 - 45   NaN   NaN   NaN   NaN         NaN   \n",
       "                        3 Older than 45     NaN   NaN   NaN   NaN         NaN   \n",
       "                 Male   1 Younger than 25  46.7  45.9  58.8  48.5        55.2   \n",
       "                        2 Between 25 - 45  12.6  75.8  51.7  67.4        35.8   \n",
       "                        3 Older than 45     3.9  84.2  60.0  75.4        27.1   \n",
       "\n",
       "                                           Count  \n",
       "race             sex    age_cat_recode            \n",
       "African-American Female 1 Younger than 25    169  \n",
       "                        2 Between 25 - 45    395  \n",
       "                        3 Older than 45       88  \n",
       "                 Male   1 Younger than 25    751  \n",
       "                        2 Between 25 - 45   1799  \n",
       "                        3 Older than 45      494  \n",
       "Asian            Female 2 Between 25 - 45      1  \n",
       "                        3 Older than 45        1  \n",
       "                 Male   1 Younger than 25      7  \n",
       "                        2 Between 25 - 45     13  \n",
       "                        3 Older than 45       10  \n",
       "Caucasian        Female 1 Younger than 25     87  \n",
       "                        2 Between 25 - 45    309  \n",
       "                        3 Older than 45      171  \n",
       "                 Male   1 Younger than 25    303  \n",
       "                        2 Between 25 - 45   1003  \n",
       "                        3 Older than 45      581  \n",
       "Hispanic         Female 1 Younger than 25     17  \n",
       "                        2 Between 25 - 45     63  \n",
       "                        3 Older than 45       23  \n",
       "                 Male   1 Younger than 25    110  \n",
       "                        2 Between 25 - 45    304  \n",
       "                        3 Older than 45      120  \n",
       "Native American  Female 2 Between 25 - 45      2  \n",
       "                        3 Older than 45        2  \n",
       "                 Male   1 Younger than 25      3  \n",
       "                        2 Between 25 - 45     10  \n",
       "                        3 Older than 45        1  \n",
       "Other            Female 1 Younger than 25     15  \n",
       "                        2 Between 25 - 45     37  \n",
       "                        3 Older than 45       15  \n",
       "                 Male   1 Younger than 25     67  \n",
       "                        2 Between 25 - 45    173  \n",
       "                        3 Older than 45       70  "
      ]
     },
     "execution_count": 13,
     "metadata": {},
     "output_type": "execute_result"
    },
    {
     "data": {
      "application/javascript": [
       "\n",
       "            setTimeout(function() {\n",
       "                var nbb_cell_id = 13;\n",
       "                var nbb_unformatted_code = \"table7 = make_table(cp, [\\\"race\\\", \\\"sex\\\", \\\"age_cat_recode\\\"])\\ntable7\";\n",
       "                var nbb_formatted_code = \"table7 = make_table(cp, [\\\"race\\\", \\\"sex\\\", \\\"age_cat_recode\\\"])\\ntable7\";\n",
       "                var nbb_cells = Jupyter.notebook.get_cells();\n",
       "                for (var i = 0; i < nbb_cells.length; ++i) {\n",
       "                    if (nbb_cells[i].input_prompt_number == nbb_cell_id) {\n",
       "                        if (nbb_cells[i].get_text() == nbb_unformatted_code) {\n",
       "                             nbb_cells[i].set_text(nbb_formatted_code);\n",
       "                        }\n",
       "                        break;\n",
       "                    }\n",
       "                }\n",
       "            }, 500);\n",
       "            "
      ],
      "text/plain": [
       "<IPython.core.display.Javascript object>"
      ]
     },
     "metadata": {},
     "output_type": "display_data"
    }
   ],
   "source": [
    "table7 = make_table(cp, [\"race\", \"sex\", \"age_cat_recode\"])\n",
    "table7"
   ]
  },
  {
   "cell_type": "markdown",
   "metadata": {},
   "source": [
    "These tables show how much these metrics vary between groups:\n",
    "\n",
    "* "
   ]
  },
  {
   "cell_type": "code",
   "execution_count": 14,
   "metadata": {},
   "outputs": [
    {
     "data": {
      "text/plain": [
       "81"
      ]
     },
     "execution_count": 14,
     "metadata": {},
     "output_type": "execute_result"
    },
    {
     "data": {
      "application/javascript": [
       "\n",
       "            setTimeout(function() {\n",
       "                var nbb_cell_id = 14;\n",
       "                var nbb_unformatted_code = \"tables = [table1, table2, table3, table4, table5, table6, table7]\\n\\nall_groups = pd.concat(tables)\\nlen(all_groups)\";\n",
       "                var nbb_formatted_code = \"tables = [table1, table2, table3, table4, table5, table6, table7]\\n\\nall_groups = pd.concat(tables)\\nlen(all_groups)\";\n",
       "                var nbb_cells = Jupyter.notebook.get_cells();\n",
       "                for (var i = 0; i < nbb_cells.length; ++i) {\n",
       "                    if (nbb_cells[i].input_prompt_number == nbb_cell_id) {\n",
       "                        if (nbb_cells[i].get_text() == nbb_unformatted_code) {\n",
       "                             nbb_cells[i].set_text(nbb_formatted_code);\n",
       "                        }\n",
       "                        break;\n",
       "                    }\n",
       "                }\n",
       "            }, 500);\n",
       "            "
      ],
      "text/plain": [
       "<IPython.core.display.Javascript object>"
      ]
     },
     "metadata": {},
     "output_type": "display_data"
    }
   ],
   "source": [
    "tables = [table1, table2, table3, table4, table5, table6, table7]\n",
    "\n",
    "all_groups = pd.concat(tables)\n",
    "len(all_groups)"
   ]
  },
  {
   "cell_type": "code",
   "execution_count": 15,
   "metadata": {},
   "outputs": [
    {
     "data": {
      "text/html": [
       "<div>\n",
       "<style scoped>\n",
       "    .dataframe tbody tr th:only-of-type {\n",
       "        vertical-align: middle;\n",
       "    }\n",
       "\n",
       "    .dataframe tbody tr th {\n",
       "        vertical-align: top;\n",
       "    }\n",
       "\n",
       "    .dataframe thead th {\n",
       "        text-align: right;\n",
       "    }\n",
       "</style>\n",
       "<table border=\"1\" class=\"dataframe\">\n",
       "  <thead>\n",
       "    <tr style=\"text-align: right;\">\n",
       "      <th></th>\n",
       "      <th>FPR</th>\n",
       "      <th>FNR</th>\n",
       "      <th>PPV</th>\n",
       "      <th>NPV</th>\n",
       "      <th>Prevalence</th>\n",
       "      <th>Count</th>\n",
       "    </tr>\n",
       "  </thead>\n",
       "  <tbody>\n",
       "    <tr>\n",
       "      <th>count</th>\n",
       "      <td>54.000000</td>\n",
       "      <td>54.000000</td>\n",
       "      <td>54.000000</td>\n",
       "      <td>54.000000</td>\n",
       "      <td>54.000000</td>\n",
       "      <td>81.000000</td>\n",
       "    </tr>\n",
       "    <tr>\n",
       "      <th>mean</th>\n",
       "      <td>30.520370</td>\n",
       "      <td>47.648148</td>\n",
       "      <td>55.611111</td>\n",
       "      <td>69.603704</td>\n",
       "      <td>40.094444</td>\n",
       "      <td>623.432099</td>\n",
       "    </tr>\n",
       "    <tr>\n",
       "      <th>std</th>\n",
       "      <td>17.339761</td>\n",
       "      <td>19.922603</td>\n",
       "      <td>8.655256</td>\n",
       "      <td>9.204490</td>\n",
       "      <td>10.987015</td>\n",
       "      <td>1059.278516</td>\n",
       "    </tr>\n",
       "    <tr>\n",
       "      <th>min</th>\n",
       "      <td>3.200000</td>\n",
       "      <td>3.700000</td>\n",
       "      <td>28.600000</td>\n",
       "      <td>48.500000</td>\n",
       "      <td>21.700000</td>\n",
       "      <td>1.000000</td>\n",
       "    </tr>\n",
       "    <tr>\n",
       "      <th>25%</th>\n",
       "      <td>15.375000</td>\n",
       "      <td>31.475000</td>\n",
       "      <td>52.550000</td>\n",
       "      <td>66.425000</td>\n",
       "      <td>33.350000</td>\n",
       "      <td>15.000000</td>\n",
       "    </tr>\n",
       "    <tr>\n",
       "      <th>50%</th>\n",
       "      <td>29.300000</td>\n",
       "      <td>44.550000</td>\n",
       "      <td>56.200000</td>\n",
       "      <td>70.250000</td>\n",
       "      <td>38.550000</td>\n",
       "      <td>169.000000</td>\n",
       "    </tr>\n",
       "    <tr>\n",
       "      <th>75%</th>\n",
       "      <td>45.100000</td>\n",
       "      <td>66.575000</td>\n",
       "      <td>60.850000</td>\n",
       "      <td>75.625000</td>\n",
       "      <td>48.525000</td>\n",
       "      <td>652.000000</td>\n",
       "    </tr>\n",
       "    <tr>\n",
       "      <th>max</th>\n",
       "      <td>70.000000</td>\n",
       "      <td>86.400000</td>\n",
       "      <td>70.300000</td>\n",
       "      <td>94.700000</td>\n",
       "      <td>64.600000</td>\n",
       "      <td>5819.000000</td>\n",
       "    </tr>\n",
       "  </tbody>\n",
       "</table>\n",
       "</div>"
      ],
      "text/plain": [
       "             FPR        FNR        PPV        NPV  Prevalence        Count\n",
       "count  54.000000  54.000000  54.000000  54.000000   54.000000    81.000000\n",
       "mean   30.520370  47.648148  55.611111  69.603704   40.094444   623.432099\n",
       "std    17.339761  19.922603   8.655256   9.204490   10.987015  1059.278516\n",
       "min     3.200000   3.700000  28.600000  48.500000   21.700000     1.000000\n",
       "25%    15.375000  31.475000  52.550000  66.425000   33.350000    15.000000\n",
       "50%    29.300000  44.550000  56.200000  70.250000   38.550000   169.000000\n",
       "75%    45.100000  66.575000  60.850000  75.625000   48.525000   652.000000\n",
       "max    70.000000  86.400000  70.300000  94.700000   64.600000  5819.000000"
      ]
     },
     "execution_count": 15,
     "metadata": {},
     "output_type": "execute_result"
    },
    {
     "data": {
      "application/javascript": [
       "\n",
       "            setTimeout(function() {\n",
       "                var nbb_cell_id = 15;\n",
       "                var nbb_unformatted_code = \"all_groups.describe()\";\n",
       "                var nbb_formatted_code = \"all_groups.describe()\";\n",
       "                var nbb_cells = Jupyter.notebook.get_cells();\n",
       "                for (var i = 0; i < nbb_cells.length; ++i) {\n",
       "                    if (nbb_cells[i].input_prompt_number == nbb_cell_id) {\n",
       "                        if (nbb_cells[i].get_text() == nbb_unformatted_code) {\n",
       "                             nbb_cells[i].set_text(nbb_formatted_code);\n",
       "                        }\n",
       "                        break;\n",
       "                    }\n",
       "                }\n",
       "            }, 500);\n",
       "            "
      ],
      "text/plain": [
       "<IPython.core.display.Javascript object>"
      ]
     },
     "metadata": {},
     "output_type": "display_data"
    }
   ],
   "source": [
    "all_groups.describe()"
   ]
  },
  {
   "cell_type": "code",
   "execution_count": 16,
   "metadata": {},
   "outputs": [
    {
     "data": {
      "application/javascript": [
       "\n",
       "            setTimeout(function() {\n",
       "                var nbb_cell_id = 16;\n",
       "                var nbb_unformatted_code = \"def min_max_metric(all_groups, metric):\\n    \\\"\\\"\\\" \\\"\\\"\\\"\\n    idx = all_groups[metric].idxmax()\\n    print(idx, all_groups[metric][idx])\\n\\n    idx = all_groups[metric].idxmin()\\n    print(idx, all_groups[metric][idx])\";\n",
       "                var nbb_formatted_code = \"def min_max_metric(all_groups, metric):\\n    \\\"\\\"\\\" \\\"\\\"\\\"\\n    idx = all_groups[metric].idxmax()\\n    print(idx, all_groups[metric][idx])\\n\\n    idx = all_groups[metric].idxmin()\\n    print(idx, all_groups[metric][idx])\";\n",
       "                var nbb_cells = Jupyter.notebook.get_cells();\n",
       "                for (var i = 0; i < nbb_cells.length; ++i) {\n",
       "                    if (nbb_cells[i].input_prompt_number == nbb_cell_id) {\n",
       "                        if (nbb_cells[i].get_text() == nbb_unformatted_code) {\n",
       "                             nbb_cells[i].set_text(nbb_formatted_code);\n",
       "                        }\n",
       "                        break;\n",
       "                    }\n",
       "                }\n",
       "            }, 500);\n",
       "            "
      ],
      "text/plain": [
       "<IPython.core.display.Javascript object>"
      ]
     },
     "metadata": {},
     "output_type": "display_data"
    }
   ],
   "source": [
    "def min_max_metric(all_groups, metric):\n",
    "    \"\"\" \"\"\"\n",
    "    idx = all_groups[metric].idxmax()\n",
    "    print(idx, all_groups[metric][idx])\n",
    "\n",
    "    idx = all_groups[metric].idxmin()\n",
    "    print(idx, all_groups[metric][idx])"
   ]
  },
  {
   "cell_type": "markdown",
   "metadata": {},
   "source": [
    "Here are the groups with maximumn and minimum FPR:"
   ]
  },
  {
   "cell_type": "code",
   "execution_count": 17,
   "metadata": {},
   "outputs": [
    {
     "name": "stdout",
     "output_type": "stream",
     "text": [
      "('Caucasian', 'Female', '1 Younger than 25') 70.0\n",
      "('Other', '3 Older than 45') 3.2\n"
     ]
    },
    {
     "data": {
      "application/javascript": [
       "\n",
       "            setTimeout(function() {\n",
       "                var nbb_cell_id = 17;\n",
       "                var nbb_unformatted_code = \"min_max_metric(all_groups, \\\"FPR\\\")\";\n",
       "                var nbb_formatted_code = \"min_max_metric(all_groups, \\\"FPR\\\")\";\n",
       "                var nbb_cells = Jupyter.notebook.get_cells();\n",
       "                for (var i = 0; i < nbb_cells.length; ++i) {\n",
       "                    if (nbb_cells[i].input_prompt_number == nbb_cell_id) {\n",
       "                        if (nbb_cells[i].get_text() == nbb_unformatted_code) {\n",
       "                             nbb_cells[i].set_text(nbb_formatted_code);\n",
       "                        }\n",
       "                        break;\n",
       "                    }\n",
       "                }\n",
       "            }, 500);\n",
       "            "
      ],
      "text/plain": [
       "<IPython.core.display.Javascript object>"
      ]
     },
     "metadata": {},
     "output_type": "display_data"
    }
   ],
   "source": [
    "min_max_metric(all_groups, \"FPR\")"
   ]
  },
  {
   "cell_type": "markdown",
   "metadata": {},
   "source": [
    "And here are the results for the other metrics:"
   ]
  },
  {
   "cell_type": "code",
   "execution_count": 18,
   "metadata": {},
   "outputs": [
    {
     "name": "stdout",
     "output_type": "stream",
     "text": [
      "('Other', '3 Older than 45') 86.4\n",
      "('Caucasian', 'Female', '1 Younger than 25') 3.7\n"
     ]
    },
    {
     "data": {
      "application/javascript": [
       "\n",
       "            setTimeout(function() {\n",
       "                var nbb_cell_id = 18;\n",
       "                var nbb_unformatted_code = \"min_max_metric(all_groups, \\\"FNR\\\")\";\n",
       "                var nbb_formatted_code = \"min_max_metric(all_groups, \\\"FNR\\\")\";\n",
       "                var nbb_cells = Jupyter.notebook.get_cells();\n",
       "                for (var i = 0; i < nbb_cells.length; ++i) {\n",
       "                    if (nbb_cells[i].input_prompt_number == nbb_cell_id) {\n",
       "                        if (nbb_cells[i].get_text() == nbb_unformatted_code) {\n",
       "                             nbb_cells[i].set_text(nbb_formatted_code);\n",
       "                        }\n",
       "                        break;\n",
       "                    }\n",
       "                }\n",
       "            }, 500);\n",
       "            "
      ],
      "text/plain": [
       "<IPython.core.display.Javascript object>"
      ]
     },
     "metadata": {},
     "output_type": "display_data"
    }
   ],
   "source": [
    "min_max_metric(all_groups, \"FNR\")"
   ]
  },
  {
   "cell_type": "code",
   "execution_count": 19,
   "metadata": {},
   "outputs": [
    {
     "name": "stdout",
     "output_type": "stream",
     "text": [
      "('African-American', 'Male', '1 Younger than 25') 70.3\n",
      "('Hispanic', '3 Older than 45') 28.6\n"
     ]
    },
    {
     "data": {
      "application/javascript": [
       "\n",
       "            setTimeout(function() {\n",
       "                var nbb_cell_id = 19;\n",
       "                var nbb_unformatted_code = \"min_max_metric(all_groups, \\\"PPV\\\")\";\n",
       "                var nbb_formatted_code = \"min_max_metric(all_groups, \\\"PPV\\\")\";\n",
       "                var nbb_cells = Jupyter.notebook.get_cells();\n",
       "                for (var i = 0; i < nbb_cells.length; ++i) {\n",
       "                    if (nbb_cells[i].input_prompt_number == nbb_cell_id) {\n",
       "                        if (nbb_cells[i].get_text() == nbb_unformatted_code) {\n",
       "                             nbb_cells[i].set_text(nbb_formatted_code);\n",
       "                        }\n",
       "                        break;\n",
       "                    }\n",
       "                }\n",
       "            }, 500);\n",
       "            "
      ],
      "text/plain": [
       "<IPython.core.display.Javascript object>"
      ]
     },
     "metadata": {},
     "output_type": "display_data"
    }
   ],
   "source": [
    "min_max_metric(all_groups, \"PPV\")"
   ]
  },
  {
   "cell_type": "code",
   "execution_count": 20,
   "metadata": {},
   "outputs": [
    {
     "name": "stdout",
     "output_type": "stream",
     "text": [
      "('Caucasian', 'Female', '1 Younger than 25') 94.7\n",
      "('Other', 'Male', '1 Younger than 25') 48.5\n"
     ]
    },
    {
     "data": {
      "application/javascript": [
       "\n",
       "            setTimeout(function() {\n",
       "                var nbb_cell_id = 20;\n",
       "                var nbb_unformatted_code = \"min_max_metric(all_groups, \\\"NPV\\\")\";\n",
       "                var nbb_formatted_code = \"min_max_metric(all_groups, \\\"NPV\\\")\";\n",
       "                var nbb_cells = Jupyter.notebook.get_cells();\n",
       "                for (var i = 0; i < nbb_cells.length; ++i) {\n",
       "                    if (nbb_cells[i].input_prompt_number == nbb_cell_id) {\n",
       "                        if (nbb_cells[i].get_text() == nbb_unformatted_code) {\n",
       "                             nbb_cells[i].set_text(nbb_formatted_code);\n",
       "                        }\n",
       "                        break;\n",
       "                    }\n",
       "                }\n",
       "            }, 500);\n",
       "            "
      ],
      "text/plain": [
       "<IPython.core.display.Javascript object>"
      ]
     },
     "metadata": {},
     "output_type": "display_data"
    }
   ],
   "source": [
    "min_max_metric(all_groups, \"NPV\")"
   ]
  },
  {
   "cell_type": "code",
   "execution_count": 21,
   "metadata": {},
   "outputs": [
    {
     "name": "stdout",
     "output_type": "stream",
     "text": [
      "('African-American', 'Male', '1 Younger than 25') 64.6\n",
      "('Hispanic', '3 Older than 45') 21.7\n"
     ]
    },
    {
     "data": {
      "application/javascript": [
       "\n",
       "            setTimeout(function() {\n",
       "                var nbb_cell_id = 21;\n",
       "                var nbb_unformatted_code = \"min_max_metric(all_groups, \\\"Prevalence\\\")\";\n",
       "                var nbb_formatted_code = \"min_max_metric(all_groups, \\\"Prevalence\\\")\";\n",
       "                var nbb_cells = Jupyter.notebook.get_cells();\n",
       "                for (var i = 0; i < nbb_cells.length; ++i) {\n",
       "                    if (nbb_cells[i].input_prompt_number == nbb_cell_id) {\n",
       "                        if (nbb_cells[i].get_text() == nbb_unformatted_code) {\n",
       "                             nbb_cells[i].set_text(nbb_formatted_code);\n",
       "                        }\n",
       "                        break;\n",
       "                    }\n",
       "                }\n",
       "            }, 500);\n",
       "            "
      ],
      "text/plain": [
       "<IPython.core.display.Javascript object>"
      ]
     },
     "metadata": {},
     "output_type": "display_data"
    }
   ],
   "source": [
    "min_max_metric(all_groups, \"Prevalence\")"
   ]
  },
  {
   "cell_type": "markdown",
   "metadata": {},
   "source": [
    "Looking at these results, I have a few thoughts:\n",
    "\n",
    "1. The differences between groups are big.  FNR, which ranges from about 4% to 86%, is particularly striking.\n",
    "\n",
    "2. For some metrics the most extreme groups are relatively small groups, so that might not be meaningful.  Statistically it is easier for a small group to deviate from the overall averages.\n",
    "\n",
    "3. It is not clear from these results how much of the variation between groups is due to differences in prevalance.  I'll explore this relationship in the next section.\n",
    "\n",
    "\n"
   ]
  },
  {
   "cell_type": "markdown",
   "metadata": {},
   "source": [
    "## Reverse engineering\n",
    "\n"
   ]
  },
  {
   "cell_type": "code",
   "execution_count": 22,
   "metadata": {},
   "outputs": [
    {
     "data": {
      "application/javascript": [
       "\n",
       "            setTimeout(function() {\n",
       "                var nbb_cell_id = 22;\n",
       "                var nbb_unformatted_code = \"from utils import predictive_value\\nfrom utils import error_rates\\n\\nmatrix_all = make_matrix(cp)\\nppv, npv = predictive_value(matrix_all)\\nfpr, fnr = error_rates(matrix_all)\";\n",
       "                var nbb_formatted_code = \"from utils import predictive_value\\nfrom utils import error_rates\\n\\nmatrix_all = make_matrix(cp)\\nppv, npv = predictive_value(matrix_all)\\nfpr, fnr = error_rates(matrix_all)\";\n",
       "                var nbb_cells = Jupyter.notebook.get_cells();\n",
       "                for (var i = 0; i < nbb_cells.length; ++i) {\n",
       "                    if (nbb_cells[i].input_prompt_number == nbb_cell_id) {\n",
       "                        if (nbb_cells[i].get_text() == nbb_unformatted_code) {\n",
       "                             nbb_cells[i].set_text(nbb_formatted_code);\n",
       "                        }\n",
       "                        break;\n",
       "                    }\n",
       "                }\n",
       "            }, 500);\n",
       "            "
      ],
      "text/plain": [
       "<IPython.core.display.Javascript object>"
      ]
     },
     "metadata": {},
     "output_type": "display_data"
    }
   ],
   "source": [
    "from utils import predictive_value\n",
    "from utils import error_rates\n",
    "\n",
    "matrix_all = make_matrix(cp)\n",
    "ppv, npv = predictive_value(matrix_all)\n",
    "fpr, fnr = error_rates(matrix_all)"
   ]
  },
  {
   "cell_type": "code",
   "execution_count": 23,
   "metadata": {},
   "outputs": [
    {
     "data": {
      "text/html": [
       "<div>\n",
       "<style scoped>\n",
       "    .dataframe tbody tr th:only-of-type {\n",
       "        vertical-align: middle;\n",
       "    }\n",
       "\n",
       "    .dataframe tbody tr th {\n",
       "        vertical-align: top;\n",
       "    }\n",
       "\n",
       "    .dataframe thead th {\n",
       "        text-align: right;\n",
       "    }\n",
       "</style>\n",
       "<table border=\"1\" class=\"dataframe\">\n",
       "  <thead>\n",
       "    <tr style=\"text-align: right;\">\n",
       "      <th></th>\n",
       "      <th>ppv</th>\n",
       "      <th>npv</th>\n",
       "    </tr>\n",
       "  </thead>\n",
       "  <tbody>\n",
       "    <tr>\n",
       "      <th>20.0</th>\n",
       "      <td>62.596124</td>\n",
       "      <td>67.65077</td>\n",
       "    </tr>\n",
       "    <tr>\n",
       "      <th>24.5</th>\n",
       "      <td>62.596124</td>\n",
       "      <td>67.65077</td>\n",
       "    </tr>\n",
       "    <tr>\n",
       "      <th>29.0</th>\n",
       "      <td>62.596124</td>\n",
       "      <td>67.65077</td>\n",
       "    </tr>\n",
       "    <tr>\n",
       "      <th>33.5</th>\n",
       "      <td>62.596124</td>\n",
       "      <td>67.65077</td>\n",
       "    </tr>\n",
       "    <tr>\n",
       "      <th>38.0</th>\n",
       "      <td>62.596124</td>\n",
       "      <td>67.65077</td>\n",
       "    </tr>\n",
       "    <tr>\n",
       "      <th>42.5</th>\n",
       "      <td>62.596124</td>\n",
       "      <td>67.65077</td>\n",
       "    </tr>\n",
       "    <tr>\n",
       "      <th>47.0</th>\n",
       "      <td>62.596124</td>\n",
       "      <td>67.65077</td>\n",
       "    </tr>\n",
       "    <tr>\n",
       "      <th>51.5</th>\n",
       "      <td>62.596124</td>\n",
       "      <td>67.65077</td>\n",
       "    </tr>\n",
       "    <tr>\n",
       "      <th>56.0</th>\n",
       "      <td>62.596124</td>\n",
       "      <td>67.65077</td>\n",
       "    </tr>\n",
       "    <tr>\n",
       "      <th>60.5</th>\n",
       "      <td>62.596124</td>\n",
       "      <td>67.65077</td>\n",
       "    </tr>\n",
       "    <tr>\n",
       "      <th>65.0</th>\n",
       "      <td>62.596124</td>\n",
       "      <td>67.65077</td>\n",
       "    </tr>\n",
       "  </tbody>\n",
       "</table>\n",
       "</div>"
      ],
      "text/plain": [
       "            ppv       npv\n",
       "20.0  62.596124  67.65077\n",
       "24.5  62.596124  67.65077\n",
       "29.0  62.596124  67.65077\n",
       "33.5  62.596124  67.65077\n",
       "38.0  62.596124  67.65077\n",
       "42.5  62.596124  67.65077\n",
       "47.0  62.596124  67.65077\n",
       "51.5  62.596124  67.65077\n",
       "56.0  62.596124  67.65077\n",
       "60.5  62.596124  67.65077\n",
       "65.0  62.596124  67.65077"
      ]
     },
     "execution_count": 23,
     "metadata": {},
     "output_type": "execute_result"
    },
    {
     "data": {
      "application/javascript": [
       "\n",
       "            setTimeout(function() {\n",
       "                var nbb_cell_id = 23;\n",
       "                var nbb_unformatted_code = \"import numpy as np\\nfrom utils import constant_error_rates\\n\\nprevalences = np.linspace(20, 65, 11)\\n\\npred_pv = pd.DataFrame(columns=[\\\"ppv\\\", \\\"npv\\\"])\\n\\nfor prev in prevalences:\\n    m = constant_error_rates(fpr, fnr, prev)\\n    pred_pv.loc[prev] = predictive_value(m)\\n\\npred_pv\";\n",
       "                var nbb_formatted_code = \"import numpy as np\\nfrom utils import constant_error_rates\\n\\nprevalences = np.linspace(20, 65, 11)\\n\\npred_pv = pd.DataFrame(columns=[\\\"ppv\\\", \\\"npv\\\"])\\n\\nfor prev in prevalences:\\n    m = constant_error_rates(fpr, fnr, prev)\\n    pred_pv.loc[prev] = predictive_value(m)\\n\\npred_pv\";\n",
       "                var nbb_cells = Jupyter.notebook.get_cells();\n",
       "                for (var i = 0; i < nbb_cells.length; ++i) {\n",
       "                    if (nbb_cells[i].input_prompt_number == nbb_cell_id) {\n",
       "                        if (nbb_cells[i].get_text() == nbb_unformatted_code) {\n",
       "                             nbb_cells[i].set_text(nbb_formatted_code);\n",
       "                        }\n",
       "                        break;\n",
       "                    }\n",
       "                }\n",
       "            }, 500);\n",
       "            "
      ],
      "text/plain": [
       "<IPython.core.display.Javascript object>"
      ]
     },
     "metadata": {},
     "output_type": "display_data"
    }
   ],
   "source": [
    "import numpy as np\n",
    "from utils import constant_error_rates\n",
    "\n",
    "prevalences = np.linspace(20, 65, 11)\n",
    "\n",
    "pred_pv = pd.DataFrame(columns=[\"ppv\", \"npv\"])\n",
    "\n",
    "for prev in prevalences:\n",
    "    m = constant_error_rates(fpr, fnr, prev)\n",
    "    pred_pv.loc[prev] = predictive_value(m)\n",
    "\n",
    "pred_pv"
   ]
  },
  {
   "cell_type": "code",
   "execution_count": 24,
   "metadata": {},
   "outputs": [
    {
     "data": {
      "text/html": [
       "<div>\n",
       "<style scoped>\n",
       "    .dataframe tbody tr th:only-of-type {\n",
       "        vertical-align: middle;\n",
       "    }\n",
       "\n",
       "    .dataframe tbody tr th {\n",
       "        vertical-align: top;\n",
       "    }\n",
       "\n",
       "    .dataframe thead th {\n",
       "        text-align: right;\n",
       "    }\n",
       "</style>\n",
       "<table border=\"1\" class=\"dataframe\">\n",
       "  <thead>\n",
       "    <tr style=\"text-align: right;\">\n",
       "      <th></th>\n",
       "      <th>FPR</th>\n",
       "      <th>FNR</th>\n",
       "    </tr>\n",
       "  </thead>\n",
       "  <tbody>\n",
       "    <tr>\n",
       "      <th>35.0</th>\n",
       "      <td>31.20349</td>\n",
       "      <td>38.649382</td>\n",
       "    </tr>\n",
       "    <tr>\n",
       "      <th>37.0</th>\n",
       "      <td>31.20349</td>\n",
       "      <td>38.649382</td>\n",
       "    </tr>\n",
       "    <tr>\n",
       "      <th>39.0</th>\n",
       "      <td>31.20349</td>\n",
       "      <td>38.649382</td>\n",
       "    </tr>\n",
       "    <tr>\n",
       "      <th>41.0</th>\n",
       "      <td>31.20349</td>\n",
       "      <td>38.649382</td>\n",
       "    </tr>\n",
       "    <tr>\n",
       "      <th>43.0</th>\n",
       "      <td>31.20349</td>\n",
       "      <td>38.649382</td>\n",
       "    </tr>\n",
       "    <tr>\n",
       "      <th>45.0</th>\n",
       "      <td>31.20349</td>\n",
       "      <td>38.649382</td>\n",
       "    </tr>\n",
       "    <tr>\n",
       "      <th>47.0</th>\n",
       "      <td>31.20349</td>\n",
       "      <td>38.649382</td>\n",
       "    </tr>\n",
       "    <tr>\n",
       "      <th>49.0</th>\n",
       "      <td>31.20349</td>\n",
       "      <td>38.649382</td>\n",
       "    </tr>\n",
       "    <tr>\n",
       "      <th>51.0</th>\n",
       "      <td>31.20349</td>\n",
       "      <td>38.649382</td>\n",
       "    </tr>\n",
       "    <tr>\n",
       "      <th>53.0</th>\n",
       "      <td>31.20349</td>\n",
       "      <td>38.649382</td>\n",
       "    </tr>\n",
       "    <tr>\n",
       "      <th>55.0</th>\n",
       "      <td>31.20349</td>\n",
       "      <td>38.649382</td>\n",
       "    </tr>\n",
       "  </tbody>\n",
       "</table>\n",
       "</div>"
      ],
      "text/plain": [
       "           FPR        FNR\n",
       "35.0  31.20349  38.649382\n",
       "37.0  31.20349  38.649382\n",
       "39.0  31.20349  38.649382\n",
       "41.0  31.20349  38.649382\n",
       "43.0  31.20349  38.649382\n",
       "45.0  31.20349  38.649382\n",
       "47.0  31.20349  38.649382\n",
       "49.0  31.20349  38.649382\n",
       "51.0  31.20349  38.649382\n",
       "53.0  31.20349  38.649382\n",
       "55.0  31.20349  38.649382"
      ]
     },
     "execution_count": 24,
     "metadata": {},
     "output_type": "execute_result"
    },
    {
     "data": {
      "application/javascript": [
       "\n",
       "            setTimeout(function() {\n",
       "                var nbb_cell_id = 24;\n",
       "                var nbb_unformatted_code = \"from utils import constant_predictive_value\\n\\nprevalences = np.linspace(35, 55, 11)\\n\\npred_er = pd.DataFrame(columns=[\\\"FPR\\\", \\\"FNR\\\"])\\n\\nfor prev in prevalences:\\n    m = constant_predictive_value(ppv, npv, prev)\\n    pred_er.loc[prev] = error_rates(m)\\n\\npred_er\";\n",
       "                var nbb_formatted_code = \"from utils import constant_predictive_value\\n\\nprevalences = np.linspace(35, 55, 11)\\n\\npred_er = pd.DataFrame(columns=[\\\"FPR\\\", \\\"FNR\\\"])\\n\\nfor prev in prevalences:\\n    m = constant_predictive_value(ppv, npv, prev)\\n    pred_er.loc[prev] = error_rates(m)\\n\\npred_er\";\n",
       "                var nbb_cells = Jupyter.notebook.get_cells();\n",
       "                for (var i = 0; i < nbb_cells.length; ++i) {\n",
       "                    if (nbb_cells[i].input_prompt_number == nbb_cell_id) {\n",
       "                        if (nbb_cells[i].get_text() == nbb_unformatted_code) {\n",
       "                             nbb_cells[i].set_text(nbb_formatted_code);\n",
       "                        }\n",
       "                        break;\n",
       "                    }\n",
       "                }\n",
       "            }, 500);\n",
       "            "
      ],
      "text/plain": [
       "<IPython.core.display.Javascript object>"
      ]
     },
     "metadata": {},
     "output_type": "display_data"
    }
   ],
   "source": [
    "from utils import constant_predictive_value\n",
    "\n",
    "prevalences = np.linspace(35, 55, 11)\n",
    "\n",
    "pred_er = pd.DataFrame(columns=[\"FPR\", \"FNR\"])\n",
    "\n",
    "for prev in prevalences:\n",
    "    m = constant_predictive_value(ppv, npv, prev)\n",
    "    pred_er.loc[prev] = error_rates(m)\n",
    "\n",
    "pred_er"
   ]
  },
  {
   "cell_type": "code",
   "execution_count": 25,
   "metadata": {},
   "outputs": [
    {
     "data": {
      "application/javascript": [
       "\n",
       "            setTimeout(function() {\n",
       "                var nbb_cell_id = 25;\n",
       "                var nbb_unformatted_code = \"from utils import plot_cpv_model\";\n",
       "                var nbb_formatted_code = \"from utils import plot_cpv_model\";\n",
       "                var nbb_cells = Jupyter.notebook.get_cells();\n",
       "                for (var i = 0; i < nbb_cells.length; ++i) {\n",
       "                    if (nbb_cells[i].input_prompt_number == nbb_cell_id) {\n",
       "                        if (nbb_cells[i].get_text() == nbb_unformatted_code) {\n",
       "                             nbb_cells[i].set_text(nbb_formatted_code);\n",
       "                        }\n",
       "                        break;\n",
       "                    }\n",
       "                }\n",
       "            }, 500);\n",
       "            "
      ],
      "text/plain": [
       "<IPython.core.display.Javascript object>"
      ]
     },
     "metadata": {},
     "output_type": "display_data"
    }
   ],
   "source": [
    "from utils import plot_cpv_model"
   ]
  },
  {
   "cell_type": "code",
   "execution_count": 26,
   "metadata": {},
   "outputs": [
    {
     "data": {
      "application/javascript": [
       "\n",
       "            setTimeout(function() {\n",
       "                var nbb_cell_id = 26;\n",
       "                var nbb_unformatted_code = \"from utils import plot_cer_model\";\n",
       "                var nbb_formatted_code = \"from utils import plot_cer_model\";\n",
       "                var nbb_cells = Jupyter.notebook.get_cells();\n",
       "                for (var i = 0; i < nbb_cells.length; ++i) {\n",
       "                    if (nbb_cells[i].input_prompt_number == nbb_cell_id) {\n",
       "                        if (nbb_cells[i].get_text() == nbb_unformatted_code) {\n",
       "                             nbb_cells[i].set_text(nbb_formatted_code);\n",
       "                        }\n",
       "                        break;\n",
       "                    }\n",
       "                }\n",
       "            }, 500);\n",
       "            "
      ],
      "text/plain": [
       "<IPython.core.display.Javascript object>"
      ]
     },
     "metadata": {},
     "output_type": "display_data"
    }
   ],
   "source": [
    "from utils import plot_cer_model"
   ]
  },
  {
   "cell_type": "markdown",
   "metadata": {},
   "source": [
    "Those are all the possible subgroups for these three variables.\n",
    "\n",
    "Now we can see what the results look like."
   ]
  },
  {
   "cell_type": "markdown",
   "metadata": {},
   "source": [
    "The following function plots one data point per subgroup showing the given metric versus prevalence.\n",
    "\n",
    "Groups with a small number of people are shown with lighter colors.\n"
   ]
  },
  {
   "cell_type": "code",
   "execution_count": 27,
   "metadata": {},
   "outputs": [
    {
     "data": {
      "application/javascript": [
       "\n",
       "            setTimeout(function() {\n",
       "                var nbb_cell_id = 27;\n",
       "                var nbb_unformatted_code = \"import matplotlib.pyplot as plt\\n\\n\\ndef plot_table_var(table, var, color):\\n    \\\"\\\"\\\"Plot one data point per row.\\n\\n    table: DataFrame\\n    var: which metric to plot\\n    color: string\\n    \\\"\\\"\\\"\\n    plt.plot(table[\\\"Prevalence\\\"], table[var], \\\"o\\\", color=color, alpha=0.6)\";\n",
       "                var nbb_formatted_code = \"import matplotlib.pyplot as plt\\n\\n\\ndef plot_table_var(table, var, color):\\n    \\\"\\\"\\\"Plot one data point per row.\\n\\n    table: DataFrame\\n    var: which metric to plot\\n    color: string\\n    \\\"\\\"\\\"\\n    plt.plot(table[\\\"Prevalence\\\"], table[var], \\\"o\\\", color=color, alpha=0.6)\";\n",
       "                var nbb_cells = Jupyter.notebook.get_cells();\n",
       "                for (var i = 0; i < nbb_cells.length; ++i) {\n",
       "                    if (nbb_cells[i].input_prompt_number == nbb_cell_id) {\n",
       "                        if (nbb_cells[i].get_text() == nbb_unformatted_code) {\n",
       "                             nbb_cells[i].set_text(nbb_formatted_code);\n",
       "                        }\n",
       "                        break;\n",
       "                    }\n",
       "                }\n",
       "            }, 500);\n",
       "            "
      ],
      "text/plain": [
       "<IPython.core.display.Javascript object>"
      ]
     },
     "metadata": {},
     "output_type": "display_data"
    }
   ],
   "source": [
    "import matplotlib.pyplot as plt\n",
    "\n",
    "\n",
    "def plot_table_var(table, var, color):\n",
    "    \"\"\"Plot one data point per row.\n",
    "\n",
    "    table: DataFrame\n",
    "    var: which metric to plot\n",
    "    color: string\n",
    "    \"\"\"\n",
    "    plt.plot(table[\"Prevalence\"], table[var], \"o\", color=color, alpha=0.6)"
   ]
  },
  {
   "cell_type": "markdown",
   "metadata": {},
   "source": [
    "Here's what the results look like for FPR."
   ]
  },
  {
   "cell_type": "code",
   "execution_count": 28,
   "metadata": {},
   "outputs": [
    {
     "data": {
      "image/png": "[encoded data removed]",
      "text/plain": [
       "<Figure size 640x480 with 1 Axes>"
      ]
     },
     "metadata": {},
     "output_type": "display_data"
    },
    {
     "data": {
      "application/javascript": [
       "\n",
       "            setTimeout(function() {\n",
       "                var nbb_cell_id = 28;\n",
       "                var nbb_unformatted_code = \"from utils import decorate\\n\\npred_er[\\\"FPR\\\"].plot(label=\\\"Expected FPR, constant PV\\\", color=\\\"C2\\\")\\nplt.axhline(fpr, linestyle=\\\"dotted\\\", color=\\\"gray\\\", label=\\\"Expected FPR, constant ER\\\")\\n\\nfor table in tables:\\n    plot_table_var(table, \\\"FPR\\\", \\\"C2\\\")\\n\\ndecorate(\\n    xlabel=\\\"Prevalence\\\",\\n    ylabel=\\\"False positive rate\\\",\\n    title=\\\"False positive rates by subgroup\\\",\\n)\";\n",
       "                var nbb_formatted_code = \"from utils import decorate\\n\\npred_er[\\\"FPR\\\"].plot(label=\\\"Expected FPR, constant PV\\\", color=\\\"C2\\\")\\nplt.axhline(fpr, linestyle=\\\"dotted\\\", color=\\\"gray\\\", label=\\\"Expected FPR, constant ER\\\")\\n\\nfor table in tables:\\n    plot_table_var(table, \\\"FPR\\\", \\\"C2\\\")\\n\\ndecorate(\\n    xlabel=\\\"Prevalence\\\",\\n    ylabel=\\\"False positive rate\\\",\\n    title=\\\"False positive rates by subgroup\\\",\\n)\";\n",
       "                var nbb_cells = Jupyter.notebook.get_cells();\n",
       "                for (var i = 0; i < nbb_cells.length; ++i) {\n",
       "                    if (nbb_cells[i].input_prompt_number == nbb_cell_id) {\n",
       "                        if (nbb_cells[i].get_text() == nbb_unformatted_code) {\n",
       "                             nbb_cells[i].set_text(nbb_formatted_code);\n",
       "                        }\n",
       "                        break;\n",
       "                    }\n",
       "                }\n",
       "            }, 500);\n",
       "            "
      ],
      "text/plain": [
       "<IPython.core.display.Javascript object>"
      ]
     },
     "metadata": {},
     "output_type": "display_data"
    }
   ],
   "source": [
    "from utils import decorate\n",
    "\n",
    "pred_er[\"FPR\"].plot(label=\"Expected FPR, constant PV\", color=\"C2\")\n",
    "plt.axhline(fpr, linestyle=\"dotted\", color=\"gray\", label=\"Expected FPR, constant ER\")\n",
    "\n",
    "for table in tables:\n",
    "    plot_table_var(table, \"FPR\", \"C2\")\n",
    "\n",
    "decorate(\n",
    "    xlabel=\"Prevalence\",\n",
    "    ylabel=\"False positive rate\",\n",
    "    title=\"False positive rates by subgroup\",\n",
    ")"
   ]
  },
  {
   "cell_type": "code",
   "execution_count": 29,
   "metadata": {},
   "outputs": [
    {
     "data": {
      "image/png": "[encoded data removed]",
      "text/plain": [
       "<Figure size 640x480 with 1 Axes>"
      ]
     },
     "metadata": {},
     "output_type": "display_data"
    },
    {
     "data": {
      "application/javascript": [
       "\n",
       "            setTimeout(function() {\n",
       "                var nbb_cell_id = 29;\n",
       "                var nbb_unformatted_code = \"pred_er[\\\"FNR\\\"].plot(label=\\\"Expected FNR, constant PV\\\", color=\\\"C4\\\")\\nplt.axhline(fnr, linestyle=\\\"dotted\\\", color=\\\"gray\\\", label=\\\"Expected FNR, constant ER\\\")\\n\\nfor table in tables:\\n    plot_table_var(table, \\\"FNR\\\", \\\"C4\\\")\\n\\ndecorate(\\n    xlabel=\\\"Prevalence\\\",\\n    ylabel=\\\"False negative rate\\\",\\n    title=\\\"False negative rates by subgroup\\\",\\n)\";\n",
       "                var nbb_formatted_code = \"pred_er[\\\"FNR\\\"].plot(label=\\\"Expected FNR, constant PV\\\", color=\\\"C4\\\")\\nplt.axhline(fnr, linestyle=\\\"dotted\\\", color=\\\"gray\\\", label=\\\"Expected FNR, constant ER\\\")\\n\\nfor table in tables:\\n    plot_table_var(table, \\\"FNR\\\", \\\"C4\\\")\\n\\ndecorate(\\n    xlabel=\\\"Prevalence\\\",\\n    ylabel=\\\"False negative rate\\\",\\n    title=\\\"False negative rates by subgroup\\\",\\n)\";\n",
       "                var nbb_cells = Jupyter.notebook.get_cells();\n",
       "                for (var i = 0; i < nbb_cells.length; ++i) {\n",
       "                    if (nbb_cells[i].input_prompt_number == nbb_cell_id) {\n",
       "                        if (nbb_cells[i].get_text() == nbb_unformatted_code) {\n",
       "                             nbb_cells[i].set_text(nbb_formatted_code);\n",
       "                        }\n",
       "                        break;\n",
       "                    }\n",
       "                }\n",
       "            }, 500);\n",
       "            "
      ],
      "text/plain": [
       "<IPython.core.display.Javascript object>"
      ]
     },
     "metadata": {},
     "output_type": "display_data"
    }
   ],
   "source": [
    "pred_er[\"FNR\"].plot(label=\"Expected FNR, constant PV\", color=\"C4\")\n",
    "plt.axhline(fnr, linestyle=\"dotted\", color=\"gray\", label=\"Expected FNR, constant ER\")\n",
    "\n",
    "for table in tables:\n",
    "    plot_table_var(table, \"FNR\", \"C4\")\n",
    "\n",
    "decorate(\n",
    "    xlabel=\"Prevalence\",\n",
    "    ylabel=\"False negative rate\",\n",
    "    title=\"False negative rates by subgroup\",\n",
    ")"
   ]
  },
  {
   "cell_type": "markdown",
   "metadata": {},
   "source": [
    "In general, groups with higher prevalence have higher false positive rates, but the effect is less extreme than what we would expect from the CPV model.\n",
    "\n",
    "Here are the results for positive predictive value."
   ]
  },
  {
   "cell_type": "code",
   "execution_count": 30,
   "metadata": {},
   "outputs": [
    {
     "data": {
      "image/png": "[encoded data removed]",
      "text/plain": [
       "<Figure size 640x480 with 1 Axes>"
      ]
     },
     "metadata": {},
     "output_type": "display_data"
    },
    {
     "data": {
      "application/javascript": [
       "\n",
       "            setTimeout(function() {\n",
       "                var nbb_cell_id = 30;\n",
       "                var nbb_unformatted_code = \"pred_pv[\\\"ppv\\\"].plot(label=\\\"Expected PPV, constant FPR\\\", color=\\\"C0\\\")\\nplt.axhline(ppv, linestyle=\\\"dotted\\\", color=\\\"gray\\\", label=\\\"Expected PPV, constant PPV\\\")\\n\\nfor table in tables:\\n    plot_table_var(table, \\\"PPV\\\", \\\"C0\\\")\\n\\ndecorate(\\n    xlabel=\\\"Prevalence\\\",\\n    ylabel=\\\"Positive predictive value\\\",\\n    title=\\\"Positive predictive value by subgroup\\\",\\n)\";\n",
       "                var nbb_formatted_code = \"pred_pv[\\\"ppv\\\"].plot(label=\\\"Expected PPV, constant FPR\\\", color=\\\"C0\\\")\\nplt.axhline(ppv, linestyle=\\\"dotted\\\", color=\\\"gray\\\", label=\\\"Expected PPV, constant PPV\\\")\\n\\nfor table in tables:\\n    plot_table_var(table, \\\"PPV\\\", \\\"C0\\\")\\n\\ndecorate(\\n    xlabel=\\\"Prevalence\\\",\\n    ylabel=\\\"Positive predictive value\\\",\\n    title=\\\"Positive predictive value by subgroup\\\",\\n)\";\n",
       "                var nbb_cells = Jupyter.notebook.get_cells();\n",
       "                for (var i = 0; i < nbb_cells.length; ++i) {\n",
       "                    if (nbb_cells[i].input_prompt_number == nbb_cell_id) {\n",
       "                        if (nbb_cells[i].get_text() == nbb_unformatted_code) {\n",
       "                             nbb_cells[i].set_text(nbb_formatted_code);\n",
       "                        }\n",
       "                        break;\n",
       "                    }\n",
       "                }\n",
       "            }, 500);\n",
       "            "
      ],
      "text/plain": [
       "<IPython.core.display.Javascript object>"
      ]
     },
     "metadata": {},
     "output_type": "display_data"
    }
   ],
   "source": [
    "pred_pv[\"ppv\"].plot(label=\"Expected PPV, constant FPR\", color=\"C0\")\n",
    "plt.axhline(ppv, linestyle=\"dotted\", color=\"gray\", label=\"Expected PPV, constant PPV\")\n",
    "\n",
    "for table in tables:\n",
    "    plot_table_var(table, \"PPV\", \"C0\")\n",
    "\n",
    "decorate(\n",
    "    xlabel=\"Prevalence\",\n",
    "    ylabel=\"Positive predictive value\",\n",
    "    title=\"Positive predictive value by subgroup\",\n",
    ")"
   ]
  },
  {
   "cell_type": "markdown",
   "metadata": {},
   "source": [
    "Groups with higher prevalence have higher PPV, but the effect is less extreme than we would expect from the CPV model.\n",
    "\n",
    "Here are the results for false negative rate."
   ]
  },
  {
   "cell_type": "markdown",
   "metadata": {},
   "source": [
    "Groups with higher prevalence have lower FNR, but the effect is less extreme than we would expect from the CPV model.\n",
    "\n",
    "Here are the results for negative predictive value."
   ]
  },
  {
   "cell_type": "code",
   "execution_count": 31,
   "metadata": {},
   "outputs": [
    {
     "data": {
      "image/png": "[encoded data removed]",
      "text/plain": [
       "<Figure size 640x480 with 1 Axes>"
      ]
     },
     "metadata": {},
     "output_type": "display_data"
    },
    {
     "data": {
      "application/javascript": [
       "\n",
       "            setTimeout(function() {\n",
       "                var nbb_cell_id = 31;\n",
       "                var nbb_unformatted_code = \"pred_pv[\\\"npv\\\"].plot(label=\\\"Expected NPV, constant FPR\\\", color=\\\"C1\\\")\\nplt.axhline(npv, linestyle=\\\"dotted\\\", color=\\\"gray\\\", label=\\\"Expected NPV, constant NPV\\\")\\n\\nfor table in tables:\\n    plot_table_var(table, \\\"NPV\\\", \\\"C1\\\")\\n\\ndecorate(\\n    xlabel=\\\"Prevalence\\\",\\n    ylabel=\\\"Negative predictive value\\\",\\n    title=\\\"Negative predictive value by subgroup\\\",\\n)\";\n",
       "                var nbb_formatted_code = \"pred_pv[\\\"npv\\\"].plot(label=\\\"Expected NPV, constant FPR\\\", color=\\\"C1\\\")\\nplt.axhline(npv, linestyle=\\\"dotted\\\", color=\\\"gray\\\", label=\\\"Expected NPV, constant NPV\\\")\\n\\nfor table in tables:\\n    plot_table_var(table, \\\"NPV\\\", \\\"C1\\\")\\n\\ndecorate(\\n    xlabel=\\\"Prevalence\\\",\\n    ylabel=\\\"Negative predictive value\\\",\\n    title=\\\"Negative predictive value by subgroup\\\",\\n)\";\n",
       "                var nbb_cells = Jupyter.notebook.get_cells();\n",
       "                for (var i = 0; i < nbb_cells.length; ++i) {\n",
       "                    if (nbb_cells[i].input_prompt_number == nbb_cell_id) {\n",
       "                        if (nbb_cells[i].get_text() == nbb_unformatted_code) {\n",
       "                             nbb_cells[i].set_text(nbb_formatted_code);\n",
       "                        }\n",
       "                        break;\n",
       "                    }\n",
       "                }\n",
       "            }, 500);\n",
       "            "
      ],
      "text/plain": [
       "<IPython.core.display.Javascript object>"
      ]
     },
     "metadata": {},
     "output_type": "display_data"
    }
   ],
   "source": [
    "pred_pv[\"npv\"].plot(label=\"Expected NPV, constant FPR\", color=\"C1\")\n",
    "plt.axhline(npv, linestyle=\"dotted\", color=\"gray\", label=\"Expected NPV, constant NPV\")\n",
    "\n",
    "for table in tables:\n",
    "    plot_table_var(table, \"NPV\", \"C1\")\n",
    "\n",
    "decorate(\n",
    "    xlabel=\"Prevalence\",\n",
    "    ylabel=\"Negative predictive value\",\n",
    "    title=\"Negative predictive value by subgroup\",\n",
    ")"
   ]
  },
  {
   "cell_type": "markdown",
   "metadata": {},
   "source": [
    "Groups with higher prevalence have lower NPV.  In this case, the effect is almost exactly what we would expect from the CPV model."
   ]
  },
  {
   "cell_type": "markdown",
   "metadata": {},
   "source": [
    "Part of a [Recidivism Case Study](https://allendowney.github.io/RecidivismCaseStudy/)\n",
    "\n",
    "by [Allen Downey](https://allendowney.com)\n",
    "\n",
    "[Attribution-NonCommercial 4.0 International (CC BY-NC 4.0)](https://creativecommons.org/licenses/by-nc/4.0/)"
   ]
  }
 ],
 "metadata": {
  "celltoolbar": "Tags",
  "kernelspec": {
   "display_name": "Python 3 (ipykernel)",
   "language": "python",
   "name": "python3"
  },
  "language_info": {
   "codemirror_mode": {
    "name": "ipython",
    "version": 3
   },
   "file_extension": ".py",
   "mimetype": "text/x-python",
   "name": "python",
   "nbconvert_exporter": "python",
   "pygments_lexer": "ipython3",
   "version": "3.10.14"
  }
 },
 "nbformat": 4,
 "nbformat_minor": 4
}
