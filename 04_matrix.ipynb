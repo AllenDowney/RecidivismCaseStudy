{
 "cells": [
  {
   "cell_type": "markdown",
   "metadata": {},
   "source": [
    "# Confusion matrix"
   ]
  },
  {
   "cell_type": "markdown",
   "metadata": {},
   "source": [
    "This is the fourth in a series of notebooks that make up a [case study on classification and algorithmic fairness](https://allendowney.github.io/RecidivismCaseStudy/).\n",
    "This case study is part of the [*Elements of Data Science*](https://allendowney.github.io/ElementsOfDataScience/) curriculum.\n",
    "[Click here to run this notebook on Colab](https://colab.research.google.com/github/AllenDowney/RecidivismCaseStudy/blob/v1/04_matrix.ipynb)."
   ]
  },
  {
   "cell_type": "code",
   "execution_count": 1,
   "metadata": {
    "tags": [
     "remove-cell"
    ]
   },
   "outputs": [
    {
     "data": {
      "application/javascript": [
       "\n",
       "            setTimeout(function() {\n",
       "                var nbb_cell_id = 1;\n",
       "                var nbb_unformatted_code = \"from os.path import basename, exists\\n\\n\\ndef download(url):\\n    filename = basename(url)\\n    if not exists(filename):\\n        from urllib.request import urlretrieve\\n\\n        local, _ = urlretrieve(url, filename)\\n        print(\\\"Downloaded \\\" + local)\\n\\n\\ndownload(\\n    \\\"https://raw.githubusercontent.com/AllenDowney/RecidivismCaseStudy/v1/utils.py\\\"\\n)\\n\\n%load_ext nb_black\";\n",
       "                var nbb_formatted_code = \"from os.path import basename, exists\\n\\n\\ndef download(url):\\n    filename = basename(url)\\n    if not exists(filename):\\n        from urllib.request import urlretrieve\\n\\n        local, _ = urlretrieve(url, filename)\\n        print(\\\"Downloaded \\\" + local)\\n\\n\\ndownload(\\n    \\\"https://raw.githubusercontent.com/AllenDowney/RecidivismCaseStudy/v1/utils.py\\\"\\n)\\n\\n%load_ext nb_black\";\n",
       "                var nbb_cells = Jupyter.notebook.get_cells();\n",
       "                for (var i = 0; i < nbb_cells.length; ++i) {\n",
       "                    if (nbb_cells[i].input_prompt_number == nbb_cell_id) {\n",
       "                        if (nbb_cells[i].get_text() == nbb_unformatted_code) {\n",
       "                             nbb_cells[i].set_text(nbb_formatted_code);\n",
       "                        }\n",
       "                        break;\n",
       "                    }\n",
       "                }\n",
       "            }, 500);\n",
       "            "
      ],
      "text/plain": [
       "<IPython.core.display.Javascript object>"
      ]
     },
     "metadata": {},
     "output_type": "display_data"
    }
   ],
   "source": [
    "from os.path import basename, exists\n",
    "\n",
    "\n",
    "def download(url):\n",
    "    filename = basename(url)\n",
    "    if not exists(filename):\n",
    "        from urllib.request import urlretrieve\n",
    "\n",
    "        local, _ = urlretrieve(url, filename)\n",
    "        print(\"Downloaded \" + local)\n",
    "\n",
    "\n",
    "download(\n",
    "    \"https://raw.githubusercontent.com/AllenDowney/RecidivismCaseStudy/v1/utils.py\"\n",
    ")\n",
    "\n",
    "%load_ext nb_black"
   ]
  },
  {
   "cell_type": "markdown",
   "metadata": {},
   "source": [
    "## Data\n",
    "\n",
    "The authors of \"Machine Bias\" published their data and analysis in [this repository](https://github.com/propublica/compas-analysis).\n",
    "\n",
    "The terms of use for the data [are here](https://www.propublica.org/datastore/terms).  In compliance with those terms, I am not redistributing the data.  The following cell downloads the data file we'll use directly from their repository."
   ]
  },
  {
   "cell_type": "code",
   "execution_count": 2,
   "metadata": {},
   "outputs": [
    {
     "data": {
      "application/javascript": [
       "\n",
       "            setTimeout(function() {\n",
       "                var nbb_cell_id = 2;\n",
       "                var nbb_unformatted_code = \"download(\\n    \\\"https://github.com/propublica/compas-analysis/raw/master/compas-scores-two-years.csv\\\"\\n)\";\n",
       "                var nbb_formatted_code = \"download(\\n    \\\"https://github.com/propublica/compas-analysis/raw/master/compas-scores-two-years.csv\\\"\\n)\";\n",
       "                var nbb_cells = Jupyter.notebook.get_cells();\n",
       "                for (var i = 0; i < nbb_cells.length; ++i) {\n",
       "                    if (nbb_cells[i].input_prompt_number == nbb_cell_id) {\n",
       "                        if (nbb_cells[i].get_text() == nbb_unformatted_code) {\n",
       "                             nbb_cells[i].set_text(nbb_formatted_code);\n",
       "                        }\n",
       "                        break;\n",
       "                    }\n",
       "                }\n",
       "            }, 500);\n",
       "            "
      ],
      "text/plain": [
       "<IPython.core.display.Javascript object>"
      ]
     },
     "metadata": {},
     "output_type": "display_data"
    }
   ],
   "source": [
    "download(\n",
    "    \"https://github.com/propublica/compas-analysis/raw/master/compas-scores-two-years.csv\"\n",
    ")"
   ]
  },
  {
   "cell_type": "markdown",
   "metadata": {},
   "source": [
    "The following cell reads the data file:"
   ]
  },
  {
   "cell_type": "code",
   "execution_count": 3,
   "metadata": {},
   "outputs": [
    {
     "data": {
      "text/plain": [
       "(7214, 53)"
      ]
     },
     "execution_count": 3,
     "metadata": {},
     "output_type": "execute_result"
    },
    {
     "data": {
      "application/javascript": [
       "\n",
       "            setTimeout(function() {\n",
       "                var nbb_cell_id = 3;\n",
       "                var nbb_unformatted_code = \"import pandas as pd\\n\\ncp = pd.read_csv(\\\"compas-scores-two-years.csv\\\")\\ncp.shape\";\n",
       "                var nbb_formatted_code = \"import pandas as pd\\n\\ncp = pd.read_csv(\\\"compas-scores-two-years.csv\\\")\\ncp.shape\";\n",
       "                var nbb_cells = Jupyter.notebook.get_cells();\n",
       "                for (var i = 0; i < nbb_cells.length; ++i) {\n",
       "                    if (nbb_cells[i].input_prompt_number == nbb_cell_id) {\n",
       "                        if (nbb_cells[i].get_text() == nbb_unformatted_code) {\n",
       "                             nbb_cells[i].set_text(nbb_formatted_code);\n",
       "                        }\n",
       "                        break;\n",
       "                    }\n",
       "                }\n",
       "            }, 500);\n",
       "            "
      ],
      "text/plain": [
       "<IPython.core.display.Javascript object>"
      ]
     },
     "metadata": {},
     "output_type": "display_data"
    }
   ],
   "source": [
    "import pandas as pd\n",
    "\n",
    "cp = pd.read_csv(\"compas-scores-two-years.csv\")\n",
    "cp.shape"
   ]
  },
  {
   "cell_type": "markdown",
   "metadata": {},
   "source": [
    "The dataset includes 7214 rows, one for each defendant, and 53 columns."
   ]
  },
  {
   "cell_type": "markdown",
   "metadata": {},
   "source": [
    "## Recreating the confusion matrix\n",
    "\n",
    "An ideal test should have equal predictive value in all groups; that is, two people with the same risk score should have the same probability of recidivism, regardless of what group they are in.\n",
    "\n",
    "An ideal test should also have the same error rates for all groups; that is, any two recidivists should have same probability of being mis-classified as low risk (FNR), and any two non-recidivists should have the same probability of being mis-classified as high risk (FPR).\n",
    "\n",
    "But it is not possible to achieve both of these goals at the same time:\n",
    "\n",
    "* If you design a test to achieve equal predictive value across groups with different prevalence, you will find that error rates differ. Specifically, false positive rates will be higher in groups with higher recividism.\n",
    "\n",
    "* If you design a test to achieve equal error rates across groups, you will find that predictive values differ. Specifically, positive predictive value will be lower in groups with lower rates of recidivism.\n",
    "\n",
    "In previous notebooks I asserted these claims without proof.  In this notebook I will prove them by showing:\n",
    "\n",
    "* Given prevalence, PPV and NPV, we can compute the confusion matrix and the error rates.\n",
    "\n",
    "* Given prevalence, FPR and FNR, we can compute the confusion matrix and the predictive values.\n",
    "\n",
    "To see why, consider this: the confusion matrix has four numbers in it, but they have to add up to 100%, so if you provide any three (independent) metrics, I can compute the elements of the matrix and any other metrics."
   ]
  },
  {
   "cell_type": "markdown",
   "metadata": {},
   "source": [
    "We could do the algebra by hand, but it is easier (and probably more reliable) to use SymPy.\n",
    "\n",
    "Here are the symbols we'll use:"
   ]
  },
  {
   "cell_type": "code",
   "execution_count": 4,
   "metadata": {},
   "outputs": [
    {
     "data": {
      "application/javascript": [
       "\n",
       "            setTimeout(function() {\n",
       "                var nbb_cell_id = 4;\n",
       "                var nbb_unformatted_code = \"from sympy import symbols, Eq, solve\\n\\ntn, fp, fn, tp = symbols(\\\"tn, fp, fn, tp\\\")\\nppv, npv, prev = symbols(\\\"ppv, npv, prev\\\")\\nfpr, fnr = symbols(\\\"fpr, fnr\\\")\";\n",
       "                var nbb_formatted_code = \"from sympy import symbols, Eq, solve\\n\\ntn, fp, fn, tp = symbols(\\\"tn, fp, fn, tp\\\")\\nppv, npv, prev = symbols(\\\"ppv, npv, prev\\\")\\nfpr, fnr = symbols(\\\"fpr, fnr\\\")\";\n",
       "                var nbb_cells = Jupyter.notebook.get_cells();\n",
       "                for (var i = 0; i < nbb_cells.length; ++i) {\n",
       "                    if (nbb_cells[i].input_prompt_number == nbb_cell_id) {\n",
       "                        if (nbb_cells[i].get_text() == nbb_unformatted_code) {\n",
       "                             nbb_cells[i].set_text(nbb_formatted_code);\n",
       "                        }\n",
       "                        break;\n",
       "                    }\n",
       "                }\n",
       "            }, 500);\n",
       "            "
      ],
      "text/plain": [
       "<IPython.core.display.Javascript object>"
      ]
     },
     "metadata": {},
     "output_type": "display_data"
    }
   ],
   "source": [
    "from sympy import symbols, Eq, solve\n",
    "\n",
    "tn, fp, fn, tp = symbols(\"tn, fp, fn, tp\")\n",
    "ppv, npv, prev = symbols(\"ppv, npv, prev\")\n",
    "fpr, fnr = symbols(\"fpr, fnr\")"
   ]
  },
  {
   "cell_type": "markdown",
   "metadata": {},
   "source": [
    "And here are the equations that relate the metrics to the elements of the confusion matrix."
   ]
  },
  {
   "cell_type": "code",
   "execution_count": 5,
   "metadata": {},
   "outputs": [
    {
     "data": {
      "text/latex": [
       "$\\displaystyle prev = fn + tp$"
      ],
      "text/plain": [
       "Eq(prev, fn + tp)"
      ]
     },
     "execution_count": 5,
     "metadata": {},
     "output_type": "execute_result"
    },
    {
     "data": {
      "application/javascript": [
       "\n",
       "            setTimeout(function() {\n",
       "                var nbb_cell_id = 5;\n",
       "                var nbb_unformatted_code = \"eq1 = Eq(prev, tp + fn)\\neq1\";\n",
       "                var nbb_formatted_code = \"eq1 = Eq(prev, tp + fn)\\neq1\";\n",
       "                var nbb_cells = Jupyter.notebook.get_cells();\n",
       "                for (var i = 0; i < nbb_cells.length; ++i) {\n",
       "                    if (nbb_cells[i].input_prompt_number == nbb_cell_id) {\n",
       "                        if (nbb_cells[i].get_text() == nbb_unformatted_code) {\n",
       "                             nbb_cells[i].set_text(nbb_formatted_code);\n",
       "                        }\n",
       "                        break;\n",
       "                    }\n",
       "                }\n",
       "            }, 500);\n",
       "            "
      ],
      "text/plain": [
       "<IPython.core.display.Javascript object>"
      ]
     },
     "metadata": {},
     "output_type": "display_data"
    }
   ],
   "source": [
    "eq1 = Eq(prev, tp + fn)\n",
    "eq1"
   ]
  },
  {
   "cell_type": "code",
   "execution_count": 6,
   "metadata": {},
   "outputs": [
    {
     "data": {
      "text/latex": [
       "$\\displaystyle fpr = \\frac{fp}{fp + tn}$"
      ],
      "text/plain": [
       "Eq(fpr, fp/(fp + tn))"
      ]
     },
     "execution_count": 6,
     "metadata": {},
     "output_type": "execute_result"
    },
    {
     "data": {
      "application/javascript": [
       "\n",
       "            setTimeout(function() {\n",
       "                var nbb_cell_id = 6;\n",
       "                var nbb_unformatted_code = \"eq2 = Eq(fpr, fp / (fp + tn))\\neq2\";\n",
       "                var nbb_formatted_code = \"eq2 = Eq(fpr, fp / (fp + tn))\\neq2\";\n",
       "                var nbb_cells = Jupyter.notebook.get_cells();\n",
       "                for (var i = 0; i < nbb_cells.length; ++i) {\n",
       "                    if (nbb_cells[i].input_prompt_number == nbb_cell_id) {\n",
       "                        if (nbb_cells[i].get_text() == nbb_unformatted_code) {\n",
       "                             nbb_cells[i].set_text(nbb_formatted_code);\n",
       "                        }\n",
       "                        break;\n",
       "                    }\n",
       "                }\n",
       "            }, 500);\n",
       "            "
      ],
      "text/plain": [
       "<IPython.core.display.Javascript object>"
      ]
     },
     "metadata": {},
     "output_type": "display_data"
    }
   ],
   "source": [
    "eq2 = Eq(fpr, fp / (fp + tn))\n",
    "eq2"
   ]
  },
  {
   "cell_type": "code",
   "execution_count": 7,
   "metadata": {},
   "outputs": [
    {
     "data": {
      "text/latex": [
       "$\\displaystyle fnr = \\frac{fn}{fn + tp}$"
      ],
      "text/plain": [
       "Eq(fnr, fn/(fn + tp))"
      ]
     },
     "execution_count": 7,
     "metadata": {},
     "output_type": "execute_result"
    },
    {
     "data": {
      "application/javascript": [
       "\n",
       "            setTimeout(function() {\n",
       "                var nbb_cell_id = 7;\n",
       "                var nbb_unformatted_code = \"eq3 = Eq(fnr, fn / (fn + tp))\\neq3\";\n",
       "                var nbb_formatted_code = \"eq3 = Eq(fnr, fn / (fn + tp))\\neq3\";\n",
       "                var nbb_cells = Jupyter.notebook.get_cells();\n",
       "                for (var i = 0; i < nbb_cells.length; ++i) {\n",
       "                    if (nbb_cells[i].input_prompt_number == nbb_cell_id) {\n",
       "                        if (nbb_cells[i].get_text() == nbb_unformatted_code) {\n",
       "                             nbb_cells[i].set_text(nbb_formatted_code);\n",
       "                        }\n",
       "                        break;\n",
       "                    }\n",
       "                }\n",
       "            }, 500);\n",
       "            "
      ],
      "text/plain": [
       "<IPython.core.display.Javascript object>"
      ]
     },
     "metadata": {},
     "output_type": "display_data"
    }
   ],
   "source": [
    "eq3 = Eq(fnr, fn / (fn + tp))\n",
    "eq3"
   ]
  },
  {
   "cell_type": "code",
   "execution_count": 8,
   "metadata": {},
   "outputs": [
    {
     "data": {
      "text/latex": [
       "$\\displaystyle ppv = \\frac{tp}{fp + tp}$"
      ],
      "text/plain": [
       "Eq(ppv, tp/(fp + tp))"
      ]
     },
     "execution_count": 8,
     "metadata": {},
     "output_type": "execute_result"
    },
    {
     "data": {
      "application/javascript": [
       "\n",
       "            setTimeout(function() {\n",
       "                var nbb_cell_id = 8;\n",
       "                var nbb_unformatted_code = \"eq4 = Eq(ppv, tp / (tp + fp))\\neq4\";\n",
       "                var nbb_formatted_code = \"eq4 = Eq(ppv, tp / (tp + fp))\\neq4\";\n",
       "                var nbb_cells = Jupyter.notebook.get_cells();\n",
       "                for (var i = 0; i < nbb_cells.length; ++i) {\n",
       "                    if (nbb_cells[i].input_prompt_number == nbb_cell_id) {\n",
       "                        if (nbb_cells[i].get_text() == nbb_unformatted_code) {\n",
       "                             nbb_cells[i].set_text(nbb_formatted_code);\n",
       "                        }\n",
       "                        break;\n",
       "                    }\n",
       "                }\n",
       "            }, 500);\n",
       "            "
      ],
      "text/plain": [
       "<IPython.core.display.Javascript object>"
      ]
     },
     "metadata": {},
     "output_type": "display_data"
    }
   ],
   "source": [
    "eq4 = Eq(ppv, tp / (tp + fp))\n",
    "eq4"
   ]
  },
  {
   "cell_type": "code",
   "execution_count": 9,
   "metadata": {},
   "outputs": [
    {
     "data": {
      "text/latex": [
       "$\\displaystyle npv = \\frac{tn}{fn + tn}$"
      ],
      "text/plain": [
       "Eq(npv, tn/(fn + tn))"
      ]
     },
     "execution_count": 9,
     "metadata": {},
     "output_type": "execute_result"
    },
    {
     "data": {
      "application/javascript": [
       "\n",
       "            setTimeout(function() {\n",
       "                var nbb_cell_id = 9;\n",
       "                var nbb_unformatted_code = \"eq5 = Eq(npv, tn / (tn + fn))\\neq5\";\n",
       "                var nbb_formatted_code = \"eq5 = Eq(npv, tn / (tn + fn))\\neq5\";\n",
       "                var nbb_cells = Jupyter.notebook.get_cells();\n",
       "                for (var i = 0; i < nbb_cells.length; ++i) {\n",
       "                    if (nbb_cells[i].input_prompt_number == nbb_cell_id) {\n",
       "                        if (nbb_cells[i].get_text() == nbb_unformatted_code) {\n",
       "                             nbb_cells[i].set_text(nbb_formatted_code);\n",
       "                        }\n",
       "                        break;\n",
       "                    }\n",
       "                }\n",
       "            }, 500);\n",
       "            "
      ],
      "text/plain": [
       "<IPython.core.display.Javascript object>"
      ]
     },
     "metadata": {},
     "output_type": "display_data"
    }
   ],
   "source": [
    "eq5 = Eq(npv, tn / (tn + fn))\n",
    "eq5"
   ]
  },
  {
   "cell_type": "code",
   "execution_count": 10,
   "metadata": {},
   "outputs": [
    {
     "data": {
      "text/latex": [
       "$\\displaystyle fn + fp + tn + tp = 1$"
      ],
      "text/plain": [
       "Eq(fn + fp + tn + tp, 1)"
      ]
     },
     "execution_count": 10,
     "metadata": {},
     "output_type": "execute_result"
    },
    {
     "data": {
      "application/javascript": [
       "\n",
       "            setTimeout(function() {\n",
       "                var nbb_cell_id = 10;\n",
       "                var nbb_unformatted_code = \"eq6 = Eq(tn + fp + fn + tp, 1)\\neq6\";\n",
       "                var nbb_formatted_code = \"eq6 = Eq(tn + fp + fn + tp, 1)\\neq6\";\n",
       "                var nbb_cells = Jupyter.notebook.get_cells();\n",
       "                for (var i = 0; i < nbb_cells.length; ++i) {\n",
       "                    if (nbb_cells[i].input_prompt_number == nbb_cell_id) {\n",
       "                        if (nbb_cells[i].get_text() == nbb_unformatted_code) {\n",
       "                             nbb_cells[i].set_text(nbb_formatted_code);\n",
       "                        }\n",
       "                        break;\n",
       "                    }\n",
       "                }\n",
       "            }, 500);\n",
       "            "
      ],
      "text/plain": [
       "<IPython.core.display.Javascript object>"
      ]
     },
     "metadata": {},
     "output_type": "display_data"
    }
   ],
   "source": [
    "eq6 = Eq(tn + fp + fn + tp, 1)\n",
    "eq6"
   ]
  },
  {
   "cell_type": "markdown",
   "metadata": {},
   "source": [
    "We can use `solve` to get expressions for the elements of the confusion matrix in terms of `ppv`, `npv`, and `prev`:"
   ]
  },
  {
   "cell_type": "code",
   "execution_count": 11,
   "metadata": {},
   "outputs": [
    {
     "data": {
      "text/plain": [
       "(ppv*(npv + prev - 1)/(npv + ppv - 1),\n",
       " -(ppv - 1)*(npv + prev - 1)/(npv + ppv - 1),\n",
       " -(npv - 1)*(ppv - prev)/(npv + ppv - 1),\n",
       " npv*(ppv - prev)/(npv + ppv - 1),\n",
       " (ppv - 1)*(npv + prev - 1)/((prev - 1)*(npv + ppv - 1)),\n",
       " -(npv - 1)*(ppv - prev)/(prev*(npv + ppv - 1)))"
      ]
     },
     "execution_count": 11,
     "metadata": {},
     "output_type": "execute_result"
    },
    {
     "data": {
      "application/javascript": [
       "\n",
       "            setTimeout(function() {\n",
       "                var nbb_cell_id = 11;\n",
       "                var nbb_unformatted_code = \"soln1 = solve([eq1, eq2, eq3, eq4, eq5, eq6], [tp, fp, fn, tn, fpr, fnr])\\nsoln1[0]\";\n",
       "                var nbb_formatted_code = \"soln1 = solve([eq1, eq2, eq3, eq4, eq5, eq6], [tp, fp, fn, tn, fpr, fnr])\\nsoln1[0]\";\n",
       "                var nbb_cells = Jupyter.notebook.get_cells();\n",
       "                for (var i = 0; i < nbb_cells.length; ++i) {\n",
       "                    if (nbb_cells[i].input_prompt_number == nbb_cell_id) {\n",
       "                        if (nbb_cells[i].get_text() == nbb_unformatted_code) {\n",
       "                             nbb_cells[i].set_text(nbb_formatted_code);\n",
       "                        }\n",
       "                        break;\n",
       "                    }\n",
       "                }\n",
       "            }, 500);\n",
       "            "
      ],
      "text/plain": [
       "<IPython.core.display.Javascript object>"
      ]
     },
     "metadata": {},
     "output_type": "display_data"
    }
   ],
   "source": [
    "soln1 = solve([eq1, eq2, eq3, eq4, eq5, eq6], [tp, fp, fn, tn, fpr, fnr])\n",
    "soln1[0]"
   ]
  },
  {
   "cell_type": "markdown",
   "metadata": {},
   "source": [
    "We can also solve for the elements of the confusion matrix in terms of `fpr`, `fnr`, and `prev`:"
   ]
  },
  {
   "cell_type": "code",
   "execution_count": 12,
   "metadata": {},
   "outputs": [
    {
     "data": {
      "text/plain": [
       "(prev*(1 - fnr),\n",
       " fpr*(1 - prev),\n",
       " fnr*prev,\n",
       " (fpr - 1)*(prev - 1),\n",
       " prev*(fnr - 1)/(fnr*prev + fpr*prev - fpr - prev),\n",
       " (fpr - 1)*(prev - 1)/(fnr*prev + fpr*prev - fpr - prev + 1))"
      ]
     },
     "execution_count": 12,
     "metadata": {},
     "output_type": "execute_result"
    },
    {
     "data": {
      "application/javascript": [
       "\n",
       "            setTimeout(function() {\n",
       "                var nbb_cell_id = 12;\n",
       "                var nbb_unformatted_code = \"soln2 = solve([eq1, eq2, eq3, eq4, eq5, eq6], [tp, fp, fn, tn, ppv, npv])\\n\\nsoln2[0]\";\n",
       "                var nbb_formatted_code = \"soln2 = solve([eq1, eq2, eq3, eq4, eq5, eq6], [tp, fp, fn, tn, ppv, npv])\\n\\nsoln2[0]\";\n",
       "                var nbb_cells = Jupyter.notebook.get_cells();\n",
       "                for (var i = 0; i < nbb_cells.length; ++i) {\n",
       "                    if (nbb_cells[i].input_prompt_number == nbb_cell_id) {\n",
       "                        if (nbb_cells[i].get_text() == nbb_unformatted_code) {\n",
       "                             nbb_cells[i].set_text(nbb_formatted_code);\n",
       "                        }\n",
       "                        break;\n",
       "                    }\n",
       "                }\n",
       "            }, 500);\n",
       "            "
      ],
      "text/plain": [
       "<IPython.core.display.Javascript object>"
      ]
     },
     "metadata": {},
     "output_type": "display_data"
    }
   ],
   "source": [
    "soln2 = solve([eq1, eq2, eq3, eq4, eq5, eq6], [tp, fp, fn, tn, ppv, npv])\n",
    "\n",
    "soln2[0]"
   ]
  },
  {
   "cell_type": "markdown",
   "metadata": {},
   "source": [
    "The following function takes `ppv`, `npv`, and `prev` and uses the expressions from `soln1` to compute a confusion matrix with those metrics."
   ]
  },
  {
   "cell_type": "code",
   "execution_count": 13,
   "metadata": {},
   "outputs": [
    {
     "data": {
      "application/javascript": [
       "\n",
       "            setTimeout(function() {\n",
       "                var nbb_cell_id = 13;\n",
       "                var nbb_unformatted_code = \"import numpy as np\\n\\n\\ndef constant_predictive_value(ppv, npv, prev):\\n    \\\"\\\"\\\"Make a confusion matrix with given metrics.\\n\\n    ppv: positive predictive value (0-100)\\n    npv: negative predictive value (0-100)\\n    prev: prevalence (0-100)\\n\\n    returns: confusion matrix\\n    \\\"\\\"\\\"\\n    ppv /= 100\\n    npv /= 100\\n    prev /= 100\\n    a = np.array(\\n        (\\n            ppv * (npv + prev - 1) / (npv + ppv - 1),\\n            -(ppv - 1) * (npv + prev - 1) / (npv + ppv - 1),\\n            -(npv - 1) * (ppv - prev) / (npv + ppv - 1),\\n            npv * (ppv - prev) / (npv + ppv - 1),\\n        )\\n    )\\n\\n    return pd.DataFrame(a.reshape((2, 2)))\";\n",
       "                var nbb_formatted_code = \"import numpy as np\\n\\n\\ndef constant_predictive_value(ppv, npv, prev):\\n    \\\"\\\"\\\"Make a confusion matrix with given metrics.\\n\\n    ppv: positive predictive value (0-100)\\n    npv: negative predictive value (0-100)\\n    prev: prevalence (0-100)\\n\\n    returns: confusion matrix\\n    \\\"\\\"\\\"\\n    ppv /= 100\\n    npv /= 100\\n    prev /= 100\\n    a = np.array(\\n        (\\n            ppv * (npv + prev - 1) / (npv + ppv - 1),\\n            -(ppv - 1) * (npv + prev - 1) / (npv + ppv - 1),\\n            -(npv - 1) * (ppv - prev) / (npv + ppv - 1),\\n            npv * (ppv - prev) / (npv + ppv - 1),\\n        )\\n    )\\n\\n    return pd.DataFrame(a.reshape((2, 2)))\";\n",
       "                var nbb_cells = Jupyter.notebook.get_cells();\n",
       "                for (var i = 0; i < nbb_cells.length; ++i) {\n",
       "                    if (nbb_cells[i].input_prompt_number == nbb_cell_id) {\n",
       "                        if (nbb_cells[i].get_text() == nbb_unformatted_code) {\n",
       "                             nbb_cells[i].set_text(nbb_formatted_code);\n",
       "                        }\n",
       "                        break;\n",
       "                    }\n",
       "                }\n",
       "            }, 500);\n",
       "            "
      ],
      "text/plain": [
       "<IPython.core.display.Javascript object>"
      ]
     },
     "metadata": {},
     "output_type": "display_data"
    }
   ],
   "source": [
    "import numpy as np\n",
    "\n",
    "\n",
    "def constant_predictive_value(ppv, npv, prev):\n",
    "    \"\"\"Make a confusion matrix with given metrics.\n",
    "\n",
    "    ppv: positive predictive value (0-100)\n",
    "    npv: negative predictive value (0-100)\n",
    "    prev: prevalence (0-100)\n",
    "\n",
    "    returns: confusion matrix\n",
    "    \"\"\"\n",
    "    ppv /= 100\n",
    "    npv /= 100\n",
    "    prev /= 100\n",
    "    a = np.array(\n",
    "        (\n",
    "            ppv * (npv + prev - 1) / (npv + ppv - 1),\n",
    "            -(ppv - 1) * (npv + prev - 1) / (npv + ppv - 1),\n",
    "            -(npv - 1) * (ppv - prev) / (npv + ppv - 1),\n",
    "            npv * (ppv - prev) / (npv + ppv - 1),\n",
    "        )\n",
    "    )\n",
    "\n",
    "    return pd.DataFrame(a.reshape((2, 2)))"
   ]
  },
  {
   "cell_type": "markdown",
   "metadata": {},
   "source": [
    "To test it, I'll use metrics from the confusion matrix for all defendants."
   ]
  },
  {
   "cell_type": "code",
   "execution_count": 14,
   "metadata": {},
   "outputs": [
    {
     "data": {
      "text/html": [
       "<div>\n",
       "<style scoped>\n",
       "    .dataframe tbody tr th:only-of-type {\n",
       "        vertical-align: middle;\n",
       "    }\n",
       "\n",
       "    .dataframe tbody tr th {\n",
       "        vertical-align: top;\n",
       "    }\n",
       "\n",
       "    .dataframe thead th {\n",
       "        text-align: right;\n",
       "    }\n",
       "</style>\n",
       "<table border=\"1\" class=\"dataframe\">\n",
       "  <thead>\n",
       "    <tr style=\"text-align: right;\">\n",
       "      <th></th>\n",
       "      <th>Percent</th>\n",
       "    </tr>\n",
       "    <tr>\n",
       "      <th>All defendants</th>\n",
       "      <th></th>\n",
       "    </tr>\n",
       "  </thead>\n",
       "  <tbody>\n",
       "    <tr>\n",
       "      <th>FPR</th>\n",
       "      <td>32.3</td>\n",
       "    </tr>\n",
       "    <tr>\n",
       "      <th>FNR</th>\n",
       "      <td>37.4</td>\n",
       "    </tr>\n",
       "    <tr>\n",
       "      <th>PPV</th>\n",
       "      <td>61.4</td>\n",
       "    </tr>\n",
       "    <tr>\n",
       "      <th>NPV</th>\n",
       "      <td>68.8</td>\n",
       "    </tr>\n",
       "    <tr>\n",
       "      <th>Prevalence</th>\n",
       "      <td>45.1</td>\n",
       "    </tr>\n",
       "  </tbody>\n",
       "</table>\n",
       "</div>"
      ],
      "text/plain": [
       "                Percent\n",
       "All defendants         \n",
       "FPR                32.3\n",
       "FNR                37.4\n",
       "PPV                61.4\n",
       "NPV                68.8\n",
       "Prevalence         45.1"
      ]
     },
     "execution_count": 14,
     "metadata": {},
     "output_type": "execute_result"
    },
    {
     "data": {
      "application/javascript": [
       "\n",
       "            setTimeout(function() {\n",
       "                var nbb_cell_id = 14;\n",
       "                var nbb_unformatted_code = \"from utils import make_matrix\\nfrom utils import compute_metrics\\n\\nmatrix_all = make_matrix(cp)\\nmetrics_all = compute_metrics(matrix_all, \\\"All defendants\\\")\\nmetrics_all\";\n",
       "                var nbb_formatted_code = \"from utils import make_matrix\\nfrom utils import compute_metrics\\n\\nmatrix_all = make_matrix(cp)\\nmetrics_all = compute_metrics(matrix_all, \\\"All defendants\\\")\\nmetrics_all\";\n",
       "                var nbb_cells = Jupyter.notebook.get_cells();\n",
       "                for (var i = 0; i < nbb_cells.length; ++i) {\n",
       "                    if (nbb_cells[i].input_prompt_number == nbb_cell_id) {\n",
       "                        if (nbb_cells[i].get_text() == nbb_unformatted_code) {\n",
       "                             nbb_cells[i].set_text(nbb_formatted_code);\n",
       "                        }\n",
       "                        break;\n",
       "                    }\n",
       "                }\n",
       "            }, 500);\n",
       "            "
      ],
      "text/plain": [
       "<IPython.core.display.Javascript object>"
      ]
     },
     "metadata": {},
     "output_type": "display_data"
    }
   ],
   "source": [
    "from utils import make_matrix\n",
    "from utils import compute_metrics\n",
    "\n",
    "matrix_all = make_matrix(cp)\n",
    "metrics_all = compute_metrics(matrix_all, \"All defendants\")\n",
    "metrics_all"
   ]
  },
  {
   "cell_type": "markdown",
   "metadata": {},
   "source": [
    "I'll extract PPV, NPV, and prevalence."
   ]
  },
  {
   "cell_type": "code",
   "execution_count": 15,
   "metadata": {},
   "outputs": [
    {
     "data": {
      "application/javascript": [
       "\n",
       "            setTimeout(function() {\n",
       "                var nbb_cell_id = 15;\n",
       "                var nbb_unformatted_code = \"from utils import predictive_value\\nfrom utils import prevalence\\n\\nppv, npv = predictive_value(matrix_all)\\nprev = prevalence(matrix_all)\";\n",
       "                var nbb_formatted_code = \"from utils import predictive_value\\nfrom utils import prevalence\\n\\nppv, npv = predictive_value(matrix_all)\\nprev = prevalence(matrix_all)\";\n",
       "                var nbb_cells = Jupyter.notebook.get_cells();\n",
       "                for (var i = 0; i < nbb_cells.length; ++i) {\n",
       "                    if (nbb_cells[i].input_prompt_number == nbb_cell_id) {\n",
       "                        if (nbb_cells[i].get_text() == nbb_unformatted_code) {\n",
       "                             nbb_cells[i].set_text(nbb_formatted_code);\n",
       "                        }\n",
       "                        break;\n",
       "                    }\n",
       "                }\n",
       "            }, 500);\n",
       "            "
      ],
      "text/plain": [
       "<IPython.core.display.Javascript object>"
      ]
     },
     "metadata": {},
     "output_type": "display_data"
    }
   ],
   "source": [
    "from utils import predictive_value\n",
    "from utils import prevalence\n",
    "\n",
    "ppv, npv = predictive_value(matrix_all)\n",
    "prev = prevalence(matrix_all)"
   ]
  },
  {
   "cell_type": "markdown",
   "metadata": {},
   "source": [
    "Given those values, we can reconstruct the confusion matrix and compute the metrics again."
   ]
  },
  {
   "cell_type": "code",
   "execution_count": 16,
   "metadata": {},
   "outputs": [
    {
     "data": {
      "text/html": [
       "<div>\n",
       "<style scoped>\n",
       "    .dataframe tbody tr th:only-of-type {\n",
       "        vertical-align: middle;\n",
       "    }\n",
       "\n",
       "    .dataframe tbody tr th {\n",
       "        vertical-align: top;\n",
       "    }\n",
       "\n",
       "    .dataframe thead th {\n",
       "        text-align: right;\n",
       "    }\n",
       "</style>\n",
       "<table border=\"1\" class=\"dataframe\">\n",
       "  <thead>\n",
       "    <tr style=\"text-align: right;\">\n",
       "      <th></th>\n",
       "      <th>Percent</th>\n",
       "    </tr>\n",
       "    <tr>\n",
       "      <th></th>\n",
       "      <th></th>\n",
       "    </tr>\n",
       "  </thead>\n",
       "  <tbody>\n",
       "    <tr>\n",
       "      <th>FPR</th>\n",
       "      <td>31.2</td>\n",
       "    </tr>\n",
       "    <tr>\n",
       "      <th>FNR</th>\n",
       "      <td>38.6</td>\n",
       "    </tr>\n",
       "    <tr>\n",
       "      <th>PPV</th>\n",
       "      <td>62.6</td>\n",
       "    </tr>\n",
       "    <tr>\n",
       "      <th>NPV</th>\n",
       "      <td>67.7</td>\n",
       "    </tr>\n",
       "    <tr>\n",
       "      <th>Prevalence</th>\n",
       "      <td>46.0</td>\n",
       "    </tr>\n",
       "  </tbody>\n",
       "</table>\n",
       "</div>"
      ],
      "text/plain": [
       "            Percent\n",
       "                   \n",
       "FPR            31.2\n",
       "FNR            38.6\n",
       "PPV            62.6\n",
       "NPV            67.7\n",
       "Prevalence     46.0"
      ]
     },
     "execution_count": 16,
     "metadata": {},
     "output_type": "execute_result"
    },
    {
     "data": {
      "application/javascript": [
       "\n",
       "            setTimeout(function() {\n",
       "                var nbb_cell_id = 16;\n",
       "                var nbb_unformatted_code = \"matrix = constant_predictive_value(ppv, npv, prev)\\nmetrics_pred = compute_metrics(matrix)\\nmetrics_pred\";\n",
       "                var nbb_formatted_code = \"matrix = constant_predictive_value(ppv, npv, prev)\\nmetrics_pred = compute_metrics(matrix)\\nmetrics_pred\";\n",
       "                var nbb_cells = Jupyter.notebook.get_cells();\n",
       "                for (var i = 0; i < nbb_cells.length; ++i) {\n",
       "                    if (nbb_cells[i].input_prompt_number == nbb_cell_id) {\n",
       "                        if (nbb_cells[i].get_text() == nbb_unformatted_code) {\n",
       "                             nbb_cells[i].set_text(nbb_formatted_code);\n",
       "                        }\n",
       "                        break;\n",
       "                    }\n",
       "                }\n",
       "            }, 500);\n",
       "            "
      ],
      "text/plain": [
       "<IPython.core.display.Javascript object>"
      ]
     },
     "metadata": {},
     "output_type": "display_data"
    }
   ],
   "source": [
    "matrix = constant_predictive_value(ppv, npv, prev)\n",
    "metrics_pred = compute_metrics(matrix)\n",
    "metrics_pred"
   ]
  },
  {
   "cell_type": "markdown",
   "metadata": {},
   "source": [
    "These \"predicted metrics\" are the same as the actual metrics, except for small errors due to floating-point approximation."
   ]
  },
  {
   "cell_type": "code",
   "execution_count": 17,
   "metadata": {},
   "outputs": [
    {
     "data": {
      "text/html": [
       "<div>\n",
       "<style scoped>\n",
       "    .dataframe tbody tr th:only-of-type {\n",
       "        vertical-align: middle;\n",
       "    }\n",
       "\n",
       "    .dataframe tbody tr th {\n",
       "        vertical-align: top;\n",
       "    }\n",
       "\n",
       "    .dataframe thead th {\n",
       "        text-align: right;\n",
       "    }\n",
       "</style>\n",
       "<table border=\"1\" class=\"dataframe\">\n",
       "  <thead>\n",
       "    <tr style=\"text-align: right;\">\n",
       "      <th></th>\n",
       "      <th>Percent</th>\n",
       "    </tr>\n",
       "    <tr>\n",
       "      <th></th>\n",
       "      <th></th>\n",
       "    </tr>\n",
       "  </thead>\n",
       "  <tbody>\n",
       "    <tr>\n",
       "      <th>FPR</th>\n",
       "      <td>-1.1</td>\n",
       "    </tr>\n",
       "    <tr>\n",
       "      <th>FNR</th>\n",
       "      <td>1.2</td>\n",
       "    </tr>\n",
       "    <tr>\n",
       "      <th>PPV</th>\n",
       "      <td>1.2</td>\n",
       "    </tr>\n",
       "    <tr>\n",
       "      <th>NPV</th>\n",
       "      <td>-1.1</td>\n",
       "    </tr>\n",
       "    <tr>\n",
       "      <th>Prevalence</th>\n",
       "      <td>0.9</td>\n",
       "    </tr>\n",
       "  </tbody>\n",
       "</table>\n",
       "</div>"
      ],
      "text/plain": [
       "            Percent\n",
       "                   \n",
       "FPR            -1.1\n",
       "FNR             1.2\n",
       "PPV             1.2\n",
       "NPV            -1.1\n",
       "Prevalence      0.9"
      ]
     },
     "execution_count": 17,
     "metadata": {},
     "output_type": "execute_result"
    },
    {
     "data": {
      "application/javascript": [
       "\n",
       "            setTimeout(function() {\n",
       "                var nbb_cell_id = 17;\n",
       "                var nbb_unformatted_code = \"metrics_pred - metrics_all\";\n",
       "                var nbb_formatted_code = \"metrics_pred - metrics_all\";\n",
       "                var nbb_cells = Jupyter.notebook.get_cells();\n",
       "                for (var i = 0; i < nbb_cells.length; ++i) {\n",
       "                    if (nbb_cells[i].input_prompt_number == nbb_cell_id) {\n",
       "                        if (nbb_cells[i].get_text() == nbb_unformatted_code) {\n",
       "                             nbb_cells[i].set_text(nbb_formatted_code);\n",
       "                        }\n",
       "                        break;\n",
       "                    }\n",
       "                }\n",
       "            }, 500);\n",
       "            "
      ],
      "text/plain": [
       "<IPython.core.display.Javascript object>"
      ]
     },
     "metadata": {},
     "output_type": "display_data"
    }
   ],
   "source": [
    "metrics_pred - metrics_all"
   ]
  },
  {
   "cell_type": "markdown",
   "metadata": {},
   "source": [
    "So that confirms that we can use PPV, NPV and prevalence to compute FPR and FNR.\n",
    "\n",
    "Now let's see what happens if we hold PPV and NPV constant, and vary prevalence. "
   ]
  },
  {
   "cell_type": "markdown",
   "metadata": {},
   "source": [
    "## The constant predictive value model\n",
    "\n",
    "To show these effects more clearly, I'll sweep through a range of prevalences and plot the error rates we get if we hold predictive values constant."
   ]
  },
  {
   "cell_type": "code",
   "execution_count": 18,
   "metadata": {},
   "outputs": [
    {
     "data": {
      "application/javascript": [
       "\n",
       "            setTimeout(function() {\n",
       "                var nbb_cell_id = 18;\n",
       "                var nbb_unformatted_code = \"from utils import error_rates\\n\\n\\ndef run_cpv_model(cp):\\n    \\\"\\\"\\\"Run the constant predictive value model.\\n\\n    cp: DataFrame of COMPAS data\\n\\n    returns: DataFrame with a row for each prevalence and\\n             a column for each metric (FPR, FNR)\\n    \\\"\\\"\\\"\\n    matrix_all = make_matrix(cp)\\n\\n    ppv, npv = predictive_value(matrix_all)\\n    prevalences = np.linspace(35, 55, 11)\\n\\n    pred_er = pd.DataFrame(columns=[\\\"fpr\\\", \\\"fnr\\\"])\\n\\n    for prev in prevalences:\\n        m = constant_predictive_value(ppv, npv, prev)\\n        pred_er.loc[prev] = error_rates(m)\\n\\n    return pred_er\";\n",
       "                var nbb_formatted_code = \"from utils import error_rates\\n\\n\\ndef run_cpv_model(cp):\\n    \\\"\\\"\\\"Run the constant predictive value model.\\n\\n    cp: DataFrame of COMPAS data\\n\\n    returns: DataFrame with a row for each prevalence and\\n             a column for each metric (FPR, FNR)\\n    \\\"\\\"\\\"\\n    matrix_all = make_matrix(cp)\\n\\n    ppv, npv = predictive_value(matrix_all)\\n    prevalences = np.linspace(35, 55, 11)\\n\\n    pred_er = pd.DataFrame(columns=[\\\"fpr\\\", \\\"fnr\\\"])\\n\\n    for prev in prevalences:\\n        m = constant_predictive_value(ppv, npv, prev)\\n        pred_er.loc[prev] = error_rates(m)\\n\\n    return pred_er\";\n",
       "                var nbb_cells = Jupyter.notebook.get_cells();\n",
       "                for (var i = 0; i < nbb_cells.length; ++i) {\n",
       "                    if (nbb_cells[i].input_prompt_number == nbb_cell_id) {\n",
       "                        if (nbb_cells[i].get_text() == nbb_unformatted_code) {\n",
       "                             nbb_cells[i].set_text(nbb_formatted_code);\n",
       "                        }\n",
       "                        break;\n",
       "                    }\n",
       "                }\n",
       "            }, 500);\n",
       "            "
      ],
      "text/plain": [
       "<IPython.core.display.Javascript object>"
      ]
     },
     "metadata": {},
     "output_type": "display_data"
    }
   ],
   "source": [
    "from utils import error_rates\n",
    "\n",
    "\n",
    "def run_cpv_model(cp):\n",
    "    \"\"\"Run the constant predictive value model.\n",
    "\n",
    "    cp: DataFrame of COMPAS data\n",
    "\n",
    "    returns: DataFrame with a row for each prevalence and\n",
    "             a column for each metric (FPR, FNR)\n",
    "    \"\"\"\n",
    "    matrix_all = make_matrix(cp)\n",
    "\n",
    "    ppv, npv = predictive_value(matrix_all)\n",
    "    prevalences = np.linspace(35, 55, 11)\n",
    "\n",
    "    pred_er = pd.DataFrame(columns=[\"fpr\", \"fnr\"])\n",
    "\n",
    "    for prev in prevalences:\n",
    "        m = constant_predictive_value(ppv, npv, prev)\n",
    "        pred_er.loc[prev] = error_rates(m)\n",
    "\n",
    "    return pred_er"
   ]
  },
  {
   "cell_type": "code",
   "execution_count": 19,
   "metadata": {},
   "outputs": [
    {
     "data": {
      "text/html": [
       "<div>\n",
       "<style scoped>\n",
       "    .dataframe tbody tr th:only-of-type {\n",
       "        vertical-align: middle;\n",
       "    }\n",
       "\n",
       "    .dataframe tbody tr th {\n",
       "        vertical-align: top;\n",
       "    }\n",
       "\n",
       "    .dataframe thead th {\n",
       "        text-align: right;\n",
       "    }\n",
       "</style>\n",
       "<table border=\"1\" class=\"dataframe\">\n",
       "  <thead>\n",
       "    <tr style=\"text-align: right;\">\n",
       "      <th></th>\n",
       "      <th>fpr</th>\n",
       "      <th>fnr</th>\n",
       "    </tr>\n",
       "  </thead>\n",
       "  <tbody>\n",
       "    <tr>\n",
       "      <th>35.0</th>\n",
       "      <td>31.20349</td>\n",
       "      <td>38.649382</td>\n",
       "    </tr>\n",
       "    <tr>\n",
       "      <th>37.0</th>\n",
       "      <td>31.20349</td>\n",
       "      <td>38.649382</td>\n",
       "    </tr>\n",
       "    <tr>\n",
       "      <th>39.0</th>\n",
       "      <td>31.20349</td>\n",
       "      <td>38.649382</td>\n",
       "    </tr>\n",
       "    <tr>\n",
       "      <th>41.0</th>\n",
       "      <td>31.20349</td>\n",
       "      <td>38.649382</td>\n",
       "    </tr>\n",
       "    <tr>\n",
       "      <th>43.0</th>\n",
       "      <td>31.20349</td>\n",
       "      <td>38.649382</td>\n",
       "    </tr>\n",
       "    <tr>\n",
       "      <th>45.0</th>\n",
       "      <td>31.20349</td>\n",
       "      <td>38.649382</td>\n",
       "    </tr>\n",
       "    <tr>\n",
       "      <th>47.0</th>\n",
       "      <td>31.20349</td>\n",
       "      <td>38.649382</td>\n",
       "    </tr>\n",
       "    <tr>\n",
       "      <th>49.0</th>\n",
       "      <td>31.20349</td>\n",
       "      <td>38.649382</td>\n",
       "    </tr>\n",
       "    <tr>\n",
       "      <th>51.0</th>\n",
       "      <td>31.20349</td>\n",
       "      <td>38.649382</td>\n",
       "    </tr>\n",
       "    <tr>\n",
       "      <th>53.0</th>\n",
       "      <td>31.20349</td>\n",
       "      <td>38.649382</td>\n",
       "    </tr>\n",
       "    <tr>\n",
       "      <th>55.0</th>\n",
       "      <td>31.20349</td>\n",
       "      <td>38.649382</td>\n",
       "    </tr>\n",
       "  </tbody>\n",
       "</table>\n",
       "</div>"
      ],
      "text/plain": [
       "           fpr        fnr\n",
       "35.0  31.20349  38.649382\n",
       "37.0  31.20349  38.649382\n",
       "39.0  31.20349  38.649382\n",
       "41.0  31.20349  38.649382\n",
       "43.0  31.20349  38.649382\n",
       "45.0  31.20349  38.649382\n",
       "47.0  31.20349  38.649382\n",
       "49.0  31.20349  38.649382\n",
       "51.0  31.20349  38.649382\n",
       "53.0  31.20349  38.649382\n",
       "55.0  31.20349  38.649382"
      ]
     },
     "execution_count": 19,
     "metadata": {},
     "output_type": "execute_result"
    },
    {
     "data": {
      "application/javascript": [
       "\n",
       "            setTimeout(function() {\n",
       "                var nbb_cell_id = 19;\n",
       "                var nbb_unformatted_code = \"pred_er = run_cpv_model(cp)\\npred_er\";\n",
       "                var nbb_formatted_code = \"pred_er = run_cpv_model(cp)\\npred_er\";\n",
       "                var nbb_cells = Jupyter.notebook.get_cells();\n",
       "                for (var i = 0; i < nbb_cells.length; ++i) {\n",
       "                    if (nbb_cells[i].input_prompt_number == nbb_cell_id) {\n",
       "                        if (nbb_cells[i].get_text() == nbb_unformatted_code) {\n",
       "                             nbb_cells[i].set_text(nbb_formatted_code);\n",
       "                        }\n",
       "                        break;\n",
       "                    }\n",
       "                }\n",
       "            }, 500);\n",
       "            "
      ],
      "text/plain": [
       "<IPython.core.display.Javascript object>"
      ]
     },
     "metadata": {},
     "output_type": "display_data"
    }
   ],
   "source": [
    "pred_er = run_cpv_model(cp)\n",
    "pred_er"
   ]
  },
  {
   "cell_type": "markdown",
   "metadata": {},
   "source": [
    "The following figure shows the error rates we would expect from a test with equal predictive value for all groups, regardless of prevalence."
   ]
  },
  {
   "cell_type": "code",
   "execution_count": 20,
   "metadata": {},
   "outputs": [
    {
     "data": {
      "application/javascript": [
       "\n",
       "            setTimeout(function() {\n",
       "                var nbb_cell_id = 20;\n",
       "                var nbb_unformatted_code = \"import matplotlib.pyplot as plt\\nfrom utils import decorate\\n\\n\\ndef plot_cpv_model(pred_er):\\n    \\\"\\\"\\\"Plot error rates with constant predictive values.\\n\\n    pred_er: DataFrame of predicted error rates\\n    \\\"\\\"\\\"\\n    pred_er[\\\"fpr\\\"].plot(label=\\\"Predicted FPR\\\", color=\\\"C2\\\")\\n    pred_er[\\\"fnr\\\"].plot(label=\\\"Predicted FNR\\\", color=\\\"C4\\\")\\n    decorate(\\n        xlabel=\\\"Prevalence\\\",\\n        ylabel=\\\"Percent\\\",\\n        title=\\\"Error rates, constant predictive value\\\",\\n    )\";\n",
       "                var nbb_formatted_code = \"import matplotlib.pyplot as plt\\nfrom utils import decorate\\n\\n\\ndef plot_cpv_model(pred_er):\\n    \\\"\\\"\\\"Plot error rates with constant predictive values.\\n\\n    pred_er: DataFrame of predicted error rates\\n    \\\"\\\"\\\"\\n    pred_er[\\\"fpr\\\"].plot(label=\\\"Predicted FPR\\\", color=\\\"C2\\\")\\n    pred_er[\\\"fnr\\\"].plot(label=\\\"Predicted FNR\\\", color=\\\"C4\\\")\\n    decorate(\\n        xlabel=\\\"Prevalence\\\",\\n        ylabel=\\\"Percent\\\",\\n        title=\\\"Error rates, constant predictive value\\\",\\n    )\";\n",
       "                var nbb_cells = Jupyter.notebook.get_cells();\n",
       "                for (var i = 0; i < nbb_cells.length; ++i) {\n",
       "                    if (nbb_cells[i].input_prompt_number == nbb_cell_id) {\n",
       "                        if (nbb_cells[i].get_text() == nbb_unformatted_code) {\n",
       "                             nbb_cells[i].set_text(nbb_formatted_code);\n",
       "                        }\n",
       "                        break;\n",
       "                    }\n",
       "                }\n",
       "            }, 500);\n",
       "            "
      ],
      "text/plain": [
       "<IPython.core.display.Javascript object>"
      ]
     },
     "metadata": {},
     "output_type": "display_data"
    }
   ],
   "source": [
    "import matplotlib.pyplot as plt\n",
    "from utils import decorate\n",
    "\n",
    "\n",
    "def plot_cpv_model(pred_er):\n",
    "    \"\"\"Plot error rates with constant predictive values.\n",
    "\n",
    "    pred_er: DataFrame of predicted error rates\n",
    "    \"\"\"\n",
    "    pred_er[\"fpr\"].plot(label=\"Predicted FPR\", color=\"C2\")\n",
    "    pred_er[\"fnr\"].plot(label=\"Predicted FNR\", color=\"C4\")\n",
    "    decorate(\n",
    "        xlabel=\"Prevalence\",\n",
    "        ylabel=\"Percent\",\n",
    "        title=\"Error rates, constant predictive value\",\n",
    "    )"
   ]
  },
  {
   "cell_type": "code",
   "execution_count": 21,
   "metadata": {},
   "outputs": [
    {
     "data": {
      "image/png": "[encoded data removed]",
      "text/plain": [
       "<Figure size 640x480 with 1 Axes>"
      ]
     },
     "metadata": {},
     "output_type": "display_data"
    },
    {
     "data": {
      "application/javascript": [
       "\n",
       "            setTimeout(function() {\n",
       "                var nbb_cell_id = 21;\n",
       "                var nbb_unformatted_code = \"plot_cpv_model(pred_er)\";\n",
       "                var nbb_formatted_code = \"plot_cpv_model(pred_er)\";\n",
       "                var nbb_cells = Jupyter.notebook.get_cells();\n",
       "                for (var i = 0; i < nbb_cells.length; ++i) {\n",
       "                    if (nbb_cells[i].input_prompt_number == nbb_cell_id) {\n",
       "                        if (nbb_cells[i].get_text() == nbb_unformatted_code) {\n",
       "                             nbb_cells[i].set_text(nbb_formatted_code);\n",
       "                        }\n",
       "                        break;\n",
       "                    }\n",
       "                }\n",
       "            }, 500);\n",
       "            "
      ],
      "text/plain": [
       "<IPython.core.display.Javascript object>"
      ]
     },
     "metadata": {},
     "output_type": "display_data"
    }
   ],
   "source": [
    "plot_cpv_model(pred_er)"
   ]
  },
  {
   "cell_type": "markdown",
   "metadata": {},
   "source": [
    "As prevalence increases, FPR increases and FNR decreases.  Note the vertical scale: the difference in error rates between a low-prevalence group and a high-prevalence group is dramatic!\n",
    "\n",
    "For the COMPAS test, the effect is not as extreme.  The following loop computes the actual error rates for white, black, and all defendants."
   ]
  },
  {
   "cell_type": "code",
   "execution_count": 22,
   "metadata": {},
   "outputs": [
    {
     "data": {
      "application/javascript": [
       "\n",
       "            setTimeout(function() {\n",
       "                var nbb_cell_id = 22;\n",
       "                var nbb_unformatted_code = \"black = cp[\\\"race\\\"] == \\\"African-American\\\"\\nmatrix_black = make_matrix(cp[black])\";\n",
       "                var nbb_formatted_code = \"black = cp[\\\"race\\\"] == \\\"African-American\\\"\\nmatrix_black = make_matrix(cp[black])\";\n",
       "                var nbb_cells = Jupyter.notebook.get_cells();\n",
       "                for (var i = 0; i < nbb_cells.length; ++i) {\n",
       "                    if (nbb_cells[i].input_prompt_number == nbb_cell_id) {\n",
       "                        if (nbb_cells[i].get_text() == nbb_unformatted_code) {\n",
       "                             nbb_cells[i].set_text(nbb_formatted_code);\n",
       "                        }\n",
       "                        break;\n",
       "                    }\n",
       "                }\n",
       "            }, 500);\n",
       "            "
      ],
      "text/plain": [
       "<IPython.core.display.Javascript object>"
      ]
     },
     "metadata": {},
     "output_type": "display_data"
    }
   ],
   "source": [
    "black = cp[\"race\"] == \"African-American\"\n",
    "matrix_black = make_matrix(cp[black])"
   ]
  },
  {
   "cell_type": "code",
   "execution_count": 23,
   "metadata": {},
   "outputs": [
    {
     "data": {
      "application/javascript": [
       "\n",
       "            setTimeout(function() {\n",
       "                var nbb_cell_id = 23;\n",
       "                var nbb_unformatted_code = \"white = cp[\\\"race\\\"] == \\\"Caucasian\\\"\\nmatrix_white = make_matrix(cp[white])\";\n",
       "                var nbb_formatted_code = \"white = cp[\\\"race\\\"] == \\\"Caucasian\\\"\\nmatrix_white = make_matrix(cp[white])\";\n",
       "                var nbb_cells = Jupyter.notebook.get_cells();\n",
       "                for (var i = 0; i < nbb_cells.length; ++i) {\n",
       "                    if (nbb_cells[i].input_prompt_number == nbb_cell_id) {\n",
       "                        if (nbb_cells[i].get_text() == nbb_unformatted_code) {\n",
       "                             nbb_cells[i].set_text(nbb_formatted_code);\n",
       "                        }\n",
       "                        break;\n",
       "                    }\n",
       "                }\n",
       "            }, 500);\n",
       "            "
      ],
      "text/plain": [
       "<IPython.core.display.Javascript object>"
      ]
     },
     "metadata": {},
     "output_type": "display_data"
    }
   ],
   "source": [
    "white = cp[\"race\"] == \"Caucasian\"\n",
    "matrix_white = make_matrix(cp[white])"
   ]
  },
  {
   "cell_type": "markdown",
   "metadata": {},
   "source": [
    "When prevalence is lower, the false positive rate is higher and the false negative rate lower."
   ]
  },
  {
   "cell_type": "code",
   "execution_count": 24,
   "metadata": {},
   "outputs": [
    {
     "data": {
      "text/html": [
       "<div>\n",
       "<style scoped>\n",
       "    .dataframe tbody tr th:only-of-type {\n",
       "        vertical-align: middle;\n",
       "    }\n",
       "\n",
       "    .dataframe tbody tr th {\n",
       "        vertical-align: top;\n",
       "    }\n",
       "\n",
       "    .dataframe thead th {\n",
       "        text-align: right;\n",
       "    }\n",
       "</style>\n",
       "<table border=\"1\" class=\"dataframe\">\n",
       "  <thead>\n",
       "    <tr style=\"text-align: right;\">\n",
       "      <th></th>\n",
       "      <th>fpr</th>\n",
       "      <th>fnr</th>\n",
       "    </tr>\n",
       "  </thead>\n",
       "  <tbody>\n",
       "    <tr>\n",
       "      <th>39.364303</th>\n",
       "      <td>23.454301</td>\n",
       "      <td>47.722567</td>\n",
       "    </tr>\n",
       "    <tr>\n",
       "      <th>45.065151</th>\n",
       "      <td>32.349230</td>\n",
       "      <td>37.403876</td>\n",
       "    </tr>\n",
       "    <tr>\n",
       "      <th>51.433983</th>\n",
       "      <td>44.846797</td>\n",
       "      <td>27.985271</td>\n",
       "    </tr>\n",
       "  </tbody>\n",
       "</table>\n",
       "</div>"
      ],
      "text/plain": [
       "                 fpr        fnr\n",
       "39.364303  23.454301  47.722567\n",
       "45.065151  32.349230  37.403876\n",
       "51.433983  44.846797  27.985271"
      ]
     },
     "execution_count": 24,
     "metadata": {},
     "output_type": "execute_result"
    },
    {
     "data": {
      "application/javascript": [
       "\n",
       "            setTimeout(function() {\n",
       "                var nbb_cell_id = 24;\n",
       "                var nbb_unformatted_code = \"actual_er = pd.DataFrame(columns=[\\\"fpr\\\", \\\"fnr\\\"])\\n\\nfor m in (matrix_white, matrix_all, matrix_black):\\n    prev = prevalence(m)\\n    actual_er.loc[prev] = error_rates(m)\\n\\nactual_er\";\n",
       "                var nbb_formatted_code = \"actual_er = pd.DataFrame(columns=[\\\"fpr\\\", \\\"fnr\\\"])\\n\\nfor m in (matrix_white, matrix_all, matrix_black):\\n    prev = prevalence(m)\\n    actual_er.loc[prev] = error_rates(m)\\n\\nactual_er\";\n",
       "                var nbb_cells = Jupyter.notebook.get_cells();\n",
       "                for (var i = 0; i < nbb_cells.length; ++i) {\n",
       "                    if (nbb_cells[i].input_prompt_number == nbb_cell_id) {\n",
       "                        if (nbb_cells[i].get_text() == nbb_unformatted_code) {\n",
       "                             nbb_cells[i].set_text(nbb_formatted_code);\n",
       "                        }\n",
       "                        break;\n",
       "                    }\n",
       "                }\n",
       "            }, 500);\n",
       "            "
      ],
      "text/plain": [
       "<IPython.core.display.Javascript object>"
      ]
     },
     "metadata": {},
     "output_type": "display_data"
    }
   ],
   "source": [
    "actual_er = pd.DataFrame(columns=[\"fpr\", \"fnr\"])\n",
    "\n",
    "for m in (matrix_white, matrix_all, matrix_black):\n",
    "    prev = prevalence(m)\n",
    "    actual_er.loc[prev] = error_rates(m)\n",
    "\n",
    "actual_er"
   ]
  },
  {
   "cell_type": "markdown",
   "metadata": {},
   "source": [
    "The following figure shows the actual error rates compared to predictions from the constant predictive value (CPV) model.\n",
    "\n",
    "The data points show error rates for white defendants (left), all defendants (middle), and black defendants (right)."
   ]
  },
  {
   "cell_type": "code",
   "execution_count": 25,
   "metadata": {},
   "outputs": [
    {
     "data": {
      "image/png": "[encoded data removed]",
      "text/plain": [
       "<Figure size 640x480 with 1 Axes>"
      ]
     },
     "metadata": {},
     "output_type": "display_data"
    },
    {
     "data": {
      "application/javascript": [
       "\n",
       "            setTimeout(function() {\n",
       "                var nbb_cell_id = 25;\n",
       "                var nbb_unformatted_code = \"plot_cpv_model(pred_er)\\n\\nactual_er[\\\"fpr\\\"].plot(marker=\\\"o\\\", linestyle=\\\"dotted\\\", color=\\\"C2\\\", label=\\\"COMPAS FPR\\\")\\n\\nactual_er[\\\"fnr\\\"].plot(marker=\\\"o\\\", linestyle=\\\"dotted\\\", color=\\\"C4\\\", label=\\\"COMPAS FNR\\\")\\n\\ndecorate()\";\n",
       "                var nbb_formatted_code = \"plot_cpv_model(pred_er)\\n\\nactual_er[\\\"fpr\\\"].plot(marker=\\\"o\\\", linestyle=\\\"dotted\\\", color=\\\"C2\\\", label=\\\"COMPAS FPR\\\")\\n\\nactual_er[\\\"fnr\\\"].plot(marker=\\\"o\\\", linestyle=\\\"dotted\\\", color=\\\"C4\\\", label=\\\"COMPAS FNR\\\")\\n\\ndecorate()\";\n",
       "                var nbb_cells = Jupyter.notebook.get_cells();\n",
       "                for (var i = 0; i < nbb_cells.length; ++i) {\n",
       "                    if (nbb_cells[i].input_prompt_number == nbb_cell_id) {\n",
       "                        if (nbb_cells[i].get_text() == nbb_unformatted_code) {\n",
       "                             nbb_cells[i].set_text(nbb_formatted_code);\n",
       "                        }\n",
       "                        break;\n",
       "                    }\n",
       "                }\n",
       "            }, 500);\n",
       "            "
      ],
      "text/plain": [
       "<IPython.core.display.Javascript object>"
      ]
     },
     "metadata": {},
     "output_type": "display_data"
    }
   ],
   "source": [
    "plot_cpv_model(pred_er)\n",
    "\n",
    "actual_er[\"fpr\"].plot(marker=\"o\", linestyle=\"dotted\", color=\"C2\", label=\"COMPAS FPR\")\n",
    "\n",
    "actual_er[\"fnr\"].plot(marker=\"o\", linestyle=\"dotted\", color=\"C4\", label=\"COMPAS FNR\")\n",
    "\n",
    "decorate()"
   ]
  },
  {
   "cell_type": "markdown",
   "metadata": {},
   "source": [
    "For the higher-prevalence group:\n",
    "\n",
    "* The actual false positive rate is lower that what we would expect if the test had the same predictive value for all groups.\n",
    "\n",
    "* The actual false negative rate is higher than expected.\n",
    "\n",
    "For the lower-prevalence group:\n",
    "\n",
    "* The actual false positive rate is higher than what we would expect if the test had the same predictive value for all groups.\n",
    "\n",
    "* The actual false negative rate is lower than expected.\n",
    "\n",
    "Relative to the CPV model, the COMPAS test is what I'll call \"tempered\", that is, less sensitive to variation in prevalence between groups."
   ]
  },
  {
   "cell_type": "markdown",
   "metadata": {},
   "source": [
    "## Constant error rate model\n",
    "\n",
    "In the previous section we held predictive value constant and computed the effect on error rates.  In this section we'll go the other way: if we hold error rates constant for all groups, what effect does that have on predictive value?\n",
    "\n",
    "The following function takes prevalence and error rates and returns a confusion matrix.\n",
    "\n"
   ]
  },
  {
   "cell_type": "code",
   "execution_count": 26,
   "metadata": {},
   "outputs": [
    {
     "data": {
      "application/javascript": [
       "\n",
       "            setTimeout(function() {\n",
       "                var nbb_cell_id = 26;\n",
       "                var nbb_unformatted_code = \"def constant_error_rates(fpr, fnr, prev):\\n    \\\"\\\"\\\"Make a confusion matrix with given metrics.\\n\\n    fpr: false positive rate (0 - 100)\\n    fnr: false negative rate (0 - 100)\\n    prev: prevalence (0 - 100)\\n\\n    returns: confusion matrix\\n    \\\"\\\"\\\"\\n    prev /= 100\\n    fpr /= 100\\n    fnr /= 100\\n    a = [[prev * (1 - fnr), fpr * (1 - prev)], [fnr * prev, (fpr - 1) * (prev - 1)]]\\n\\n    return pd.DataFrame(a)\";\n",
       "                var nbb_formatted_code = \"def constant_error_rates(fpr, fnr, prev):\\n    \\\"\\\"\\\"Make a confusion matrix with given metrics.\\n\\n    fpr: false positive rate (0 - 100)\\n    fnr: false negative rate (0 - 100)\\n    prev: prevalence (0 - 100)\\n\\n    returns: confusion matrix\\n    \\\"\\\"\\\"\\n    prev /= 100\\n    fpr /= 100\\n    fnr /= 100\\n    a = [[prev * (1 - fnr), fpr * (1 - prev)], [fnr * prev, (fpr - 1) * (prev - 1)]]\\n\\n    return pd.DataFrame(a)\";\n",
       "                var nbb_cells = Jupyter.notebook.get_cells();\n",
       "                for (var i = 0; i < nbb_cells.length; ++i) {\n",
       "                    if (nbb_cells[i].input_prompt_number == nbb_cell_id) {\n",
       "                        if (nbb_cells[i].get_text() == nbb_unformatted_code) {\n",
       "                             nbb_cells[i].set_text(nbb_formatted_code);\n",
       "                        }\n",
       "                        break;\n",
       "                    }\n",
       "                }\n",
       "            }, 500);\n",
       "            "
      ],
      "text/plain": [
       "<IPython.core.display.Javascript object>"
      ]
     },
     "metadata": {},
     "output_type": "display_data"
    }
   ],
   "source": [
    "def constant_error_rates(fpr, fnr, prev):\n",
    "    \"\"\"Make a confusion matrix with given metrics.\n",
    "\n",
    "    fpr: false positive rate (0 - 100)\n",
    "    fnr: false negative rate (0 - 100)\n",
    "    prev: prevalence (0 - 100)\n",
    "\n",
    "    returns: confusion matrix\n",
    "    \"\"\"\n",
    "    prev /= 100\n",
    "    fpr /= 100\n",
    "    fnr /= 100\n",
    "    a = [[prev * (1 - fnr), fpr * (1 - prev)], [fnr * prev, (fpr - 1) * (prev - 1)]]\n",
    "\n",
    "    return pd.DataFrame(a)"
   ]
  },
  {
   "cell_type": "markdown",
   "metadata": {},
   "source": [
    "To test it, we can extract metrics for all defendants:"
   ]
  },
  {
   "cell_type": "code",
   "execution_count": 27,
   "metadata": {},
   "outputs": [
    {
     "data": {
      "application/javascript": [
       "\n",
       "            setTimeout(function() {\n",
       "                var nbb_cell_id = 27;\n",
       "                var nbb_unformatted_code = \"fpr, fnr = error_rates(matrix_all)\\nprev = prevalence(matrix_all)\";\n",
       "                var nbb_formatted_code = \"fpr, fnr = error_rates(matrix_all)\\nprev = prevalence(matrix_all)\";\n",
       "                var nbb_cells = Jupyter.notebook.get_cells();\n",
       "                for (var i = 0; i < nbb_cells.length; ++i) {\n",
       "                    if (nbb_cells[i].input_prompt_number == nbb_cell_id) {\n",
       "                        if (nbb_cells[i].get_text() == nbb_unformatted_code) {\n",
       "                             nbb_cells[i].set_text(nbb_formatted_code);\n",
       "                        }\n",
       "                        break;\n",
       "                    }\n",
       "                }\n",
       "            }, 500);\n",
       "            "
      ],
      "text/plain": [
       "<IPython.core.display.Javascript object>"
      ]
     },
     "metadata": {},
     "output_type": "display_data"
    }
   ],
   "source": [
    "fpr, fnr = error_rates(matrix_all)\n",
    "prev = prevalence(matrix_all)"
   ]
  },
  {
   "cell_type": "markdown",
   "metadata": {},
   "source": [
    "And use them to compute the other metrics:"
   ]
  },
  {
   "cell_type": "code",
   "execution_count": 28,
   "metadata": {},
   "outputs": [
    {
     "data": {
      "text/html": [
       "<div>\n",
       "<style scoped>\n",
       "    .dataframe tbody tr th:only-of-type {\n",
       "        vertical-align: middle;\n",
       "    }\n",
       "\n",
       "    .dataframe tbody tr th {\n",
       "        vertical-align: top;\n",
       "    }\n",
       "\n",
       "    .dataframe thead th {\n",
       "        text-align: right;\n",
       "    }\n",
       "</style>\n",
       "<table border=\"1\" class=\"dataframe\">\n",
       "  <thead>\n",
       "    <tr style=\"text-align: right;\">\n",
       "      <th></th>\n",
       "      <th>Percent</th>\n",
       "    </tr>\n",
       "    <tr>\n",
       "      <th></th>\n",
       "      <th></th>\n",
       "    </tr>\n",
       "  </thead>\n",
       "  <tbody>\n",
       "    <tr>\n",
       "      <th>FPR</th>\n",
       "      <td>31.2</td>\n",
       "    </tr>\n",
       "    <tr>\n",
       "      <th>FNR</th>\n",
       "      <td>38.6</td>\n",
       "    </tr>\n",
       "    <tr>\n",
       "      <th>PPV</th>\n",
       "      <td>62.6</td>\n",
       "    </tr>\n",
       "    <tr>\n",
       "      <th>NPV</th>\n",
       "      <td>67.7</td>\n",
       "    </tr>\n",
       "    <tr>\n",
       "      <th>Prevalence</th>\n",
       "      <td>46.0</td>\n",
       "    </tr>\n",
       "  </tbody>\n",
       "</table>\n",
       "</div>"
      ],
      "text/plain": [
       "            Percent\n",
       "                   \n",
       "FPR            31.2\n",
       "FNR            38.6\n",
       "PPV            62.6\n",
       "NPV            67.7\n",
       "Prevalence     46.0"
      ]
     },
     "execution_count": 28,
     "metadata": {},
     "output_type": "execute_result"
    },
    {
     "data": {
      "application/javascript": [
       "\n",
       "            setTimeout(function() {\n",
       "                var nbb_cell_id = 28;\n",
       "                var nbb_unformatted_code = \"matrix = constant_error_rates(fpr, fnr, prev)\\nmetrics_pred = compute_metrics(matrix)\\nmetrics_pred\";\n",
       "                var nbb_formatted_code = \"matrix = constant_error_rates(fpr, fnr, prev)\\nmetrics_pred = compute_metrics(matrix)\\nmetrics_pred\";\n",
       "                var nbb_cells = Jupyter.notebook.get_cells();\n",
       "                for (var i = 0; i < nbb_cells.length; ++i) {\n",
       "                    if (nbb_cells[i].input_prompt_number == nbb_cell_id) {\n",
       "                        if (nbb_cells[i].get_text() == nbb_unformatted_code) {\n",
       "                             nbb_cells[i].set_text(nbb_formatted_code);\n",
       "                        }\n",
       "                        break;\n",
       "                    }\n",
       "                }\n",
       "            }, 500);\n",
       "            "
      ],
      "text/plain": [
       "<IPython.core.display.Javascript object>"
      ]
     },
     "metadata": {},
     "output_type": "display_data"
    }
   ],
   "source": [
    "matrix = constant_error_rates(fpr, fnr, prev)\n",
    "metrics_pred = compute_metrics(matrix)\n",
    "metrics_pred"
   ]
  },
  {
   "cell_type": "markdown",
   "metadata": {},
   "source": [
    "These \"predicted metrics\" are the same as the actual metrics, except for small errors due to floating-point approximation."
   ]
  },
  {
   "cell_type": "code",
   "execution_count": 29,
   "metadata": {},
   "outputs": [
    {
     "data": {
      "text/html": [
       "<div>\n",
       "<style scoped>\n",
       "    .dataframe tbody tr th:only-of-type {\n",
       "        vertical-align: middle;\n",
       "    }\n",
       "\n",
       "    .dataframe tbody tr th {\n",
       "        vertical-align: top;\n",
       "    }\n",
       "\n",
       "    .dataframe thead th {\n",
       "        text-align: right;\n",
       "    }\n",
       "</style>\n",
       "<table border=\"1\" class=\"dataframe\">\n",
       "  <thead>\n",
       "    <tr style=\"text-align: right;\">\n",
       "      <th></th>\n",
       "      <th>Percent</th>\n",
       "    </tr>\n",
       "    <tr>\n",
       "      <th></th>\n",
       "      <th></th>\n",
       "    </tr>\n",
       "  </thead>\n",
       "  <tbody>\n",
       "    <tr>\n",
       "      <th>FPR</th>\n",
       "      <td>-1.1</td>\n",
       "    </tr>\n",
       "    <tr>\n",
       "      <th>FNR</th>\n",
       "      <td>1.2</td>\n",
       "    </tr>\n",
       "    <tr>\n",
       "      <th>PPV</th>\n",
       "      <td>1.2</td>\n",
       "    </tr>\n",
       "    <tr>\n",
       "      <th>NPV</th>\n",
       "      <td>-1.1</td>\n",
       "    </tr>\n",
       "    <tr>\n",
       "      <th>Prevalence</th>\n",
       "      <td>0.9</td>\n",
       "    </tr>\n",
       "  </tbody>\n",
       "</table>\n",
       "</div>"
      ],
      "text/plain": [
       "            Percent\n",
       "                   \n",
       "FPR            -1.1\n",
       "FNR             1.2\n",
       "PPV             1.2\n",
       "NPV            -1.1\n",
       "Prevalence      0.9"
      ]
     },
     "execution_count": 29,
     "metadata": {},
     "output_type": "execute_result"
    },
    {
     "data": {
      "application/javascript": [
       "\n",
       "            setTimeout(function() {\n",
       "                var nbb_cell_id = 29;\n",
       "                var nbb_unformatted_code = \"metrics_pred - metrics_all\";\n",
       "                var nbb_formatted_code = \"metrics_pred - metrics_all\";\n",
       "                var nbb_cells = Jupyter.notebook.get_cells();\n",
       "                for (var i = 0; i < nbb_cells.length; ++i) {\n",
       "                    if (nbb_cells[i].input_prompt_number == nbb_cell_id) {\n",
       "                        if (nbb_cells[i].get_text() == nbb_unformatted_code) {\n",
       "                             nbb_cells[i].set_text(nbb_formatted_code);\n",
       "                        }\n",
       "                        break;\n",
       "                    }\n",
       "                }\n",
       "            }, 500);\n",
       "            "
      ],
      "text/plain": [
       "<IPython.core.display.Javascript object>"
      ]
     },
     "metadata": {},
     "output_type": "display_data"
    }
   ],
   "source": [
    "metrics_pred - metrics_all"
   ]
  },
  {
   "cell_type": "markdown",
   "metadata": {},
   "source": [
    "Now we can see how predictive value depends on prevalence (with error rates held constant)."
   ]
  },
  {
   "cell_type": "code",
   "execution_count": 30,
   "metadata": {},
   "outputs": [
    {
     "data": {
      "application/javascript": [
       "\n",
       "            setTimeout(function() {\n",
       "                var nbb_cell_id = 30;\n",
       "                var nbb_unformatted_code = \"def run_cer_model(cp):\\n    \\\"\\\"\\\"Run the constant error rate model.\\n\\n    cp: DataFrame of COMPAS data\\n\\n    returns: DataFrame with a row for each prevalence and\\n             a column for each metric (PPV, NPV)\\n    \\\"\\\"\\\"\\n    matrix_all = make_matrix(cp)\\n\\n    fpr, fnr = error_rates(matrix_all)\\n    prevalences = np.linspace(35, 65, 11)\\n\\n    pred_pv = pd.DataFrame(columns=[\\\"ppv\\\", \\\"npv\\\"])\\n\\n    for prev in prevalences:\\n        m = constant_error_rates(fpr, fnr, prev)\\n        pred_pv.loc[prev] = predictive_value(m)\\n\\n    return pred_pv\";\n",
       "                var nbb_formatted_code = \"def run_cer_model(cp):\\n    \\\"\\\"\\\"Run the constant error rate model.\\n\\n    cp: DataFrame of COMPAS data\\n\\n    returns: DataFrame with a row for each prevalence and\\n             a column for each metric (PPV, NPV)\\n    \\\"\\\"\\\"\\n    matrix_all = make_matrix(cp)\\n\\n    fpr, fnr = error_rates(matrix_all)\\n    prevalences = np.linspace(35, 65, 11)\\n\\n    pred_pv = pd.DataFrame(columns=[\\\"ppv\\\", \\\"npv\\\"])\\n\\n    for prev in prevalences:\\n        m = constant_error_rates(fpr, fnr, prev)\\n        pred_pv.loc[prev] = predictive_value(m)\\n\\n    return pred_pv\";\n",
       "                var nbb_cells = Jupyter.notebook.get_cells();\n",
       "                for (var i = 0; i < nbb_cells.length; ++i) {\n",
       "                    if (nbb_cells[i].input_prompt_number == nbb_cell_id) {\n",
       "                        if (nbb_cells[i].get_text() == nbb_unformatted_code) {\n",
       "                             nbb_cells[i].set_text(nbb_formatted_code);\n",
       "                        }\n",
       "                        break;\n",
       "                    }\n",
       "                }\n",
       "            }, 500);\n",
       "            "
      ],
      "text/plain": [
       "<IPython.core.display.Javascript object>"
      ]
     },
     "metadata": {},
     "output_type": "display_data"
    }
   ],
   "source": [
    "def run_cer_model(cp):\n",
    "    \"\"\"Run the constant error rate model.\n",
    "\n",
    "    cp: DataFrame of COMPAS data\n",
    "\n",
    "    returns: DataFrame with a row for each prevalence and\n",
    "             a column for each metric (PPV, NPV)\n",
    "    \"\"\"\n",
    "    matrix_all = make_matrix(cp)\n",
    "\n",
    "    fpr, fnr = error_rates(matrix_all)\n",
    "    prevalences = np.linspace(35, 65, 11)\n",
    "\n",
    "    pred_pv = pd.DataFrame(columns=[\"ppv\", \"npv\"])\n",
    "\n",
    "    for prev in prevalences:\n",
    "        m = constant_error_rates(fpr, fnr, prev)\n",
    "        pred_pv.loc[prev] = predictive_value(m)\n",
    "\n",
    "    return pred_pv"
   ]
  },
  {
   "cell_type": "code",
   "execution_count": 31,
   "metadata": {},
   "outputs": [
    {
     "data": {
      "text/html": [
       "<div>\n",
       "<style scoped>\n",
       "    .dataframe tbody tr th:only-of-type {\n",
       "        vertical-align: middle;\n",
       "    }\n",
       "\n",
       "    .dataframe tbody tr th {\n",
       "        vertical-align: top;\n",
       "    }\n",
       "\n",
       "    .dataframe thead th {\n",
       "        text-align: right;\n",
       "    }\n",
       "</style>\n",
       "<table border=\"1\" class=\"dataframe\">\n",
       "  <thead>\n",
       "    <tr style=\"text-align: right;\">\n",
       "      <th></th>\n",
       "      <th>ppv</th>\n",
       "      <th>npv</th>\n",
       "    </tr>\n",
       "  </thead>\n",
       "  <tbody>\n",
       "    <tr>\n",
       "      <th>35.0</th>\n",
       "      <td>62.596124</td>\n",
       "      <td>67.65077</td>\n",
       "    </tr>\n",
       "    <tr>\n",
       "      <th>38.0</th>\n",
       "      <td>62.596124</td>\n",
       "      <td>67.65077</td>\n",
       "    </tr>\n",
       "    <tr>\n",
       "      <th>41.0</th>\n",
       "      <td>62.596124</td>\n",
       "      <td>67.65077</td>\n",
       "    </tr>\n",
       "    <tr>\n",
       "      <th>44.0</th>\n",
       "      <td>62.596124</td>\n",
       "      <td>67.65077</td>\n",
       "    </tr>\n",
       "    <tr>\n",
       "      <th>47.0</th>\n",
       "      <td>62.596124</td>\n",
       "      <td>67.65077</td>\n",
       "    </tr>\n",
       "    <tr>\n",
       "      <th>50.0</th>\n",
       "      <td>62.596124</td>\n",
       "      <td>67.65077</td>\n",
       "    </tr>\n",
       "    <tr>\n",
       "      <th>53.0</th>\n",
       "      <td>62.596124</td>\n",
       "      <td>67.65077</td>\n",
       "    </tr>\n",
       "    <tr>\n",
       "      <th>56.0</th>\n",
       "      <td>62.596124</td>\n",
       "      <td>67.65077</td>\n",
       "    </tr>\n",
       "    <tr>\n",
       "      <th>59.0</th>\n",
       "      <td>62.596124</td>\n",
       "      <td>67.65077</td>\n",
       "    </tr>\n",
       "    <tr>\n",
       "      <th>62.0</th>\n",
       "      <td>62.596124</td>\n",
       "      <td>67.65077</td>\n",
       "    </tr>\n",
       "    <tr>\n",
       "      <th>65.0</th>\n",
       "      <td>62.596124</td>\n",
       "      <td>67.65077</td>\n",
       "    </tr>\n",
       "  </tbody>\n",
       "</table>\n",
       "</div>"
      ],
      "text/plain": [
       "            ppv       npv\n",
       "35.0  62.596124  67.65077\n",
       "38.0  62.596124  67.65077\n",
       "41.0  62.596124  67.65077\n",
       "44.0  62.596124  67.65077\n",
       "47.0  62.596124  67.65077\n",
       "50.0  62.596124  67.65077\n",
       "53.0  62.596124  67.65077\n",
       "56.0  62.596124  67.65077\n",
       "59.0  62.596124  67.65077\n",
       "62.0  62.596124  67.65077\n",
       "65.0  62.596124  67.65077"
      ]
     },
     "execution_count": 31,
     "metadata": {},
     "output_type": "execute_result"
    },
    {
     "data": {
      "application/javascript": [
       "\n",
       "            setTimeout(function() {\n",
       "                var nbb_cell_id = 31;\n",
       "                var nbb_unformatted_code = \"pred_pv = run_cer_model(cp)\\npred_pv\";\n",
       "                var nbb_formatted_code = \"pred_pv = run_cer_model(cp)\\npred_pv\";\n",
       "                var nbb_cells = Jupyter.notebook.get_cells();\n",
       "                for (var i = 0; i < nbb_cells.length; ++i) {\n",
       "                    if (nbb_cells[i].input_prompt_number == nbb_cell_id) {\n",
       "                        if (nbb_cells[i].get_text() == nbb_unformatted_code) {\n",
       "                             nbb_cells[i].set_text(nbb_formatted_code);\n",
       "                        }\n",
       "                        break;\n",
       "                    }\n",
       "                }\n",
       "            }, 500);\n",
       "            "
      ],
      "text/plain": [
       "<IPython.core.display.Javascript object>"
      ]
     },
     "metadata": {},
     "output_type": "display_data"
    }
   ],
   "source": [
    "pred_pv = run_cer_model(cp)\n",
    "pred_pv"
   ]
  },
  {
   "cell_type": "markdown",
   "metadata": {},
   "source": [
    "The following function plots results from the constant error rate (CER) model."
   ]
  },
  {
   "cell_type": "code",
   "execution_count": 32,
   "metadata": {},
   "outputs": [
    {
     "data": {
      "application/javascript": [
       "\n",
       "            setTimeout(function() {\n",
       "                var nbb_cell_id = 32;\n",
       "                var nbb_unformatted_code = \"def plot_cer_model(pred_pv):\\n    \\\"\\\"\\\"Plot error rates with constant predictive values.\\n\\n    pred_er: DataFrame of predicted error rates\\n    \\\"\\\"\\\"\\n    pred_pv[\\\"ppv\\\"].plot(label=\\\"Predicted PPV\\\", color=\\\"C0\\\")\\n    pred_pv[\\\"npv\\\"].plot(label=\\\"Predicted NPV\\\", color=\\\"C1\\\")\\n    decorate(\\n        xlabel=\\\"Prevalence\\\",\\n        ylabel=\\\"Percent\\\",\\n        title=\\\"Predictive value, constant error rates\\\",\\n    )\";\n",
       "                var nbb_formatted_code = \"def plot_cer_model(pred_pv):\\n    \\\"\\\"\\\"Plot error rates with constant predictive values.\\n\\n    pred_er: DataFrame of predicted error rates\\n    \\\"\\\"\\\"\\n    pred_pv[\\\"ppv\\\"].plot(label=\\\"Predicted PPV\\\", color=\\\"C0\\\")\\n    pred_pv[\\\"npv\\\"].plot(label=\\\"Predicted NPV\\\", color=\\\"C1\\\")\\n    decorate(\\n        xlabel=\\\"Prevalence\\\",\\n        ylabel=\\\"Percent\\\",\\n        title=\\\"Predictive value, constant error rates\\\",\\n    )\";\n",
       "                var nbb_cells = Jupyter.notebook.get_cells();\n",
       "                for (var i = 0; i < nbb_cells.length; ++i) {\n",
       "                    if (nbb_cells[i].input_prompt_number == nbb_cell_id) {\n",
       "                        if (nbb_cells[i].get_text() == nbb_unformatted_code) {\n",
       "                             nbb_cells[i].set_text(nbb_formatted_code);\n",
       "                        }\n",
       "                        break;\n",
       "                    }\n",
       "                }\n",
       "            }, 500);\n",
       "            "
      ],
      "text/plain": [
       "<IPython.core.display.Javascript object>"
      ]
     },
     "metadata": {},
     "output_type": "display_data"
    }
   ],
   "source": [
    "def plot_cer_model(pred_pv):\n",
    "    \"\"\"Plot error rates with constant predictive values.\n",
    "\n",
    "    pred_er: DataFrame of predicted error rates\n",
    "    \"\"\"\n",
    "    pred_pv[\"ppv\"].plot(label=\"Predicted PPV\", color=\"C0\")\n",
    "    pred_pv[\"npv\"].plot(label=\"Predicted NPV\", color=\"C1\")\n",
    "    decorate(\n",
    "        xlabel=\"Prevalence\",\n",
    "        ylabel=\"Percent\",\n",
    "        title=\"Predictive value, constant error rates\",\n",
    "    )"
   ]
  },
  {
   "cell_type": "code",
   "execution_count": 33,
   "metadata": {},
   "outputs": [
    {
     "data": {
      "image/png": "[encoded data removed]",
      "text/plain": [
       "<Figure size 640x480 with 1 Axes>"
      ]
     },
     "metadata": {},
     "output_type": "display_data"
    },
    {
     "data": {
      "application/javascript": [
       "\n",
       "            setTimeout(function() {\n",
       "                var nbb_cell_id = 33;\n",
       "                var nbb_unformatted_code = \"plot_cer_model(pred_pv)\";\n",
       "                var nbb_formatted_code = \"plot_cer_model(pred_pv)\";\n",
       "                var nbb_cells = Jupyter.notebook.get_cells();\n",
       "                for (var i = 0; i < nbb_cells.length; ++i) {\n",
       "                    if (nbb_cells[i].input_prompt_number == nbb_cell_id) {\n",
       "                        if (nbb_cells[i].get_text() == nbb_unformatted_code) {\n",
       "                             nbb_cells[i].set_text(nbb_formatted_code);\n",
       "                        }\n",
       "                        break;\n",
       "                    }\n",
       "                }\n",
       "            }, 500);\n",
       "            "
      ],
      "text/plain": [
       "<IPython.core.display.Javascript object>"
      ]
     },
     "metadata": {},
     "output_type": "display_data"
    }
   ],
   "source": [
    "plot_cer_model(pred_pv)"
   ]
  },
  {
   "cell_type": "markdown",
   "metadata": {},
   "source": [
    "If we hold error rates constant and increase prevalence, PPV increases and NPV decreases.\n",
    "\n",
    "For the COMPAS test, the effect is not as extreme.  The following loop computes the actual predictive values for the three groups."
   ]
  },
  {
   "cell_type": "code",
   "execution_count": 34,
   "metadata": {},
   "outputs": [
    {
     "data": {
      "text/html": [
       "<div>\n",
       "<style scoped>\n",
       "    .dataframe tbody tr th:only-of-type {\n",
       "        vertical-align: middle;\n",
       "    }\n",
       "\n",
       "    .dataframe tbody tr th {\n",
       "        vertical-align: top;\n",
       "    }\n",
       "\n",
       "    .dataframe thead th {\n",
       "        text-align: right;\n",
       "    }\n",
       "</style>\n",
       "<table border=\"1\" class=\"dataframe\">\n",
       "  <thead>\n",
       "    <tr style=\"text-align: right;\">\n",
       "      <th></th>\n",
       "      <th>ppv</th>\n",
       "      <th>npv</th>\n",
       "    </tr>\n",
       "  </thead>\n",
       "  <tbody>\n",
       "    <tr>\n",
       "      <th>39.364303</th>\n",
       "      <td>59.133489</td>\n",
       "      <td>71.187500</td>\n",
       "    </tr>\n",
       "    <tr>\n",
       "      <th>45.065151</th>\n",
       "      <td>61.350618</td>\n",
       "      <td>68.796510</td>\n",
       "    </tr>\n",
       "    <tr>\n",
       "      <th>51.433983</th>\n",
       "      <td>62.971481</td>\n",
       "      <td>65.045992</td>\n",
       "    </tr>\n",
       "  </tbody>\n",
       "</table>\n",
       "</div>"
      ],
      "text/plain": [
       "                 ppv        npv\n",
       "39.364303  59.133489  71.187500\n",
       "45.065151  61.350618  68.796510\n",
       "51.433983  62.971481  65.045992"
      ]
     },
     "execution_count": 34,
     "metadata": {},
     "output_type": "execute_result"
    },
    {
     "data": {
      "application/javascript": [
       "\n",
       "            setTimeout(function() {\n",
       "                var nbb_cell_id = 34;\n",
       "                var nbb_unformatted_code = \"actual_pv = pd.DataFrame(columns=[\\\"ppv\\\", \\\"npv\\\"])\\n\\nfor m in (matrix_white, matrix_all, matrix_black):\\n    prev = prevalence(m)\\n    actual_pv.loc[prev] = predictive_value(m)\\n\\nactual_pv\";\n",
       "                var nbb_formatted_code = \"actual_pv = pd.DataFrame(columns=[\\\"ppv\\\", \\\"npv\\\"])\\n\\nfor m in (matrix_white, matrix_all, matrix_black):\\n    prev = prevalence(m)\\n    actual_pv.loc[prev] = predictive_value(m)\\n\\nactual_pv\";\n",
       "                var nbb_cells = Jupyter.notebook.get_cells();\n",
       "                for (var i = 0; i < nbb_cells.length; ++i) {\n",
       "                    if (nbb_cells[i].input_prompt_number == nbb_cell_id) {\n",
       "                        if (nbb_cells[i].get_text() == nbb_unformatted_code) {\n",
       "                             nbb_cells[i].set_text(nbb_formatted_code);\n",
       "                        }\n",
       "                        break;\n",
       "                    }\n",
       "                }\n",
       "            }, 500);\n",
       "            "
      ],
      "text/plain": [
       "<IPython.core.display.Javascript object>"
      ]
     },
     "metadata": {},
     "output_type": "display_data"
    }
   ],
   "source": [
    "actual_pv = pd.DataFrame(columns=[\"ppv\", \"npv\"])\n",
    "\n",
    "for m in (matrix_white, matrix_all, matrix_black):\n",
    "    prev = prevalence(m)\n",
    "    actual_pv.loc[prev] = predictive_value(m)\n",
    "\n",
    "actual_pv"
   ]
  },
  {
   "cell_type": "markdown",
   "metadata": {},
   "source": [
    "The following figure shows the actual predictive values compared to predictions from the constant error rate (CER) model.\n",
    "\n",
    "The data points show error rates for white defendants (left), all defendants (middle), and black defendants (right).\n",
    "\n",
    "The following figure shows the constant error rate model again, along with actual predictive values for white defendants (left), all defendants (middle), and black defendants (right)."
   ]
  },
  {
   "cell_type": "code",
   "execution_count": 35,
   "metadata": {},
   "outputs": [
    {
     "data": {
      "image/png": "[encoded data removed]",
      "text/plain": [
       "<Figure size 640x480 with 1 Axes>"
      ]
     },
     "metadata": {},
     "output_type": "display_data"
    },
    {
     "data": {
      "application/javascript": [
       "\n",
       "            setTimeout(function() {\n",
       "                var nbb_cell_id = 35;\n",
       "                var nbb_unformatted_code = \"plot_cer_model(pred_pv)\\n\\nactual_pv[\\\"ppv\\\"].plot(marker=\\\"o\\\", linestyle=\\\"dotted\\\", color=\\\"C0\\\", label=\\\"COMPAS PPV\\\")\\n\\nactual_pv[\\\"npv\\\"].plot(marker=\\\"o\\\", linestyle=\\\"dotted\\\", color=\\\"C1\\\", label=\\\"COMPAS NPV\\\")\\n\\ndecorate()\";\n",
       "                var nbb_formatted_code = \"plot_cer_model(pred_pv)\\n\\nactual_pv[\\\"ppv\\\"].plot(marker=\\\"o\\\", linestyle=\\\"dotted\\\", color=\\\"C0\\\", label=\\\"COMPAS PPV\\\")\\n\\nactual_pv[\\\"npv\\\"].plot(marker=\\\"o\\\", linestyle=\\\"dotted\\\", color=\\\"C1\\\", label=\\\"COMPAS NPV\\\")\\n\\ndecorate()\";\n",
       "                var nbb_cells = Jupyter.notebook.get_cells();\n",
       "                for (var i = 0; i < nbb_cells.length; ++i) {\n",
       "                    if (nbb_cells[i].input_prompt_number == nbb_cell_id) {\n",
       "                        if (nbb_cells[i].get_text() == nbb_unformatted_code) {\n",
       "                             nbb_cells[i].set_text(nbb_formatted_code);\n",
       "                        }\n",
       "                        break;\n",
       "                    }\n",
       "                }\n",
       "            }, 500);\n",
       "            "
      ],
      "text/plain": [
       "<IPython.core.display.Javascript object>"
      ]
     },
     "metadata": {},
     "output_type": "display_data"
    }
   ],
   "source": [
    "plot_cer_model(pred_pv)\n",
    "\n",
    "actual_pv[\"ppv\"].plot(marker=\"o\", linestyle=\"dotted\", color=\"C0\", label=\"COMPAS PPV\")\n",
    "\n",
    "actual_pv[\"npv\"].plot(marker=\"o\", linestyle=\"dotted\", color=\"C1\", label=\"COMPAS NPV\")\n",
    "\n",
    "decorate()"
   ]
  },
  {
   "cell_type": "markdown",
   "metadata": {},
   "source": [
    "Again, the test is less sensitive to differences in prevalence between groups than we would expect from the constant error rate model.\n",
    "\n"
   ]
  },
  {
   "cell_type": "markdown",
   "metadata": {},
   "source": [
    "## Constant predictive value model\n",
    "\n",
    "If two groups have difference prevalence, a binary classifier can have the same predictive values (PPV and NPV) for both groups, or the same error rates (FPR and FNR), but not both at the same time.\n",
    "\n",
    "* If we are given predictive values, we can compute error rates for any prevalence.  I call this is the constant predictive value (CPV) model.\n",
    "\n",
    "* If we are given error rates, we can compute predictive values for any prevalence.  I call this the constant error rate (CER) model.\n",
    "\n",
    "In the previous sections, we saw that COMPAS does not follow either model with respect to black and white defendants.  Instead it seems to be \"tempered\", which means that when we compare groups with lower or higher prevalence:\n",
    "\n",
    "* Error rates do not vary as much as the CPV model predicts.\n",
    "\n",
    "* Predictive values do not vary as much as the CER model predicts.\n",
    "\n",
    "The algorithms COMPAS uses are kept secret, so we can't tell whether this behavior is deliberate.\n",
    "\n",
    "But we can get a clue by using the same analysis to compare other groups."
   ]
  },
  {
   "cell_type": "markdown",
   "metadata": {},
   "source": [
    "We'll compare the model with actual error rates for female and male defendants."
   ]
  },
  {
   "cell_type": "code",
   "execution_count": 36,
   "metadata": {},
   "outputs": [
    {
     "data": {
      "application/javascript": [
       "\n",
       "            setTimeout(function() {\n",
       "                var nbb_cell_id = 36;\n",
       "                var nbb_unformatted_code = \"matrix_all = make_matrix(cp)\";\n",
       "                var nbb_formatted_code = \"matrix_all = make_matrix(cp)\";\n",
       "                var nbb_cells = Jupyter.notebook.get_cells();\n",
       "                for (var i = 0; i < nbb_cells.length; ++i) {\n",
       "                    if (nbb_cells[i].input_prompt_number == nbb_cell_id) {\n",
       "                        if (nbb_cells[i].get_text() == nbb_unformatted_code) {\n",
       "                             nbb_cells[i].set_text(nbb_formatted_code);\n",
       "                        }\n",
       "                        break;\n",
       "                    }\n",
       "                }\n",
       "            }, 500);\n",
       "            "
      ],
      "text/plain": [
       "<IPython.core.display.Javascript object>"
      ]
     },
     "metadata": {},
     "output_type": "display_data"
    }
   ],
   "source": [
    "matrix_all = make_matrix(cp)"
   ]
  },
  {
   "cell_type": "code",
   "execution_count": 37,
   "metadata": {},
   "outputs": [
    {
     "data": {
      "application/javascript": [
       "\n",
       "            setTimeout(function() {\n",
       "                var nbb_cell_id = 37;\n",
       "                var nbb_unformatted_code = \"male = cp[\\\"sex\\\"] == \\\"Male\\\"\\nmatrix_male = make_matrix(cp[male])\";\n",
       "                var nbb_formatted_code = \"male = cp[\\\"sex\\\"] == \\\"Male\\\"\\nmatrix_male = make_matrix(cp[male])\";\n",
       "                var nbb_cells = Jupyter.notebook.get_cells();\n",
       "                for (var i = 0; i < nbb_cells.length; ++i) {\n",
       "                    if (nbb_cells[i].input_prompt_number == nbb_cell_id) {\n",
       "                        if (nbb_cells[i].get_text() == nbb_unformatted_code) {\n",
       "                             nbb_cells[i].set_text(nbb_formatted_code);\n",
       "                        }\n",
       "                        break;\n",
       "                    }\n",
       "                }\n",
       "            }, 500);\n",
       "            "
      ],
      "text/plain": [
       "<IPython.core.display.Javascript object>"
      ]
     },
     "metadata": {},
     "output_type": "display_data"
    }
   ],
   "source": [
    "male = cp[\"sex\"] == \"Male\"\n",
    "matrix_male = make_matrix(cp[male])"
   ]
  },
  {
   "cell_type": "code",
   "execution_count": 38,
   "metadata": {},
   "outputs": [
    {
     "data": {
      "application/javascript": [
       "\n",
       "            setTimeout(function() {\n",
       "                var nbb_cell_id = 38;\n",
       "                var nbb_unformatted_code = \"female = cp[\\\"sex\\\"] == \\\"Female\\\"\\nmatrix_female = make_matrix(cp[female])\";\n",
       "                var nbb_formatted_code = \"female = cp[\\\"sex\\\"] == \\\"Female\\\"\\nmatrix_female = make_matrix(cp[female])\";\n",
       "                var nbb_cells = Jupyter.notebook.get_cells();\n",
       "                for (var i = 0; i < nbb_cells.length; ++i) {\n",
       "                    if (nbb_cells[i].input_prompt_number == nbb_cell_id) {\n",
       "                        if (nbb_cells[i].get_text() == nbb_unformatted_code) {\n",
       "                             nbb_cells[i].set_text(nbb_formatted_code);\n",
       "                        }\n",
       "                        break;\n",
       "                    }\n",
       "                }\n",
       "            }, 500);\n",
       "            "
      ],
      "text/plain": [
       "<IPython.core.display.Javascript object>"
      ]
     },
     "metadata": {},
     "output_type": "display_data"
    }
   ],
   "source": [
    "female = cp[\"sex\"] == \"Female\"\n",
    "matrix_female = make_matrix(cp[female])"
   ]
  },
  {
   "cell_type": "code",
   "execution_count": 39,
   "metadata": {},
   "outputs": [
    {
     "data": {
      "text/html": [
       "<div>\n",
       "<style scoped>\n",
       "    .dataframe tbody tr th:only-of-type {\n",
       "        vertical-align: middle;\n",
       "    }\n",
       "\n",
       "    .dataframe tbody tr th {\n",
       "        vertical-align: top;\n",
       "    }\n",
       "\n",
       "    .dataframe thead th {\n",
       "        text-align: right;\n",
       "    }\n",
       "</style>\n",
       "<table border=\"1\" class=\"dataframe\">\n",
       "  <thead>\n",
       "    <tr style=\"text-align: right;\">\n",
       "      <th></th>\n",
       "      <th>fpr</th>\n",
       "      <th>fnr</th>\n",
       "    </tr>\n",
       "  </thead>\n",
       "  <tbody>\n",
       "    <tr>\n",
       "      <th>35.698925</th>\n",
       "      <td>32.107023</td>\n",
       "      <td>39.156627</td>\n",
       "    </tr>\n",
       "    <tr>\n",
       "      <th>45.065151</th>\n",
       "      <td>32.349230</td>\n",
       "      <td>37.403876</td>\n",
       "    </tr>\n",
       "    <tr>\n",
       "      <th>47.310534</th>\n",
       "      <td>32.420091</td>\n",
       "      <td>37.086814</td>\n",
       "    </tr>\n",
       "  </tbody>\n",
       "</table>\n",
       "</div>"
      ],
      "text/plain": [
       "                 fpr        fnr\n",
       "35.698925  32.107023  39.156627\n",
       "45.065151  32.349230  37.403876\n",
       "47.310534  32.420091  37.086814"
      ]
     },
     "execution_count": 39,
     "metadata": {},
     "output_type": "execute_result"
    },
    {
     "data": {
      "application/javascript": [
       "\n",
       "            setTimeout(function() {\n",
       "                var nbb_cell_id = 39;\n",
       "                var nbb_unformatted_code = \"actual_er = pd.DataFrame(columns=[\\\"fpr\\\", \\\"fnr\\\"])\\n\\nfor m in (matrix_female, matrix_all, matrix_male):\\n    prev = prevalence(m)\\n    actual_er.loc[prev] = error_rates(m)\\n\\nactual_er\";\n",
       "                var nbb_formatted_code = \"actual_er = pd.DataFrame(columns=[\\\"fpr\\\", \\\"fnr\\\"])\\n\\nfor m in (matrix_female, matrix_all, matrix_male):\\n    prev = prevalence(m)\\n    actual_er.loc[prev] = error_rates(m)\\n\\nactual_er\";\n",
       "                var nbb_cells = Jupyter.notebook.get_cells();\n",
       "                for (var i = 0; i < nbb_cells.length; ++i) {\n",
       "                    if (nbb_cells[i].input_prompt_number == nbb_cell_id) {\n",
       "                        if (nbb_cells[i].get_text() == nbb_unformatted_code) {\n",
       "                             nbb_cells[i].set_text(nbb_formatted_code);\n",
       "                        }\n",
       "                        break;\n",
       "                    }\n",
       "                }\n",
       "            }, 500);\n",
       "            "
      ],
      "text/plain": [
       "<IPython.core.display.Javascript object>"
      ]
     },
     "metadata": {},
     "output_type": "display_data"
    }
   ],
   "source": [
    "actual_er = pd.DataFrame(columns=[\"fpr\", \"fnr\"])\n",
    "\n",
    "for m in (matrix_female, matrix_all, matrix_male):\n",
    "    prev = prevalence(m)\n",
    "    actual_er.loc[prev] = error_rates(m)\n",
    "\n",
    "actual_er"
   ]
  },
  {
   "cell_type": "markdown",
   "metadata": {},
   "source": [
    "The following figure compares predictions from the CPV model to actual error rates for female defendants (on the left), all defendants (in the middle), and male defendants (on the right)."
   ]
  },
  {
   "cell_type": "code",
   "execution_count": 40,
   "metadata": {},
   "outputs": [
    {
     "data": {
      "image/png": "[encoded data removed]",
      "text/plain": [
       "<Figure size 640x480 with 1 Axes>"
      ]
     },
     "metadata": {},
     "output_type": "display_data"
    },
    {
     "data": {
      "application/javascript": [
       "\n",
       "            setTimeout(function() {\n",
       "                var nbb_cell_id = 40;\n",
       "                var nbb_unformatted_code = \"plot_cpv_model(pred_er)\\n\\nactual_er[\\\"fpr\\\"].plot(marker=\\\"o\\\", linestyle=\\\"dotted\\\", color=\\\"C2\\\", label=\\\"COMPAS FPR\\\")\\n\\nactual_er[\\\"fnr\\\"].plot(marker=\\\"o\\\", linestyle=\\\"dotted\\\", color=\\\"C4\\\", label=\\\"COMPAS FNR\\\")\\n\\ndecorate()\";\n",
       "                var nbb_formatted_code = \"plot_cpv_model(pred_er)\\n\\nactual_er[\\\"fpr\\\"].plot(marker=\\\"o\\\", linestyle=\\\"dotted\\\", color=\\\"C2\\\", label=\\\"COMPAS FPR\\\")\\n\\nactual_er[\\\"fnr\\\"].plot(marker=\\\"o\\\", linestyle=\\\"dotted\\\", color=\\\"C4\\\", label=\\\"COMPAS FNR\\\")\\n\\ndecorate()\";\n",
       "                var nbb_cells = Jupyter.notebook.get_cells();\n",
       "                for (var i = 0; i < nbb_cells.length; ++i) {\n",
       "                    if (nbb_cells[i].input_prompt_number == nbb_cell_id) {\n",
       "                        if (nbb_cells[i].get_text() == nbb_unformatted_code) {\n",
       "                             nbb_cells[i].set_text(nbb_formatted_code);\n",
       "                        }\n",
       "                        break;\n",
       "                    }\n",
       "                }\n",
       "            }, 500);\n",
       "            "
      ],
      "text/plain": [
       "<IPython.core.display.Javascript object>"
      ]
     },
     "metadata": {},
     "output_type": "display_data"
    }
   ],
   "source": [
    "plot_cpv_model(pred_er)\n",
    "\n",
    "actual_er[\"fpr\"].plot(marker=\"o\", linestyle=\"dotted\", color=\"C2\", label=\"COMPAS FPR\")\n",
    "\n",
    "actual_er[\"fnr\"].plot(marker=\"o\", linestyle=\"dotted\", color=\"C4\", label=\"COMPAS FNR\")\n",
    "\n",
    "decorate()"
   ]
  },
  {
   "cell_type": "markdown",
   "metadata": {},
   "source": [
    "Although male and female defendants have very difference prevalences (rates of recidivism), their error rates are almost the same.\n",
    "\n",
    "This is the \"natural\" behavior we should expect from a test that does not depend on sex.\n",
    "\n",
    "Let's look again at the definition of FP rate and FN rate in this table.\n",
    "\n",
    "\n",
    "|                              | **Pred positive (PP)**         | **Pred negative (PN)**         |                               |                              |\n",
    "|------------------------------|-------------------------------------|-------------------------------------|--------------------------------|------------------------------|\n",
    "| **Actual positive (P)**      | True positive (TP)                  | False negative (FN)                 | Sensitivity = TP / P            | FN rate = FN / P |\n",
    "| **Actual negative (N)**      | False positive (FP)                 | True negative (TN)                  | FP rate = FP / N   | Specificity = TN / N         |\n",
    "| Prevalence = P / (P + N) | PPV = TP / PP | NPV = TN / PN || Acc = (TP + TN) / (P + N) |\n",
    "\n",
    "\n",
    "We see that FN rate depends only on people in the positive condition (people who will recidivate) and FP rate depends only on people in the negative condition (people who will \"survive\" without being charged with another crime).\n",
    "\n",
    "Neither error rate depends on how many people are in each condition, so if the test is sex blind, it should have the same error rates for both sexes, regardless of prevalence."
   ]
  },
  {
   "cell_type": "markdown",
   "metadata": {},
   "source": [
    "## Constant error rate model\n",
    "\n",
    "The previous section shows the COMPAS has the same error rates for male and female defendants, even though they have substantially difference prevalences.\n",
    "\n",
    "So we expected the test to have different predictive values for these groups.  To confirm that I'll compute the actual predictive values and compare them to the CER model."
   ]
  },
  {
   "cell_type": "markdown",
   "metadata": {},
   "source": [
    "The I'll use the CER model to compute PPV and NPV for a range of prevalences."
   ]
  },
  {
   "cell_type": "markdown",
   "metadata": {},
   "source": [
    "Here are the actual values for male and female defendants."
   ]
  },
  {
   "cell_type": "code",
   "execution_count": 41,
   "metadata": {},
   "outputs": [
    {
     "data": {
      "text/html": [
       "<div>\n",
       "<style scoped>\n",
       "    .dataframe tbody tr th:only-of-type {\n",
       "        vertical-align: middle;\n",
       "    }\n",
       "\n",
       "    .dataframe tbody tr th {\n",
       "        vertical-align: top;\n",
       "    }\n",
       "\n",
       "    .dataframe thead th {\n",
       "        text-align: right;\n",
       "    }\n",
       "</style>\n",
       "<table border=\"1\" class=\"dataframe\">\n",
       "  <thead>\n",
       "    <tr style=\"text-align: right;\">\n",
       "      <th></th>\n",
       "      <th>ppv</th>\n",
       "      <th>npv</th>\n",
       "    </tr>\n",
       "  </thead>\n",
       "  <tbody>\n",
       "    <tr>\n",
       "      <th>35.698925</th>\n",
       "      <td>51.269036</td>\n",
       "      <td>75.746269</td>\n",
       "    </tr>\n",
       "    <tr>\n",
       "      <th>45.065151</th>\n",
       "      <td>61.350618</td>\n",
       "      <td>68.796510</td>\n",
       "    </tr>\n",
       "    <tr>\n",
       "      <th>47.310534</th>\n",
       "      <td>63.536317</td>\n",
       "      <td>66.989977</td>\n",
       "    </tr>\n",
       "  </tbody>\n",
       "</table>\n",
       "</div>"
      ],
      "text/plain": [
       "                 ppv        npv\n",
       "35.698925  51.269036  75.746269\n",
       "45.065151  61.350618  68.796510\n",
       "47.310534  63.536317  66.989977"
      ]
     },
     "execution_count": 41,
     "metadata": {},
     "output_type": "execute_result"
    },
    {
     "data": {
      "application/javascript": [
       "\n",
       "            setTimeout(function() {\n",
       "                var nbb_cell_id = 41;\n",
       "                var nbb_unformatted_code = \"actual_pv = pd.DataFrame(columns=[\\\"ppv\\\", \\\"npv\\\"])\\n\\nfor m in (matrix_female, matrix_all, matrix_male):\\n    prev = prevalence(m)\\n    actual_pv.loc[prev] = predictive_value(m)\\n\\nactual_pv\";\n",
       "                var nbb_formatted_code = \"actual_pv = pd.DataFrame(columns=[\\\"ppv\\\", \\\"npv\\\"])\\n\\nfor m in (matrix_female, matrix_all, matrix_male):\\n    prev = prevalence(m)\\n    actual_pv.loc[prev] = predictive_value(m)\\n\\nactual_pv\";\n",
       "                var nbb_cells = Jupyter.notebook.get_cells();\n",
       "                for (var i = 0; i < nbb_cells.length; ++i) {\n",
       "                    if (nbb_cells[i].input_prompt_number == nbb_cell_id) {\n",
       "                        if (nbb_cells[i].get_text() == nbb_unformatted_code) {\n",
       "                             nbb_cells[i].set_text(nbb_formatted_code);\n",
       "                        }\n",
       "                        break;\n",
       "                    }\n",
       "                }\n",
       "            }, 500);\n",
       "            "
      ],
      "text/plain": [
       "<IPython.core.display.Javascript object>"
      ]
     },
     "metadata": {},
     "output_type": "display_data"
    }
   ],
   "source": [
    "actual_pv = pd.DataFrame(columns=[\"ppv\", \"npv\"])\n",
    "\n",
    "for m in (matrix_female, matrix_all, matrix_male):\n",
    "    prev = prevalence(m)\n",
    "    actual_pv.loc[prev] = predictive_value(m)\n",
    "\n",
    "actual_pv"
   ]
  },
  {
   "cell_type": "markdown",
   "metadata": {},
   "source": [
    "The following figure compares the actual values to the CER model."
   ]
  },
  {
   "cell_type": "code",
   "execution_count": 42,
   "metadata": {},
   "outputs": [
    {
     "data": {
      "image/png": "[encoded data removed]",
      "text/plain": [
       "<Figure size 640x480 with 1 Axes>"
      ]
     },
     "metadata": {},
     "output_type": "display_data"
    },
    {
     "data": {
      "application/javascript": [
       "\n",
       "            setTimeout(function() {\n",
       "                var nbb_cell_id = 42;\n",
       "                var nbb_unformatted_code = \"plot_cer_model(pred_pv)\\n\\nactual_pv[\\\"ppv\\\"].plot(marker=\\\"o\\\", linestyle=\\\"dotted\\\", color=\\\"C0\\\", label=\\\"COMPAS PPV\\\")\\n\\nactual_pv[\\\"npv\\\"].plot(marker=\\\"o\\\", linestyle=\\\"dotted\\\", color=\\\"C1\\\", label=\\\"COMPAS NPV\\\")\\n\\ndecorate()\";\n",
       "                var nbb_formatted_code = \"plot_cer_model(pred_pv)\\n\\nactual_pv[\\\"ppv\\\"].plot(marker=\\\"o\\\", linestyle=\\\"dotted\\\", color=\\\"C0\\\", label=\\\"COMPAS PPV\\\")\\n\\nactual_pv[\\\"npv\\\"].plot(marker=\\\"o\\\", linestyle=\\\"dotted\\\", color=\\\"C1\\\", label=\\\"COMPAS NPV\\\")\\n\\ndecorate()\";\n",
       "                var nbb_cells = Jupyter.notebook.get_cells();\n",
       "                for (var i = 0; i < nbb_cells.length; ++i) {\n",
       "                    if (nbb_cells[i].input_prompt_number == nbb_cell_id) {\n",
       "                        if (nbb_cells[i].get_text() == nbb_unformatted_code) {\n",
       "                             nbb_cells[i].set_text(nbb_formatted_code);\n",
       "                        }\n",
       "                        break;\n",
       "                    }\n",
       "                }\n",
       "            }, 500);\n",
       "            "
      ],
      "text/plain": [
       "<IPython.core.display.Javascript object>"
      ]
     },
     "metadata": {},
     "output_type": "display_data"
    }
   ],
   "source": [
    "plot_cer_model(pred_pv)\n",
    "\n",
    "actual_pv[\"ppv\"].plot(marker=\"o\", linestyle=\"dotted\", color=\"C0\", label=\"COMPAS PPV\")\n",
    "\n",
    "actual_pv[\"npv\"].plot(marker=\"o\", linestyle=\"dotted\", color=\"C1\", label=\"COMPAS NPV\")\n",
    "\n",
    "decorate()"
   ]
  },
  {
   "cell_type": "markdown",
   "metadata": {},
   "source": [
    "Recidivism Case Study\n",
    "\n",
    "Copyright 2020 Allen B. Downey\n",
    "\n",
    "License: [Attribution-NonCommercial-ShareAlike 4.0 International (CC BY-NC-SA 4.0)](https://creativecommons.org/licenses/by-nc-sa/4.0/)"
   ]
  },
  {
   "cell_type": "code",
   "execution_count": null,
   "metadata": {},
   "outputs": [],
   "source": []
  }
 ],
 "metadata": {
  "celltoolbar": "Tags",
  "kernelspec": {
   "display_name": "Python 3 (ipykernel)",
   "language": "python",
   "name": "python3"
  },
  "language_info": {
   "codemirror_mode": {
    "name": "ipython",
    "version": 3
   },
   "file_extension": ".py",
   "mimetype": "text/x-python",
   "name": "python",
   "nbconvert_exporter": "python",
   "pygments_lexer": "ipython3",
   "version": "3.10.14"
  }
 },
 "nbformat": 4,
 "nbformat_minor": 4
}
